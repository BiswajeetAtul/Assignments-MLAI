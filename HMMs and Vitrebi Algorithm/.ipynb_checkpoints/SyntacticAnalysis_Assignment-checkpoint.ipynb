{
 "cells": [
  {
   "cell_type": "markdown",
   "metadata": {},
   "source": [
    "# Hidden Markov Models, Vitrebi Algorithm"
   ]
  },
  {
   "cell_type": "markdown",
   "metadata": {},
   "source": [
    "# Problem Statement:"
   ]
  },
  {
   "cell_type": "markdown",
   "metadata": {},
   "source": [
    "## Modify the Viterbi algorithm to solve the problem of unknown words using at least two techniques. \n",
    "\n",
    "\n",
    "1. Which tag class do you think most unknown words belong to? Can you identify rules (e.g. based on morphological cues) that can be used to tag unknown words? You may define separate python functions to exploit these rules so that they work in tandem with the original Viterbi algorithm.\n",
    "2. Why does the Viterbi algorithm choose a random tag on encountering an unknown word? Can you modify the Viterbi algorithm so that it considers only one of the transition or emission probabilities for unknown words?"
   ]
  },
  {
   "cell_type": "markdown",
   "metadata": {},
   "source": [
    "Importing the necessary libraries"
   ]
  },
  {
   "cell_type": "code",
   "execution_count": 2,
   "metadata": {},
   "outputs": [],
   "source": [
    "import numpy as np\n",
    "import pandas as pd\n",
    "import random\n",
    "import re\n",
    "import time\n",
    "import matplotlib.pyplot as plt\n",
    "import seaborn as sns\n",
    "import pprint\n",
    "from sklearn.model_selection import train_test_split"
   ]
  },
  {
   "cell_type": "code",
   "execution_count": 3,
   "metadata": {},
   "outputs": [
    {
     "name": "stderr",
     "output_type": "stream",
     "text": [
      "[nltk_data] Downloading package treebank to\n",
      "[nltk_data]     C:\\Users\\Biswajeet\\AppData\\Roaming\\nltk_data...\n",
      "[nltk_data]   Package treebank is already up-to-date!\n",
      "[nltk_data] Downloading package universal_tagset to\n",
      "[nltk_data]     C:\\Users\\Biswajeet\\AppData\\Roaming\\nltk_data...\n",
      "[nltk_data]   Package universal_tagset is already up-to-date!\n"
     ]
    }
   ],
   "source": [
    "#Importing NLTK libraries and resources\n",
    "import nltk\n",
    "from nltk import pos_tag # to find the correct tags of the test dataset in order to measure the accuracy of created model\n",
    "nltk.download('treebank')\n",
    "nltk.download('universal_tagset')\n",
    "from nltk.tokenize import word_tokenize"
   ]
  },
  {
   "cell_type": "markdown",
   "metadata": {},
   "source": [
    "Creating a pretty printer to pretty print the dataset"
   ]
  },
  {
   "cell_type": "code",
   "execution_count": 4,
   "metadata": {},
   "outputs": [],
   "source": [
    "pp=pprint.PrettyPrinter()"
   ]
  },
  {
   "cell_type": "markdown",
   "metadata": {},
   "source": [
    "Getting the Dataset **Treebank**"
   ]
  },
  {
   "cell_type": "code",
   "execution_count": 5,
   "metadata": {},
   "outputs": [],
   "source": [
    "# reading the Treebank tagged with universal tagset\n",
    "universalTreebankDataset = list(nltk.corpus.treebank.tagged_sents(tagset='universal'))"
   ]
  },
  {
   "cell_type": "code",
   "execution_count": 6,
   "metadata": {
    "collapsed": true
   },
   "outputs": [
    {
     "name": "stdout",
     "output_type": "stream",
     "text": [
      "[[('Pierre', 'NOUN'),\n",
      "  ('Vinken', 'NOUN'),\n",
      "  (',', '.'),\n",
      "  ('61', 'NUM'),\n",
      "  ('years', 'NOUN'),\n",
      "  ('old', 'ADJ'),\n",
      "  (',', '.'),\n",
      "  ('will', 'VERB'),\n",
      "  ('join', 'VERB'),\n",
      "  ('the', 'DET'),\n",
      "  ('board', 'NOUN'),\n",
      "  ('as', 'ADP'),\n",
      "  ('a', 'DET'),\n",
      "  ('nonexecutive', 'ADJ'),\n",
      "  ('director', 'NOUN'),\n",
      "  ('Nov.', 'NOUN'),\n",
      "  ('29', 'NUM'),\n",
      "  ('.', '.')],\n",
      " [('Mr.', 'NOUN'),\n",
      "  ('Vinken', 'NOUN'),\n",
      "  ('is', 'VERB'),\n",
      "  ('chairman', 'NOUN'),\n",
      "  ('of', 'ADP'),\n",
      "  ('Elsevier', 'NOUN'),\n",
      "  ('N.V.', 'NOUN'),\n",
      "  (',', '.'),\n",
      "  ('the', 'DET'),\n",
      "  ('Dutch', 'NOUN'),\n",
      "  ('publishing', 'VERB'),\n",
      "  ('group', 'NOUN'),\n",
      "  ('.', '.')],\n",
      " [('Rudolph', 'NOUN'),\n",
      "  ('Agnew', 'NOUN'),\n",
      "  (',', '.'),\n",
      "  ('55', 'NUM'),\n",
      "  ('years', 'NOUN'),\n",
      "  ('old', 'ADJ'),\n",
      "  ('and', 'CONJ'),\n",
      "  ('former', 'ADJ'),\n",
      "  ('chairman', 'NOUN'),\n",
      "  ('of', 'ADP'),\n",
      "  ('Consolidated', 'NOUN'),\n",
      "  ('Gold', 'NOUN'),\n",
      "  ('Fields', 'NOUN'),\n",
      "  ('PLC', 'NOUN'),\n",
      "  (',', '.'),\n",
      "  ('was', 'VERB'),\n",
      "  ('named', 'VERB'),\n",
      "  ('*-1', 'X'),\n",
      "  ('a', 'DET'),\n",
      "  ('nonexecutive', 'ADJ'),\n",
      "  ('director', 'NOUN'),\n",
      "  ('of', 'ADP'),\n",
      "  ('this', 'DET'),\n",
      "  ('British', 'ADJ'),\n",
      "  ('industrial', 'ADJ'),\n",
      "  ('conglomerate', 'NOUN'),\n",
      "  ('.', '.')],\n",
      " [('A', 'DET'),\n",
      "  ('form', 'NOUN'),\n",
      "  ('of', 'ADP'),\n",
      "  ('asbestos', 'NOUN'),\n",
      "  ('once', 'ADV'),\n",
      "  ('used', 'VERB'),\n",
      "  ('*', 'X'),\n",
      "  ('*', 'X'),\n",
      "  ('to', 'PRT'),\n",
      "  ('make', 'VERB'),\n",
      "  ('Kent', 'NOUN'),\n",
      "  ('cigarette', 'NOUN'),\n",
      "  ('filters', 'NOUN'),\n",
      "  ('has', 'VERB'),\n",
      "  ('caused', 'VERB'),\n",
      "  ('a', 'DET'),\n",
      "  ('high', 'ADJ'),\n",
      "  ('percentage', 'NOUN'),\n",
      "  ('of', 'ADP'),\n",
      "  ('cancer', 'NOUN'),\n",
      "  ('deaths', 'NOUN'),\n",
      "  ('among', 'ADP'),\n",
      "  ('a', 'DET'),\n",
      "  ('group', 'NOUN'),\n",
      "  ('of', 'ADP'),\n",
      "  ('workers', 'NOUN'),\n",
      "  ('exposed', 'VERB'),\n",
      "  ('*', 'X'),\n",
      "  ('to', 'PRT'),\n",
      "  ('it', 'PRON'),\n",
      "  ('more', 'ADV'),\n",
      "  ('than', 'ADP'),\n",
      "  ('30', 'NUM'),\n",
      "  ('years', 'NOUN'),\n",
      "  ('ago', 'ADP'),\n",
      "  (',', '.'),\n",
      "  ('researchers', 'NOUN'),\n",
      "  ('reported', 'VERB'),\n",
      "  ('0', 'X'),\n",
      "  ('*T*-1', 'X'),\n",
      "  ('.', '.')],\n",
      " [('The', 'DET'),\n",
      "  ('asbestos', 'NOUN'),\n",
      "  ('fiber', 'NOUN'),\n",
      "  (',', '.'),\n",
      "  ('crocidolite', 'NOUN'),\n",
      "  (',', '.'),\n",
      "  ('is', 'VERB'),\n",
      "  ('unusually', 'ADV'),\n",
      "  ('resilient', 'ADJ'),\n",
      "  ('once', 'ADP'),\n",
      "  ('it', 'PRON'),\n",
      "  ('enters', 'VERB'),\n",
      "  ('the', 'DET'),\n",
      "  ('lungs', 'NOUN'),\n",
      "  (',', '.'),\n",
      "  ('with', 'ADP'),\n",
      "  ('even', 'ADV'),\n",
      "  ('brief', 'ADJ'),\n",
      "  ('exposures', 'NOUN'),\n",
      "  ('to', 'PRT'),\n",
      "  ('it', 'PRON'),\n",
      "  ('causing', 'VERB'),\n",
      "  ('symptoms', 'NOUN'),\n",
      "  ('that', 'DET'),\n",
      "  ('*T*-1', 'X'),\n",
      "  ('show', 'VERB'),\n",
      "  ('up', 'PRT'),\n",
      "  ('decades', 'NOUN'),\n",
      "  ('later', 'ADJ'),\n",
      "  (',', '.'),\n",
      "  ('researchers', 'NOUN'),\n",
      "  ('said', 'VERB'),\n",
      "  ('0', 'X'),\n",
      "  ('*T*-2', 'X'),\n",
      "  ('.', '.')],\n",
      " [('Lorillard', 'NOUN'),\n",
      "  ('Inc.', 'NOUN'),\n",
      "  (',', '.'),\n",
      "  ('the', 'DET'),\n",
      "  ('unit', 'NOUN'),\n",
      "  ('of', 'ADP'),\n",
      "  ('New', 'ADJ'),\n",
      "  ('York-based', 'ADJ'),\n",
      "  ('Loews', 'NOUN'),\n",
      "  ('Corp.', 'NOUN'),\n",
      "  ('that', 'DET'),\n",
      "  ('*T*-2', 'X'),\n",
      "  ('makes', 'VERB'),\n",
      "  ('Kent', 'NOUN'),\n",
      "  ('cigarettes', 'NOUN'),\n",
      "  (',', '.'),\n",
      "  ('stopped', 'VERB'),\n",
      "  ('using', 'VERB'),\n",
      "  ('crocidolite', 'NOUN'),\n",
      "  ('in', 'ADP'),\n",
      "  ('its', 'PRON'),\n",
      "  ('Micronite', 'NOUN'),\n",
      "  ('cigarette', 'NOUN'),\n",
      "  ('filters', 'NOUN'),\n",
      "  ('in', 'ADP'),\n",
      "  ('1956', 'NUM'),\n",
      "  ('.', '.')],\n",
      " [('Although', 'ADP'),\n",
      "  ('preliminary', 'ADJ'),\n",
      "  ('findings', 'NOUN'),\n",
      "  ('were', 'VERB'),\n",
      "  ('reported', 'VERB'),\n",
      "  ('*-2', 'X'),\n",
      "  ('more', 'ADV'),\n",
      "  ('than', 'ADP'),\n",
      "  ('a', 'DET'),\n",
      "  ('year', 'NOUN'),\n",
      "  ('ago', 'ADP'),\n",
      "  (',', '.'),\n",
      "  ('the', 'DET'),\n",
      "  ('latest', 'ADJ'),\n",
      "  ('results', 'NOUN'),\n",
      "  ('appear', 'VERB'),\n",
      "  ('in', 'ADP'),\n",
      "  ('today', 'NOUN'),\n",
      "  (\"'s\", 'PRT'),\n",
      "  ('New', 'NOUN'),\n",
      "  ('England', 'NOUN'),\n",
      "  ('Journal', 'NOUN'),\n",
      "  ('of', 'ADP'),\n",
      "  ('Medicine', 'NOUN'),\n",
      "  (',', '.'),\n",
      "  ('a', 'DET'),\n",
      "  ('forum', 'NOUN'),\n",
      "  ('likely', 'ADJ'),\n",
      "  ('*', 'X'),\n",
      "  ('to', 'PRT'),\n",
      "  ('bring', 'VERB'),\n",
      "  ('new', 'ADJ'),\n",
      "  ('attention', 'NOUN'),\n",
      "  ('to', 'PRT'),\n",
      "  ('the', 'DET'),\n",
      "  ('problem', 'NOUN'),\n",
      "  ('.', '.')],\n",
      " [('A', 'DET'),\n",
      "  ('Lorillard', 'NOUN'),\n",
      "  ('spokewoman', 'NOUN'),\n",
      "  ('said', 'VERB'),\n",
      "  (',', '.'),\n",
      "  ('``', '.'),\n",
      "  ('This', 'DET'),\n",
      "  ('is', 'VERB'),\n",
      "  ('an', 'DET'),\n",
      "  ('old', 'ADJ'),\n",
      "  ('story', 'NOUN'),\n",
      "  ('.', '.')],\n",
      " [('We', 'PRON'),\n",
      "  (\"'re\", 'VERB'),\n",
      "  ('talking', 'VERB'),\n",
      "  ('about', 'ADP'),\n",
      "  ('years', 'NOUN'),\n",
      "  ('ago', 'ADP'),\n",
      "  ('before', 'ADP'),\n",
      "  ('anyone', 'NOUN'),\n",
      "  ('heard', 'VERB'),\n",
      "  ('of', 'ADP'),\n",
      "  ('asbestos', 'NOUN'),\n",
      "  ('having', 'VERB'),\n",
      "  ('any', 'DET'),\n",
      "  ('questionable', 'ADJ'),\n",
      "  ('properties', 'NOUN'),\n",
      "  ('.', '.')],\n",
      " [('There', 'DET'),\n",
      "  ('is', 'VERB'),\n",
      "  ('no', 'DET'),\n",
      "  ('asbestos', 'NOUN'),\n",
      "  ('in', 'ADP'),\n",
      "  ('our', 'PRON'),\n",
      "  ('products', 'NOUN'),\n",
      "  ('now', 'ADV'),\n",
      "  ('.', '.'),\n",
      "  (\"''\", '.')]]\n"
     ]
    }
   ],
   "source": [
    "pp.pprint(universalTreebankDataset[:10])"
   ]
  },
  {
   "cell_type": "markdown",
   "metadata": {},
   "source": [
    "**Creating the test and validation dataset with 95:5 ratio:**"
   ]
  },
  {
   "cell_type": "code",
   "execution_count": 9,
   "metadata": {},
   "outputs": [
    {
     "name": "stdout",
     "output_type": "stream",
     "text": [
      "LENGTH OF TRAIN SET: 3718\n",
      "LENGTH OF VALIDATION SET: 196\n"
     ]
    }
   ],
   "source": [
    "#test-train split: 95-5\n",
    "train_set, validation_set = train_test_split(universalTreebankDataset,test_size=0.05,random_state=1331,shuffle=True)\n",
    "print(\"LENGTH OF TRAIN SET: \"+str(len(train_set)))\n",
    "print(\"LENGTH OF VALIDATION SET: \"+str(len(validation_set)))"
   ]
  },
  {
   "cell_type": "markdown",
   "metadata": {},
   "source": [
    "Looking into both the partitions:"
   ]
  },
  {
   "cell_type": "code",
   "execution_count": 10,
   "metadata": {},
   "outputs": [
    {
     "name": "stdout",
     "output_type": "stream",
     "text": [
      "[[('There', 'DET'),\n",
      "  (\"'s\", 'VERB'),\n",
      "  ('never', 'ADV'),\n",
      "  ('been', 'VERB'),\n",
      "  ('an', 'DET'),\n",
      "  ('exception', 'NOUN'),\n",
      "  (',', '.'),\n",
      "  (\"''\", '.'),\n",
      "  ('says', 'VERB'),\n",
      "  ('0', 'X'),\n",
      "  ('*T*-1', 'X'),\n",
      "  ('Gerald', 'NOUN'),\n",
      "  ('W.', 'NOUN'),\n",
      "  ('Perritt', 'NOUN'),\n",
      "  (',', '.'),\n",
      "  ('a', 'DET'),\n",
      "  ('Chicago', 'NOUN'),\n",
      "  ('investment', 'NOUN'),\n",
      "  ('adviser', 'NOUN'),\n",
      "  ('and', 'CONJ'),\n",
      "  ('money', 'NOUN'),\n",
      "  ('manager', 'NOUN'),\n",
      "  (',', '.'),\n",
      "  ('based', 'VERB'),\n",
      "  ('on', 'ADP'),\n",
      "  ('a', 'DET'),\n",
      "  ('review', 'NOUN'),\n",
      "  ('of', 'ADP'),\n",
      "  ('six', 'NUM'),\n",
      "  ('decades', 'NOUN'),\n",
      "  ('of', 'ADP'),\n",
      "  ('stock-market', 'NOUN'),\n",
      "  ('data', 'NOUN'),\n",
      "  ('.', '.')],\n",
      " [('The', 'DET'),\n",
      "  ('vicar', 'NOUN'),\n",
      "  (',', '.'),\n",
      "  ('W.D.', 'NOUN'),\n",
      "  ('Jones', 'NOUN'),\n",
      "  (',', '.'),\n",
      "  ('refuses', 'VERB'),\n",
      "  ('*-1', 'X'),\n",
      "  ('to', 'PRT'),\n",
      "  ('talk', 'VERB'),\n",
      "  ('about', 'ADP'),\n",
      "  ('it', 'PRON'),\n",
      "  (',', '.'),\n",
      "  ('*-1', 'X'),\n",
      "  ('saying', 'VERB'),\n",
      "  ('0', 'X'),\n",
      "  ('it', 'PRON'),\n",
      "  ('would', 'VERB'),\n",
      "  ('``', '.'),\n",
      "  ('reopen', 'VERB'),\n",
      "  ('the', 'DET'),\n",
      "  ('wound', 'NOUN'),\n",
      "  ('.', '.'),\n",
      "  (\"''\", '.')],\n",
      " [('Medical', 'ADJ'),\n",
      "  ('researchers', 'NOUN'),\n",
      "  ('believe', 'VERB'),\n",
      "  ('0', 'X'),\n",
      "  ('the', 'DET'),\n",
      "  ('transplantation', 'NOUN'),\n",
      "  ('of', 'ADP'),\n",
      "  ('small', 'ADJ'),\n",
      "  ('amounts', 'NOUN'),\n",
      "  ('of', 'ADP'),\n",
      "  ('fetal', 'ADJ'),\n",
      "  ('tissue', 'NOUN'),\n",
      "  ('into', 'ADP'),\n",
      "  ('humans', 'NOUN'),\n",
      "  ('could', 'VERB'),\n",
      "  ('help', 'VERB'),\n",
      "  ('*', 'X'),\n",
      "  ('treat', 'VERB'),\n",
      "  ('juvenile', 'ADJ'),\n",
      "  ('diabetes', 'NOUN'),\n",
      "  ('and', 'CONJ'),\n",
      "  ('such', 'ADJ'),\n",
      "  ('degenerative', 'ADJ'),\n",
      "  ('diseases', 'NOUN'),\n",
      "  ('as', 'ADP'),\n",
      "  ('Alzheimer', 'NOUN'),\n",
      "  (\"'s\", 'PRT'),\n",
      "  (',', '.'),\n",
      "  ('Parkinson', 'NOUN'),\n",
      "  (\"'s\", 'PRT'),\n",
      "  ('and', 'CONJ'),\n",
      "  ('Huntington', 'NOUN'),\n",
      "  (\"'s\", 'PRT'),\n",
      "  ('.', '.')],\n",
      " [('Western', 'NOUN'),\n",
      "  ('Gas', 'NOUN'),\n",
      "  ('Resources', 'NOUN'),\n",
      "  ('Inc.', 'NOUN'),\n",
      "  (',', '.'),\n",
      "  ('initial', 'ADJ'),\n",
      "  ('offering', 'NOUN'),\n",
      "  ('of', 'ADP'),\n",
      "  ('3,250,000', 'NUM'),\n",
      "  ('shares', 'NOUN'),\n",
      "  ('of', 'ADP'),\n",
      "  ('common', 'ADJ'),\n",
      "  ('stock', 'NOUN'),\n",
      "  (',', '.'),\n",
      "  ('of', 'ADP'),\n",
      "  ('which', 'DET'),\n",
      "  ('3,040,000', 'NUM'),\n",
      "  ('shares', 'NOUN'),\n",
      "  ('*T*-2', 'X'),\n",
      "  ('will', 'VERB'),\n",
      "  ('be', 'VERB'),\n",
      "  ('sold', 'VERB'),\n",
      "  ('*-1', 'X'),\n",
      "  ('by', 'ADP'),\n",
      "  ('the', 'DET'),\n",
      "  ('company', 'NOUN'),\n",
      "  ('and', 'CONJ'),\n",
      "  ('210,000', 'NUM'),\n",
      "  ('shares', 'NOUN'),\n",
      "  ('*T*-2', 'X'),\n",
      "  ('by', 'ADP'),\n",
      "  ('a', 'DET'),\n",
      "  ('holder', 'NOUN'),\n",
      "  (',', '.'),\n",
      "  ('via', 'ADP'),\n",
      "  ('Prudential-Bache', 'NOUN'),\n",
      "  ('Capital', 'NOUN'),\n",
      "  ('Funding', 'NOUN'),\n",
      "  (',', '.'),\n",
      "  ('Smith', 'NOUN'),\n",
      "  ('Barney', 'NOUN'),\n",
      "  (',', '.'),\n",
      "  ('Harris', 'NOUN'),\n",
      "  ('Upham', 'NOUN'),\n",
      "  ('&', 'CONJ'),\n",
      "  ('Co.', 'NOUN'),\n",
      "  (',', '.'),\n",
      "  ('and', 'CONJ'),\n",
      "  ('Hanifen', 'NOUN'),\n",
      "  (',', '.'),\n",
      "  ('Imhoff', 'NOUN'),\n",
      "  ('Inc', 'NOUN'),\n",
      "  ('.', '.')],\n",
      " [('The', 'DET'),\n",
      "  ('latest', 'ADJ'),\n",
      "  ('two', 'NUM'),\n",
      "  ('funds', 'NOUN'),\n",
      "  ('were', 'VERB'),\n",
      "  ('assembled', 'VERB'),\n",
      "  ('*-42', 'X'),\n",
      "  ('jointly', 'ADV'),\n",
      "  ('by', 'ADP'),\n",
      "  ('Goldman', 'NOUN'),\n",
      "  (',', '.'),\n",
      "  ('Sachs', 'NOUN'),\n",
      "  ('&', 'CONJ'),\n",
      "  ('Co.', 'NOUN'),\n",
      "  ('of', 'ADP'),\n",
      "  ('the', 'DET'),\n",
      "  ('U.S.', 'NOUN'),\n",
      "  ('and', 'CONJ'),\n",
      "  ('Japan', 'NOUN'),\n",
      "  (\"'s\", 'PRT'),\n",
      "  ('Daiwa', 'NOUN'),\n",
      "  ('Securities', 'NOUN'),\n",
      "  ('Co', 'NOUN'),\n",
      "  ('.', '.')],\n",
      " [('Or', 'CONJ'),\n",
      "  ('so', 'ADP'),\n",
      "  ('the', 'DET'),\n",
      "  ('slogan', 'NOUN'),\n",
      "  ('might', 'VERB'),\n",
      "  ('go', 'VERB'),\n",
      "  ('.', '.')],\n",
      " [('The', 'DET'),\n",
      "  ('Artist', 'NOUN'),\n",
      "  ('has', 'VERB'),\n",
      "  ('his', 'PRON'),\n",
      "  ('routine', 'NOUN'),\n",
      "  ('.', '.')],\n",
      " [('The', 'DET'),\n",
      "  ('company', 'NOUN'),\n",
      "  ('said', 'VERB'),\n",
      "  ('0', 'X'),\n",
      "  ('it', 'PRON'),\n",
      "  ('is', 'VERB'),\n",
      "  ('in', 'ADP'),\n",
      "  ('the', 'DET'),\n",
      "  ('process', 'NOUN'),\n",
      "  ('of', 'ADP'),\n",
      "  ('*', 'X'),\n",
      "  ('phasing', 'VERB'),\n",
      "  ('out', 'PRT'),\n",
      "  ('John', 'NOUN'),\n",
      "  ('Deere', 'NOUN'),\n",
      "  (',', '.'),\n",
      "  ('its', 'PRON'),\n",
      "  ('current', 'ADJ'),\n",
      "  ('source', 'NOUN'),\n",
      "  ('of', 'ADP'),\n",
      "  ('production', 'NOUN'),\n",
      "  ('for', 'ADP'),\n",
      "  ('midsized', 'ADJ'),\n",
      "  ('motor', 'NOUN'),\n",
      "  ('home', 'NOUN'),\n",
      "  ('chassis', 'NOUN'),\n",
      "  ('.', '.')],\n",
      " [('It', 'PRON'),\n",
      "  ('should', 'VERB'),\n",
      "  ('be', 'VERB'),\n",
      "  ('constantly', 'ADV'),\n",
      "  ('stressed', 'VERB'),\n",
      "  ('that', 'ADP'),\n",
      "  ('Poland', 'NOUN'),\n",
      "  (\"'s\", 'PRT'),\n",
      "  ('farmers', 'NOUN'),\n",
      "  ('mostly', 'ADV'),\n",
      "  ('need', 'VERB'),\n",
      "  ('a', 'DET'),\n",
      "  ('real', 'ADJ'),\n",
      "  ('market', 'NOUN'),\n",
      "  ('for', 'ADP'),\n",
      "  ('their', 'PRON'),\n",
      "  ('products', 'NOUN'),\n",
      "  ('.', '.')],\n",
      " [('``', '.'),\n",
      "  ('Feeding', 'NOUN'),\n",
      "  ('Frenzy', 'NOUN'),\n",
      "  (\"''\", '.'),\n",
      "  ('does', 'VERB'),\n",
      "  ('provide', 'VERB'),\n",
      "  ('a', 'DET'),\n",
      "  ('few', 'ADJ'),\n",
      "  ('clues', 'NOUN'),\n",
      "  ('.', '.')]]\n",
      "[[('Many', 'ADJ'),\n",
      "  ('institutional', 'ADJ'),\n",
      "  ('index', 'NOUN'),\n",
      "  ('funds', 'NOUN'),\n",
      "  ('are', 'VERB'),\n",
      "  ('active', 'ADJ'),\n",
      "  ('program', 'NOUN'),\n",
      "  ('traders', 'NOUN'),\n",
      "  (',', '.'),\n",
      "  ('*-1', 'X'),\n",
      "  ('swapping', 'VERB'),\n",
      "  ('their', 'PRON'),\n",
      "  ('stocks', 'NOUN'),\n",
      "  ('for', 'ADP'),\n",
      "  ('futures', 'NOUN'),\n",
      "  ('when', 'ADV'),\n",
      "  ('profitable', 'ADJ'),\n",
      "  ('*', 'X'),\n",
      "  ('to', 'PRT'),\n",
      "  ('do', 'VERB'),\n",
      "  ('so', 'ADV'),\n",
      "  ('*T*-2', 'X'),\n",
      "  ('.', '.')],\n",
      " [('Gerard', 'NOUN'),\n",
      "  ('Scannell', 'NOUN'),\n",
      "  (',', '.'),\n",
      "  ('the', 'DET'),\n",
      "  ('head', 'NOUN'),\n",
      "  ('of', 'ADP'),\n",
      "  ('OSHA', 'NOUN'),\n",
      "  (',', '.'),\n",
      "  ('said', 'VERB'),\n",
      "  ('0', 'X'),\n",
      "  ('USX', 'NOUN'),\n",
      "  ('managers', 'NOUN'),\n",
      "  ('have', 'VERB'),\n",
      "  ('known', 'VERB'),\n",
      "  ('about', 'ADP'),\n",
      "  ('many', 'ADJ'),\n",
      "  ('of', 'ADP'),\n",
      "  ('the', 'DET'),\n",
      "  ('safety', 'NOUN'),\n",
      "  ('and', 'CONJ'),\n",
      "  ('health', 'NOUN'),\n",
      "  ('deficiencies', 'NOUN'),\n",
      "  ('at', 'ADP'),\n",
      "  ('the', 'DET'),\n",
      "  ('plants', 'NOUN'),\n",
      "  ('for', 'ADP'),\n",
      "  ('years', 'NOUN'),\n",
      "  (',', '.'),\n",
      "  ('``', '.'),\n",
      "  ('yet', 'ADV'),\n",
      "  ('have', 'VERB'),\n",
      "  ('failed', 'VERB'),\n",
      "  ('*-1', 'X'),\n",
      "  ('to', 'PRT'),\n",
      "  ('take', 'VERB'),\n",
      "  ('necessary', 'ADJ'),\n",
      "  ('action', 'NOUN'),\n",
      "  ('*', 'X'),\n",
      "  ('to', 'PRT'),\n",
      "  ('counteract', 'VERB'),\n",
      "  ('the', 'DET'),\n",
      "  ('hazards', 'NOUN'),\n",
      "  ('.', '.'),\n",
      "  (\"''\", '.')],\n",
      " [('``', '.'),\n",
      "  ('*', 'X'),\n",
      "  ('Having', 'VERB'),\n",
      "  ('the', 'DET'),\n",
      "  ('dividend', 'NOUN'),\n",
      "  ('increases', 'NOUN'),\n",
      "  ('is', 'VERB'),\n",
      "  ('a', 'DET'),\n",
      "  ('supportive', 'ADJ'),\n",
      "  ('element', 'NOUN'),\n",
      "  ('in', 'ADP'),\n",
      "  ('the', 'DET'),\n",
      "  ('market', 'NOUN'),\n",
      "  ('outlook', 'NOUN'),\n",
      "  (',', '.'),\n",
      "  ('but', 'CONJ'),\n",
      "  ('I', 'PRON'),\n",
      "  ('do', 'VERB'),\n",
      "  (\"n't\", 'ADV'),\n",
      "  ('think', 'VERB'),\n",
      "  ('0', 'X'),\n",
      "  ('it', 'PRON'),\n",
      "  (\"'s\", 'VERB'),\n",
      "  ('a', 'DET'),\n",
      "  ('main', 'ADJ'),\n",
      "  ('consideration', 'NOUN'),\n",
      "  (',', '.'),\n",
      "  (\"''\", '.'),\n",
      "  ('he', 'PRON'),\n",
      "  ('says', 'VERB'),\n",
      "  ('*T*-1', 'X'),\n",
      "  ('.', '.')],\n",
      " [('I', 'PRON'),\n",
      "  ('have', 'VERB'),\n",
      "  ('seen', 'VERB'),\n",
      "  ('one', 'NUM'),\n",
      "  ('or', 'CONJ'),\n",
      "  ('two', 'NUM'),\n",
      "  ('men', 'NOUN'),\n",
      "  ('die', 'VERB'),\n",
      "  (',', '.'),\n",
      "  ('*', 'X'),\n",
      "  ('bless', 'VERB'),\n",
      "  ('them', 'PRON'),\n",
      "  ('.', '.')],\n",
      " [('In', 'ADP'),\n",
      "  ('a', 'DET'),\n",
      "  ('recent', 'ADJ'),\n",
      "  ('report', 'NOUN'),\n",
      "  (',', '.'),\n",
      "  ('the', 'DET'),\n",
      "  ('Institute', 'NOUN'),\n",
      "  ('of', 'ADP'),\n",
      "  ('Medicine', 'NOUN'),\n",
      "  ('pointed', 'VERB'),\n",
      "  ('out', 'PRT'),\n",
      "  ('that', 'ADP'),\n",
      "  ('certain', 'ADJ'),\n",
      "  ('health', 'NOUN'),\n",
      "  ('problems', 'NOUN'),\n",
      "  ('may', 'VERB'),\n",
      "  ('predispose', 'VERB'),\n",
      "  ('a', 'DET'),\n",
      "  ('person', 'NOUN'),\n",
      "  ('to', 'PRT'),\n",
      "  ('homelessness', 'NOUN'),\n",
      "  (',', '.'),\n",
      "  ('others', 'NOUN'),\n",
      "  ('may', 'VERB'),\n",
      "  ('be', 'VERB'),\n",
      "  ('a', 'DET'),\n",
      "  ('consequence', 'NOUN'),\n",
      "  ('of', 'ADP'),\n",
      "  ('it', 'PRON'),\n",
      "  (',', '.'),\n",
      "  ('and', 'CONJ'),\n",
      "  ('a', 'DET'),\n",
      "  ('third', 'ADJ'),\n",
      "  ('category', 'NOUN'),\n",
      "  ('is', 'VERB'),\n",
      "  ('composed', 'VERB'),\n",
      "  ('*-19', 'X'),\n",
      "  ('of', 'ADP'),\n",
      "  ('disorders', 'NOUN'),\n",
      "  ('whose', 'PRON'),\n",
      "  ('treatment', 'NOUN'),\n",
      "  ('*T*-15', 'X'),\n",
      "  ('is', 'VERB'),\n",
      "  ('difficult', 'ADJ'),\n",
      "  ('or', 'CONJ'),\n",
      "  ('impossible', 'ADJ'),\n",
      "  ('if', 'ADP'),\n",
      "  ('a', 'DET'),\n",
      "  ('person', 'NOUN'),\n",
      "  ('lacks', 'VERB'),\n",
      "  ('adequate', 'ADJ'),\n",
      "  ('shelter', 'NOUN'),\n",
      "  ('.', '.')],\n",
      " [('The', 'DET'),\n",
      "  ('company', 'NOUN'),\n",
      "  ('said', 'VERB'),\n",
      "  ('0', 'X'),\n",
      "  ('it', 'PRON'),\n",
      "  ('made', 'VERB'),\n",
      "  ('the', 'DET'),\n",
      "  ('purchase', 'NOUN'),\n",
      "  ('in', 'ADP'),\n",
      "  ('order', 'NOUN'),\n",
      "  ('*-1', 'X'),\n",
      "  ('to', 'PRT'),\n",
      "  ('locally', 'ADV'),\n",
      "  ('produce', 'VERB'),\n",
      "  ('hydraulically', 'ADV'),\n",
      "  ('operated', 'VERB'),\n",
      "  ('shovels', 'NOUN'),\n",
      "  ('.', '.')],\n",
      " [('The', 'DET'),\n",
      "  ('cases', 'NOUN'),\n",
      "  ('quickly', 'ADV'),\n",
      "  ('went', 'VERB'),\n",
      "  ('to', 'PRT'),\n",
      "  ('court', 'NOUN'),\n",
      "  (',', '.'),\n",
      "  ('but', 'CONJ'),\n",
      "  ('the', 'DET'),\n",
      "  ('mothers', 'NOUN'),\n",
      "  ('of', 'ADP'),\n",
      "  ('several', 'ADJ'),\n",
      "  ('thousand', 'NUM'),\n",
      "  ('DES', 'NOUN'),\n",
      "  ('plaintiffs', 'NOUN'),\n",
      "  ('could', 'VERB'),\n",
      "  (\"n't\", 'ADV'),\n",
      "  ('recall', 'VERB'),\n",
      "  ('whose', 'PRON'),\n",
      "  ('brand', 'NOUN'),\n",
      "  ('they', 'PRON'),\n",
      "  ('used', 'VERB'),\n",
      "  ('*T*-1', 'X'),\n",
      "  ('.', '.')],\n",
      " [('In', 'ADP'),\n",
      "  ('addition', 'NOUN'),\n",
      "  (',', '.'),\n",
      "  ('a', 'DET'),\n",
      "  ('big', 'ADJ'),\n",
      "  ('loan', 'NOUN'),\n",
      "  ('that', 'ADP'),\n",
      "  ('First', 'NOUN'),\n",
      "  ('Boston', 'NOUN'),\n",
      "  ('made', 'VERB'),\n",
      "  ('*T*-2', 'X'),\n",
      "  ('to', 'PRT'),\n",
      "  ('Ohio', 'NOUN'),\n",
      "  ('Mattress', 'NOUN'),\n",
      "  ('Co', 'NOUN'),\n",
      "  ('.', '.'),\n",
      "  ('was', 'VERB'),\n",
      "  (\"n't\", 'ADV'),\n",
      "  ('repaid', 'VERB'),\n",
      "  ('on', 'ADP'),\n",
      "  ('time', 'NOUN'),\n",
      "  ('when', 'ADV'),\n",
      "  ('its', 'PRON'),\n",
      "  ('$', '.'),\n",
      "  ('450', 'NUM'),\n",
      "  ('million', 'NUM'),\n",
      "  ('*U*', 'X'),\n",
      "  ('junk', 'NOUN'),\n",
      "  ('financing', 'NOUN'),\n",
      "  ('for', 'ADP'),\n",
      "  ('a', 'DET'),\n",
      "  ('buy-out', 'NOUN'),\n",
      "  ('of', 'ADP'),\n",
      "  ('the', 'DET'),\n",
      "  ('bedding', 'NOUN'),\n",
      "  ('company', 'NOUN'),\n",
      "  ('was', 'VERB'),\n",
      "  ('withdrawn', 'VERB'),\n",
      "  ('*-1', 'X'),\n",
      "  ('*T*-3', 'X'),\n",
      "  ('.', '.')],\n",
      " [('The', 'DET'),\n",
      "  ('Japanese', 'NOUN'),\n",
      "  ('retort', 'NOUN'),\n",
      "  ('that', 'ADP'),\n",
      "  ('the', 'DET'),\n",
      "  ('first', 'ADJ'),\n",
      "  ('round', 'NOUN'),\n",
      "  ('was', 'VERB'),\n",
      "  ('too', 'ADV'),\n",
      "  ('early', 'ADJ'),\n",
      "  ('*', 'X'),\n",
      "  ('to', 'PRT'),\n",
      "  ('make', 'VERB'),\n",
      "  ('concessions', 'NOUN'),\n",
      "  ('.', '.')],\n",
      " [('``', '.'),\n",
      "  ('It', 'PRON'),\n",
      "  ('was', 'VERB'),\n",
      "  ('like', 'ADP'),\n",
      "  ('someone', 'NOUN'),\n",
      "  ('had', 'VERB'),\n",
      "  ('turned', 'VERB'),\n",
      "  ('a', 'DET'),\n",
      "  ('knife', 'NOUN'),\n",
      "  ('in', 'ADP'),\n",
      "  ('me', 'PRON'),\n",
      "  ('.', '.'),\n",
      "  (\"''\", '.')]]\n"
     ]
    }
   ],
   "source": [
    "pp.pprint(train_set[:10])\n",
    "pp.pprint(validation_set[:10])"
   ]
  },
  {
   "cell_type": "markdown",
   "metadata": {},
   "source": [
    "Obtaining the number  of tagged words in Train dataset, as well as the total number of unique words:"
   ]
  },
  {
   "cell_type": "code",
   "execution_count": 64,
   "metadata": {},
   "outputs": [
    {
     "name": "stdout",
     "output_type": "stream",
     "text": [
      "No of Tagged Words in Train Dataset:95646\n",
      "No of Unique words: 12085\n"
     ]
    }
   ],
   "source": [
    "#obtaining the nuber of tuples which are tagged in train set:\n",
    "taggedWordsInTrainDataset=[t for s in train_set for t in s ]\n",
    "print(\"No of Tagged Words in Train Dataset:\"+str(len(taggedWordsInTrainDataset)))\n",
    "noOfUniqueWords_inTrainDataset=len(set([t[0] for t in taggedWordsInTrainDataset ]))\n",
    "print(\"No of Unique words: \"+str(noOfUniqueWords_inTrainDataset))"
   ]
  },
  {
   "cell_type": "markdown",
   "metadata": {},
   "source": [
    "Obtaining the number  of tags in Train dataset:"
   ]
  },
  {
   "cell_type": "code",
   "execution_count": 13,
   "metadata": {},
   "outputs": [
    {
     "name": "stdout",
     "output_type": "stream",
     "text": [
      "12\n",
      "{'ADJ', 'PRON', 'NUM', 'VERB', 'ADP', 'PRT', '.', 'ADV', 'X', 'NOUN', 'CONJ', 'DET'}\n"
     ]
    }
   ],
   "source": [
    "tagsUsed=[taggedWordSet[1] for taggedWordSet in taggedWordsInTrainDataset ]\n",
    "print(len(set(tagsUsed)))\n",
    "print(set(tagsUsed))\n",
    "TotalNumberOfTags=len(set(tagsUsed))"
   ]
  },
  {
   "cell_type": "markdown",
   "metadata": {},
   "source": [
    "Obtaining the number knownWords:"
   ]
  },
  {
   "cell_type": "code",
   "execution_count": 14,
   "metadata": {},
   "outputs": [
    {
     "name": "stdout",
     "output_type": "stream",
     "text": [
      "No of Known Words:12085\n"
     ]
    }
   ],
   "source": [
    "knownWords=set([taggedWordSet[0] for taggedWordSet in taggedWordsInTrainDataset ])\n",
    "print(\"No of Known Words:\"+str(len(set(knownWords))))"
   ]
  },
  {
   "cell_type": "markdown",
   "metadata": {},
   "source": [
    "Getting the Test Dataset from the text file provided:"
   ]
  },
  {
   "cell_type": "code",
   "execution_count": 15,
   "metadata": {},
   "outputs": [],
   "source": [
    "# Reading the test data provided:\n",
    "file=open('Sample_Test_Sentences.txt','r')\n",
    "testData=file.readlines();\n",
    "file.close();\n",
    "testDataStr=[\" \".join(testData).replace('\\n','')]\n",
    "testData=testDataStr[0]"
   ]
  },
  {
   "cell_type": "markdown",
   "metadata": {},
   "source": [
    "Tagging the Test Data set with a state of art tagger (pos_tag, internal tagger of NLTK) in order to calculate accuracy of the modified HMM-Viterbi model created by us"
   ]
  },
  {
   "cell_type": "markdown",
   "metadata": {},
   "source": [
    "Tokenizing the Test Data using Word Tokenizer"
   ]
  },
  {
   "cell_type": "code",
   "execution_count": 17,
   "metadata": {},
   "outputs": [],
   "source": [
    "words_test=word_tokenize(testData)"
   ]
  },
  {
   "cell_type": "code",
   "execution_count": 18,
   "metadata": {
    "collapsed": true
   },
   "outputs": [
    {
     "data": {
      "text/plain": [
       "[('Android', 'NOUN'),\n",
       " ('is', 'VERB'),\n",
       " ('a', 'DET'),\n",
       " ('mobile', 'ADJ'),\n",
       " ('operating', 'NOUN'),\n",
       " ('system', 'NOUN'),\n",
       " ('developed', 'VERB'),\n",
       " ('by', 'ADP'),\n",
       " ('Google', 'NOUN'),\n",
       " ('.', '.'),\n",
       " ('Android', 'NOUN'),\n",
       " ('has', 'VERB'),\n",
       " ('been', 'VERB'),\n",
       " ('the', 'DET'),\n",
       " ('best-selling', 'ADJ'),\n",
       " ('OS', 'NOUN'),\n",
       " ('worldwide', 'NOUN'),\n",
       " ('on', 'ADP'),\n",
       " ('smartphones', 'NOUN'),\n",
       " ('since', 'ADP'),\n",
       " ('2011', 'NUM'),\n",
       " ('and', 'CONJ'),\n",
       " ('on', 'ADP'),\n",
       " ('tablets', 'NOUN'),\n",
       " ('since', 'ADP'),\n",
       " ('2013', 'NUM'),\n",
       " ('.', '.'),\n",
       " ('Google', 'NOUN'),\n",
       " ('and', 'CONJ'),\n",
       " ('Twitter', 'NOUN'),\n",
       " ('made', 'VERB'),\n",
       " ('a', 'DET'),\n",
       " ('deal', 'NOUN'),\n",
       " ('in', 'ADP'),\n",
       " ('2015', 'NUM'),\n",
       " ('that', 'DET'),\n",
       " ('gave', 'VERB'),\n",
       " ('Google', 'NOUN'),\n",
       " ('access', 'NOUN'),\n",
       " ('to', 'PRT'),\n",
       " ('Twitter', 'NOUN'),\n",
       " (\"'s\", 'PRT'),\n",
       " ('firehose', 'NOUN'),\n",
       " ('.', '.'),\n",
       " ('Twitter', 'NOUN'),\n",
       " ('is', 'VERB'),\n",
       " ('an', 'DET'),\n",
       " ('online', 'ADJ'),\n",
       " ('news', 'NOUN'),\n",
       " ('and', 'CONJ'),\n",
       " ('social', 'ADJ'),\n",
       " ('networking', 'NOUN'),\n",
       " ('service', 'NOUN'),\n",
       " ('on', 'ADP'),\n",
       " ('which', 'DET'),\n",
       " ('users', 'NOUN'),\n",
       " ('post', 'NOUN'),\n",
       " ('and', 'CONJ'),\n",
       " ('interact', 'NOUN'),\n",
       " ('with', 'ADP'),\n",
       " ('messages', 'NOUN'),\n",
       " ('known', 'VERB'),\n",
       " ('as', 'ADP'),\n",
       " ('tweets', 'NOUN'),\n",
       " ('.', '.'),\n",
       " ('Before', 'ADP'),\n",
       " ('entering', 'VERB'),\n",
       " ('politics', 'NOUN'),\n",
       " (',', '.'),\n",
       " ('Donald', 'NOUN'),\n",
       " ('Trump', 'NOUN'),\n",
       " ('was', 'VERB'),\n",
       " ('a', 'DET'),\n",
       " ('domineering', 'ADJ'),\n",
       " ('businessman', 'NOUN'),\n",
       " ('and', 'CONJ'),\n",
       " ('a', 'DET'),\n",
       " ('television', 'NOUN'),\n",
       " ('personality', 'NOUN'),\n",
       " ('.', '.'),\n",
       " ('The', 'DET'),\n",
       " ('2018', 'NUM'),\n",
       " ('FIFA', 'NOUN'),\n",
       " ('World', 'NOUN'),\n",
       " ('Cup', 'NOUN'),\n",
       " ('is', 'VERB'),\n",
       " ('the', 'DET'),\n",
       " ('21st', 'NUM'),\n",
       " ('FIFA', 'NOUN'),\n",
       " ('World', 'NOUN'),\n",
       " ('Cup', 'NOUN'),\n",
       " (',', '.'),\n",
       " ('an', 'DET'),\n",
       " ('international', 'ADJ'),\n",
       " ('football', 'NOUN'),\n",
       " ('tournament', 'NOUN'),\n",
       " ('contested', 'VERB'),\n",
       " ('once', 'ADV'),\n",
       " ('every', 'DET'),\n",
       " ('four', 'NUM'),\n",
       " ('years', 'NOUN'),\n",
       " ('.', '.'),\n",
       " ('This', 'DET'),\n",
       " ('is', 'VERB'),\n",
       " ('the', 'DET'),\n",
       " ('first', 'ADJ'),\n",
       " ('World', 'NOUN'),\n",
       " ('Cup', 'NOUN'),\n",
       " ('to', 'PRT'),\n",
       " ('be', 'VERB'),\n",
       " ('held', 'VERB'),\n",
       " ('in', 'ADP'),\n",
       " ('Eastern', 'NOUN'),\n",
       " ('Europe', 'NOUN'),\n",
       " ('and', 'CONJ'),\n",
       " ('the', 'DET'),\n",
       " ('11th', 'NUM'),\n",
       " ('time', 'NOUN'),\n",
       " ('that', 'ADP'),\n",
       " ('it', 'PRON'),\n",
       " ('has', 'VERB'),\n",
       " ('been', 'VERB'),\n",
       " ('held', 'VERB'),\n",
       " ('in', 'ADP'),\n",
       " ('Europe', 'NOUN'),\n",
       " ('.', '.'),\n",
       " ('Show', 'VERB'),\n",
       " ('me', 'PRON'),\n",
       " ('the', 'DET'),\n",
       " ('cheapest', 'ADJ'),\n",
       " ('round', 'NOUN'),\n",
       " ('trips', 'NOUN'),\n",
       " ('from', 'ADP'),\n",
       " ('Dallas', 'NOUN'),\n",
       " ('to', 'PRT'),\n",
       " ('Atlanta', 'NOUN'),\n",
       " ('I', 'PRON'),\n",
       " ('would', 'VERB'),\n",
       " ('like', 'VERB'),\n",
       " ('to', 'PRT'),\n",
       " ('see', 'VERB'),\n",
       " ('flights', 'NOUN'),\n",
       " ('from', 'ADP'),\n",
       " ('Denver', 'NOUN'),\n",
       " ('to', 'PRT'),\n",
       " ('Philadelphia', 'NOUN'),\n",
       " ('.', '.'),\n",
       " ('Show', 'VERB'),\n",
       " ('me', 'PRON'),\n",
       " ('the', 'DET'),\n",
       " ('price', 'NOUN'),\n",
       " ('of', 'ADP'),\n",
       " ('the', 'DET'),\n",
       " ('flights', 'NOUN'),\n",
       " ('leaving', 'VERB'),\n",
       " ('Atlanta', 'NOUN'),\n",
       " ('at', 'ADP'),\n",
       " ('about', 'ADV'),\n",
       " ('3', 'NUM'),\n",
       " ('in', 'ADP'),\n",
       " ('the', 'DET'),\n",
       " ('afternoon', 'NOUN'),\n",
       " ('and', 'CONJ'),\n",
       " ('arriving', 'NOUN'),\n",
       " ('in', 'ADP'),\n",
       " ('San', 'NOUN'),\n",
       " ('Francisco', 'NOUN'),\n",
       " ('.', '.'),\n",
       " ('NASA', 'NOUN'),\n",
       " ('invited', 'VERB'),\n",
       " ('social', 'ADJ'),\n",
       " ('media', 'NOUN'),\n",
       " ('users', 'NOUN'),\n",
       " ('to', 'PRT'),\n",
       " ('experience', 'VERB'),\n",
       " ('the', 'DET'),\n",
       " ('launch', 'NOUN'),\n",
       " ('of', 'ADP'),\n",
       " ('ICESAT-2', 'NOUN'),\n",
       " ('Satellite', 'NOUN'),\n",
       " ('.', '.')]"
      ]
     },
     "execution_count": 18,
     "metadata": {},
     "output_type": "execute_result"
    }
   ],
   "source": [
    "OriginalTagSetForTestData=pos_tag(words_test,tagset='universal')\n",
    "OriginalTagSetForTestData"
   ]
  },
  {
   "cell_type": "markdown",
   "metadata": {},
   "source": [
    "# Vanilla HMM with Vitrebi Algorithm\n",
    "1. HMM- Hidden Markov Models use stocastic methods to model sequential processes.\n",
    "2. Using the first order markovian assumption, the probability of a state depends only on the probability of the previous state.\n",
    "3. HMM have hidden states, which emit the probabilty of observations. \n",
    "4. These probabilties are called the Emission probabilites.\n",
    "5. The probability of one state coming after another is called transition probabitliy, as there is a tarnsition from one state to another.\n",
    "\n",
    "Using HMM, we will assign a tag (say t) to a word (say w), such that the liklihood P(t|w) is maximum.\n",
    "Now, a\n",
    "$P(t|w) = {P(w|t)*P(t)}/P(w)$\n",
    "is the formula for the liklihood.\n",
    "\n",
    "To compute it we can use the count of the tags and words computed above."
   ]
  },
  {
   "cell_type": "markdown",
   "metadata": {},
   "source": [
    "## Emission Probabilties"
   ]
  },
  {
   "cell_type": "code",
   "execution_count": 27,
   "metadata": {},
   "outputs": [
    {
     "data": {
      "text/plain": [
       "[('There', 'DET'),\n",
       " (\"'s\", 'VERB'),\n",
       " ('never', 'ADV'),\n",
       " ('been', 'VERB'),\n",
       " ('an', 'DET')]"
      ]
     },
     "execution_count": 27,
     "metadata": {},
     "output_type": "execute_result"
    }
   ],
   "source": [
    "tag_list = [pair for pair in taggedWordsInTrainDataset if pair[1]]\n",
    "tag_list[:5]"
   ]
  },
  {
   "cell_type": "code",
   "execution_count": 63,
   "metadata": {},
   "outputs": [],
   "source": [
    "def EmissionProbability_WordgivenTag(word, tag, train_data = taggedWordsInTrainDataset):\n",
    "    tag_list = [pair for pair in train_data if pair[1]==tag]\n",
    "    count_tag = len(tag_list)\n",
    "    w_given_tag_list = [pair[0] for pair in tag_list if pair[0]==word]\n",
    "    count_w_given_tag = len(w_given_tag_list)\n",
    "    \n",
    "    return (count_w_given_tag, count_tag)"
   ]
  },
  {
   "cell_type": "markdown",
   "metadata": {},
   "source": [
    "## Transition Probabilities"
   ]
  },
  {
   "cell_type": "code",
   "execution_count": 57,
   "metadata": {},
   "outputs": [],
   "source": [
    "def TransitionProbability_t2_given_t1(t2, t1, train_bag = taggedWordsInTrainDataset):\n",
    "    tags = [pair[1] for pair in train_bag]\n",
    "    count_t1 = len([t for t in tags if t==t1])\n",
    "    count_t2_t1 = 0\n",
    "    for index in range(len(tags)-1):\n",
    "        if tags[index]==t1 and tags[index+1] == t2:\n",
    "            count_t2_t1 += 1\n",
    "    return (count_t2_t1, count_t1)"
   ]
  },
  {
   "cell_type": "markdown",
   "metadata": {},
   "source": [
    "Now lets create a transion matrix that will give the probability of state transiton from one tag(ti) to another(tj).\n",
    "Making the matrix"
   ]
  },
  {
   "cell_type": "code",
   "execution_count": 58,
   "metadata": {},
   "outputs": [
    {
     "data": {
      "text/html": [
       "<div>\n",
       "<style scoped>\n",
       "    .dataframe tbody tr th:only-of-type {\n",
       "        vertical-align: middle;\n",
       "    }\n",
       "\n",
       "    .dataframe tbody tr th {\n",
       "        vertical-align: top;\n",
       "    }\n",
       "\n",
       "    .dataframe thead th {\n",
       "        text-align: right;\n",
       "    }\n",
       "</style>\n",
       "<table border=\"1\" class=\"dataframe\">\n",
       "  <thead>\n",
       "    <tr style=\"text-align: right;\">\n",
       "      <th></th>\n",
       "      <th>ADJ</th>\n",
       "      <th>PRON</th>\n",
       "      <th>NUM</th>\n",
       "      <th>VERB</th>\n",
       "      <th>ADP</th>\n",
       "      <th>PRT</th>\n",
       "      <th>.</th>\n",
       "      <th>ADV</th>\n",
       "      <th>X</th>\n",
       "      <th>NOUN</th>\n",
       "      <th>CONJ</th>\n",
       "      <th>DET</th>\n",
       "    </tr>\n",
       "  </thead>\n",
       "  <tbody>\n",
       "    <tr>\n",
       "      <td>ADJ</td>\n",
       "      <td>0.066886</td>\n",
       "      <td>0.000659</td>\n",
       "      <td>0.020428</td>\n",
       "      <td>0.011862</td>\n",
       "      <td>0.077430</td>\n",
       "      <td>0.010873</td>\n",
       "      <td>0.064909</td>\n",
       "      <td>0.004283</td>\n",
       "      <td>0.020099</td>\n",
       "      <td>0.700988</td>\n",
       "      <td>0.016639</td>\n",
       "      <td>0.004942</td>\n",
       "    </tr>\n",
       "    <tr>\n",
       "      <td>PRON</td>\n",
       "      <td>0.073552</td>\n",
       "      <td>0.007622</td>\n",
       "      <td>0.006860</td>\n",
       "      <td>0.487424</td>\n",
       "      <td>0.022866</td>\n",
       "      <td>0.012576</td>\n",
       "      <td>0.038872</td>\n",
       "      <td>0.034680</td>\n",
       "      <td>0.092607</td>\n",
       "      <td>0.207698</td>\n",
       "      <td>0.005335</td>\n",
       "      <td>0.009909</td>\n",
       "    </tr>\n",
       "    <tr>\n",
       "      <td>NUM</td>\n",
       "      <td>0.033194</td>\n",
       "      <td>0.001794</td>\n",
       "      <td>0.185108</td>\n",
       "      <td>0.017344</td>\n",
       "      <td>0.033493</td>\n",
       "      <td>0.026017</td>\n",
       "      <td>0.118720</td>\n",
       "      <td>0.002990</td>\n",
       "      <td>0.211722</td>\n",
       "      <td>0.354067</td>\n",
       "      <td>0.012261</td>\n",
       "      <td>0.003289</td>\n",
       "    </tr>\n",
       "    <tr>\n",
       "      <td>VERB</td>\n",
       "      <td>0.065278</td>\n",
       "      <td>0.035620</td>\n",
       "      <td>0.022456</td>\n",
       "      <td>0.168344</td>\n",
       "      <td>0.091993</td>\n",
       "      <td>0.031052</td>\n",
       "      <td>0.035001</td>\n",
       "      <td>0.081694</td>\n",
       "      <td>0.217361</td>\n",
       "      <td>0.111352</td>\n",
       "      <td>0.005420</td>\n",
       "      <td>0.134428</td>\n",
       "    </tr>\n",
       "    <tr>\n",
       "      <td>ADP</td>\n",
       "      <td>0.106099</td>\n",
       "      <td>0.070164</td>\n",
       "      <td>0.061634</td>\n",
       "      <td>0.008637</td>\n",
       "      <td>0.017274</td>\n",
       "      <td>0.001493</td>\n",
       "      <td>0.040200</td>\n",
       "      <td>0.013222</td>\n",
       "      <td>0.035402</td>\n",
       "      <td>0.322350</td>\n",
       "      <td>0.000853</td>\n",
       "      <td>0.322670</td>\n",
       "    </tr>\n",
       "    <tr>\n",
       "      <td>PRT</td>\n",
       "      <td>0.082461</td>\n",
       "      <td>0.017670</td>\n",
       "      <td>0.054319</td>\n",
       "      <td>0.404450</td>\n",
       "      <td>0.021270</td>\n",
       "      <td>0.001963</td>\n",
       "      <td>0.043521</td>\n",
       "      <td>0.009490</td>\n",
       "      <td>0.011780</td>\n",
       "      <td>0.247382</td>\n",
       "      <td>0.001963</td>\n",
       "      <td>0.103730</td>\n",
       "    </tr>\n",
       "    <tr>\n",
       "      <td>.</td>\n",
       "      <td>0.044636</td>\n",
       "      <td>0.066325</td>\n",
       "      <td>0.081713</td>\n",
       "      <td>0.088733</td>\n",
       "      <td>0.091793</td>\n",
       "      <td>0.002340</td>\n",
       "      <td>0.092693</td>\n",
       "      <td>0.052736</td>\n",
       "      <td>0.027088</td>\n",
       "      <td>0.219942</td>\n",
       "      <td>0.058135</td>\n",
       "      <td>0.173776</td>\n",
       "    </tr>\n",
       "    <tr>\n",
       "      <td>ADV</td>\n",
       "      <td>0.129470</td>\n",
       "      <td>0.014570</td>\n",
       "      <td>0.031788</td>\n",
       "      <td>0.345364</td>\n",
       "      <td>0.118543</td>\n",
       "      <td>0.014570</td>\n",
       "      <td>0.134768</td>\n",
       "      <td>0.080132</td>\n",
       "      <td>0.023841</td>\n",
       "      <td>0.031788</td>\n",
       "      <td>0.007285</td>\n",
       "      <td>0.067881</td>\n",
       "    </tr>\n",
       "    <tr>\n",
       "      <td>X</td>\n",
       "      <td>0.016717</td>\n",
       "      <td>0.056360</td>\n",
       "      <td>0.002866</td>\n",
       "      <td>0.207451</td>\n",
       "      <td>0.142652</td>\n",
       "      <td>0.185002</td>\n",
       "      <td>0.162235</td>\n",
       "      <td>0.025951</td>\n",
       "      <td>0.074033</td>\n",
       "      <td>0.062092</td>\n",
       "      <td>0.010349</td>\n",
       "      <td>0.054291</td>\n",
       "    </tr>\n",
       "    <tr>\n",
       "      <td>NOUN</td>\n",
       "      <td>0.012003</td>\n",
       "      <td>0.004779</td>\n",
       "      <td>0.009340</td>\n",
       "      <td>0.146485</td>\n",
       "      <td>0.177278</td>\n",
       "      <td>0.043927</td>\n",
       "      <td>0.239921</td>\n",
       "      <td>0.017002</td>\n",
       "      <td>0.028932</td>\n",
       "      <td>0.264475</td>\n",
       "      <td>0.042358</td>\n",
       "      <td>0.013499</td>\n",
       "    </tr>\n",
       "    <tr>\n",
       "      <td>CONJ</td>\n",
       "      <td>0.115888</td>\n",
       "      <td>0.058879</td>\n",
       "      <td>0.040654</td>\n",
       "      <td>0.157009</td>\n",
       "      <td>0.051402</td>\n",
       "      <td>0.005140</td>\n",
       "      <td>0.035514</td>\n",
       "      <td>0.057009</td>\n",
       "      <td>0.008411</td>\n",
       "      <td>0.350000</td>\n",
       "      <td>0.000467</td>\n",
       "      <td>0.119626</td>\n",
       "    </tr>\n",
       "    <tr>\n",
       "      <td>DET</td>\n",
       "      <td>0.204989</td>\n",
       "      <td>0.003615</td>\n",
       "      <td>0.022174</td>\n",
       "      <td>0.039889</td>\n",
       "      <td>0.009400</td>\n",
       "      <td>0.000241</td>\n",
       "      <td>0.017956</td>\n",
       "      <td>0.012774</td>\n",
       "      <td>0.046276</td>\n",
       "      <td>0.636298</td>\n",
       "      <td>0.000603</td>\n",
       "      <td>0.005785</td>\n",
       "    </tr>\n",
       "  </tbody>\n",
       "</table>\n",
       "</div>"
      ],
      "text/plain": [
       "           ADJ      PRON       NUM      VERB       ADP       PRT         .  \\\n",
       "ADJ   0.066886  0.000659  0.020428  0.011862  0.077430  0.010873  0.064909   \n",
       "PRON  0.073552  0.007622  0.006860  0.487424  0.022866  0.012576  0.038872   \n",
       "NUM   0.033194  0.001794  0.185108  0.017344  0.033493  0.026017  0.118720   \n",
       "VERB  0.065278  0.035620  0.022456  0.168344  0.091993  0.031052  0.035001   \n",
       "ADP   0.106099  0.070164  0.061634  0.008637  0.017274  0.001493  0.040200   \n",
       "PRT   0.082461  0.017670  0.054319  0.404450  0.021270  0.001963  0.043521   \n",
       ".     0.044636  0.066325  0.081713  0.088733  0.091793  0.002340  0.092693   \n",
       "ADV   0.129470  0.014570  0.031788  0.345364  0.118543  0.014570  0.134768   \n",
       "X     0.016717  0.056360  0.002866  0.207451  0.142652  0.185002  0.162235   \n",
       "NOUN  0.012003  0.004779  0.009340  0.146485  0.177278  0.043927  0.239921   \n",
       "CONJ  0.115888  0.058879  0.040654  0.157009  0.051402  0.005140  0.035514   \n",
       "DET   0.204989  0.003615  0.022174  0.039889  0.009400  0.000241  0.017956   \n",
       "\n",
       "           ADV         X      NOUN      CONJ       DET  \n",
       "ADJ   0.004283  0.020099  0.700988  0.016639  0.004942  \n",
       "PRON  0.034680  0.092607  0.207698  0.005335  0.009909  \n",
       "NUM   0.002990  0.211722  0.354067  0.012261  0.003289  \n",
       "VERB  0.081694  0.217361  0.111352  0.005420  0.134428  \n",
       "ADP   0.013222  0.035402  0.322350  0.000853  0.322670  \n",
       "PRT   0.009490  0.011780  0.247382  0.001963  0.103730  \n",
       ".     0.052736  0.027088  0.219942  0.058135  0.173776  \n",
       "ADV   0.080132  0.023841  0.031788  0.007285  0.067881  \n",
       "X     0.025951  0.074033  0.062092  0.010349  0.054291  \n",
       "NOUN  0.017002  0.028932  0.264475  0.042358  0.013499  \n",
       "CONJ  0.057009  0.008411  0.350000  0.000467  0.119626  \n",
       "DET   0.012774  0.046276  0.636298  0.000603  0.005785  "
      ]
     },
     "metadata": {},
     "output_type": "display_data"
    }
   ],
   "source": [
    "tagTransiontMatrix = np.zeros((len(set(tagsUsed)), len(set(tagsUsed))), dtype='float32')\n",
    "for i, t1 in enumerate(list(set(tagsUsed))):\n",
    "    for j, t2 in enumerate(list(set(tagsUsed))): \n",
    "        tagTransiontMatrix[i, j] = TransitionProbability_t2_given_t1(t2, t1)[0]/TransitionProbability_t2_given_t1(t2, t1)[1]\n",
    "        \n",
    "tagTransionDF=pd.DataFrame(tagTransiontMatrix, columns = list(set(tagsUsed)), index=list(set(tagsUsed)))\n",
    "display(tagTransionDF)"
   ]
  },
  {
   "cell_type": "code",
   "execution_count": 59,
   "metadata": {},
   "outputs": [
    {
     "data": {
      "image/png": "[encoded data removed]",
      "text/plain": [
       "<Figure size 1296x864 with 2 Axes>"
      ]
     },
     "metadata": {
      "needs_background": "light"
     },
     "output_type": "display_data"
    }
   ],
   "source": [
    "plt.figure(figsize=(18, 12))\n",
    "sns.heatmap(tagTransionDF)\n",
    "plt.show()"
   ]
  },
  {
   "cell_type": "markdown",
   "metadata": {},
   "source": [
    "## Vanilla Viterbi Algo"
   ]
  },
  {
   "cell_type": "markdown",
   "metadata": {},
   "source": [
    "Creating the Vanilla Viterbi Algorithm, its been a little bit optimized to run faster by avoiding calling the same function multiple time with the same parameters."
   ]
  },
  {
   "cell_type": "code",
   "execution_count": 65,
   "metadata": {},
   "outputs": [],
   "source": [
    "# Viterbi Heuristic\n",
    "def Viterbi(words, train_data = taggedWordsInTrainDataset):\n",
    "    state = []\n",
    "    T = list(set([pair[1] for pair in train_data]))\n",
    "    for key, word in enumerate(words):\n",
    "        #initialise list of probability column for a given observation\n",
    "        p = [] \n",
    "        for tag in T:\n",
    "            if key == 0:\n",
    "                transition_p = tagTransionDF.loc['.', tag]\n",
    "            else:\n",
    "                transition_p = tagTransionDF.loc[state[-1], tag]\n",
    "\n",
    "            # compute emission and state probabilities\n",
    "            emission_p = EmissionProbability_WordgivenTag(words[key], tag)[0]/EmissionProbability_WordgivenTag(words[key], tag)[1]\n",
    "            state_probability = emission_p * transition_p    \n",
    "            p.append(state_probability)\n",
    "\n",
    "        pmax = max(p)\n",
    "        # getting state for which probability is maximum\n",
    "        state_max = T[p.index(pmax)] \n",
    "        state.append(state_max)\n",
    "    return list(zip(words, state))"
   ]
  },
  {
   "cell_type": "markdown",
   "metadata": {},
   "source": [
    "Creating a Function to calculate the accuracy:\n"
   ]
  },
  {
   "cell_type": "code",
   "execution_count": 66,
   "metadata": {},
   "outputs": [],
   "source": [
    "def FindAccuracy(TaggedData,ActualTaggedData):\n",
    "    check = [i for i, j in zip(TaggedData, ActualTaggedData) if i == j]\n",
    "    accuracy = len(check)/len(TaggedData)\n",
    "    print(\"Validation Accuracy= \"+str(accuracy));\n"
   ]
  },
  {
   "cell_type": "markdown",
   "metadata": {},
   "source": [
    "Processing the validation dataset "
   ]
  },
  {
   "cell_type": "code",
   "execution_count": 67,
   "metadata": {},
   "outputs": [],
   "source": [
    "random.seed(1234)\n",
    "rndom = [random.randint(1,len(validation_set)) for x in range(5)]\n",
    "test_run = [validation_set[i] for i in rndom]\n",
    "test_run_base = [tup for sent in test_run for tup in sent]\n",
    "test_tagged_words = [tup[0] for sent in test_run for tup in sent]"
   ]
  },
  {
   "cell_type": "code",
   "execution_count": 68,
   "metadata": {},
   "outputs": [],
   "source": [
    "# tagging the test sentences\n",
    "start = time.time()\n",
    "tagged_seq = Viterbi(test_tagged_words)\n",
    "end = time.time()\n",
    "difference = end-start"
   ]
  },
  {
   "cell_type": "markdown",
   "metadata": {},
   "source": [
    "### Accuracy of vanilla Viterbi with Validation set:"
   ]
  },
  {
   "cell_type": "code",
   "execution_count": 70,
   "metadata": {},
   "outputs": [
    {
     "name": "stdout",
     "output_type": "stream",
     "text": [
      "Validation Accuracy= 0.8931297709923665\n",
      "Time taken: 37.49650025367737\n"
     ]
    }
   ],
   "source": [
    "FindAccuracy(tagged_seq,test_run_base)\n",
    "print(\"Time taken: \"+str(difference))"
   ]
  },
  {
   "cell_type": "markdown",
   "metadata": {},
   "source": [
    "## Running the Vanilla Viterbi model with Test Data"
   ]
  },
  {
   "cell_type": "markdown",
   "metadata": {},
   "source": [
    "**OriginalTagSetForTestData** contains the original tags generated by pos_tag, i will keep that as the baseline to calculate the accuracy of my modified versions"
   ]
  },
  {
   "cell_type": "markdown",
   "metadata": {},
   "source": [
    "**words_test** contains all the words in the test file provided. I will run my Viterbi version on it to find the impact on accuracy ."
   ]
  },
  {
   "cell_type": "code",
   "execution_count": 71,
   "metadata": {},
   "outputs": [],
   "source": [
    "tagged_seq_test = Viterbi(words_test)"
   ]
  },
  {
   "cell_type": "code",
   "execution_count": 72,
   "metadata": {},
   "outputs": [
    {
     "name": "stdout",
     "output_type": "stream",
     "text": [
      "Validation Accuracy= 0.7679558011049724\n"
     ]
    }
   ],
   "source": [
    "FindAccuracy(tagged_seq_test,OriginalTagSetForTestData)"
   ]
  },
  {
   "cell_type": "markdown",
   "metadata": {},
   "source": [
    "# Modifications to Address the issues with unknown words"
   ]
  },
  {
   "cell_type": "markdown",
   "metadata": {},
   "source": [
    "## METHOD 1: Viterbi Algo + Lexicon, Rule based Tagger "
   ]
  },
  {
   "cell_type": "markdown",
   "metadata": {},
   "source": [
    "The problem with vanilla viterbi algorithm is that when it encounters an unknown word, the emission probability becomes 0. This in turn makes the product of emission and transition probability to 0.\n",
    "\n",
    "Now, if we can add a rule based lexicon tagger, whenever all the probabilities are 0, we can leverage the lexicon taggers, and mark the word against a correct tag, in the very least the incorrect tag assigned by the vanilla viterbi algorithm can be changed. "
   ]
  },
  {
   "cell_type": "code",
   "execution_count": 73,
   "metadata": {},
   "outputs": [],
   "source": [
    "from nltk import UnigramTagger\n",
    "from nltk import RegexpTagger"
   ]
  },
  {
   "cell_type": "markdown",
   "metadata": {},
   "source": [
    "First, Creating a Rule based tagger"
   ]
  },
  {
   "cell_type": "code",
   "execution_count": 74,
   "metadata": {},
   "outputs": [],
   "source": [
    "patterns = [\n",
    "    (r'.*(ing|ed|es|ould)$', 'VERB'),  #verb\n",
    "    (r'(^-?[0-9]+(.[0-9]+)?$)|(^[0-9]+$)', 'NUM'),  #numbers\n",
    "    (r'.*(\\'s|s|\\w)$', 'NOUN'),        #nouns\n",
    "    \n",
    "]\n",
    "regextagger = RegexpTagger(patterns)"
   ]
  },
  {
   "cell_type": "markdown",
   "metadata": {},
   "source": [
    "Second, Creating a Lexicon tagger with Rule based tagger as its backoff"
   ]
  },
  {
   "cell_type": "code",
   "execution_count": 75,
   "metadata": {},
   "outputs": [],
   "source": [
    "unigram_tagger = nltk.UnigramTagger(train_set, backoff=regextagger)"
   ]
  },
  {
   "cell_type": "markdown",
   "metadata": {},
   "source": [
    "Modifying the vanilla viterbi algo, with the lexicon taggers, when pmax is 0, indicating that max probability is 0 :"
   ]
  },
  {
   "cell_type": "code",
   "execution_count": 76,
   "metadata": {},
   "outputs": [],
   "source": [
    "# Viterbi Heuristic with rule based tagger\n",
    "def Viterbi_Lexicon(words,LexiconTaggers, train_data = taggedWordsInTrainDataset):\n",
    "    state = []\n",
    "    T = list(set([pair[1] for pair in train_data]))\n",
    "    for key, word in enumerate(words):\n",
    "        #initialise list of probability column for a given observation\n",
    "        p = [] \n",
    "        for tag in T:\n",
    "            if key == 0:\n",
    "                transition_p = tagTransionDF.loc['.', tag]\n",
    "            else:\n",
    "                transition_p = tagTransionDF.loc[state[-1], tag]\n",
    "\n",
    "            # compute emission and state probabilities\n",
    "            emissionForWordTag=EmissionProbability_WordgivenTag(words[key], tag)\n",
    "            emission_p = emissionForWordTag[0]/emissionForWordTag[1]\n",
    "            state_probability = emission_p * transition_p    \n",
    "            p.append(state_probability)\n",
    "\n",
    "        pmax = max(p)\n",
    "        # getting state for which probability is maximum\n",
    "        #if probability is 0, using the regexTagger  \n",
    "        if pmax==0:\n",
    "            x=LexiconTaggers.tag([word])[0][1]\n",
    "            state.append(x)\n",
    "        else:\n",
    "            # getting state for which probability is maximum\n",
    "            state_max = T[p.index(pmax)] \n",
    "            state.append(state_max)\n",
    "    return list(zip(words, state))"
   ]
  },
  {
   "cell_type": "markdown",
   "metadata": {},
   "source": [
    "## Runnig Viterbi_Lexicon with Validation Dataset"
   ]
  },
  {
   "cell_type": "code",
   "execution_count": 77,
   "metadata": {},
   "outputs": [],
   "source": [
    "tagged_seq_lexicon = Viterbi_Lexicon(test_tagged_words,unigram_tagger)"
   ]
  },
  {
   "cell_type": "markdown",
   "metadata": {},
   "source": [
    "### Accuracy of Viterbi_Lexicon with Validation Data set:"
   ]
  },
  {
   "cell_type": "code",
   "execution_count": 78,
   "metadata": {},
   "outputs": [
    {
     "name": "stdout",
     "output_type": "stream",
     "text": [
      "Validation Accuracy= 0.9007633587786259\n"
     ]
    }
   ],
   "source": [
    "FindAccuracy(tagged_seq_lexicon,test_run_base)"
   ]
  },
  {
   "cell_type": "markdown",
   "metadata": {},
   "source": [
    "## Running Viterbi_Lexicon with Test Data set"
   ]
  },
  {
   "cell_type": "code",
   "execution_count": 79,
   "metadata": {},
   "outputs": [],
   "source": [
    "taggedSequenceWithLexicon = Viterbi_Lexicon(words_test,unigram_tagger)"
   ]
  },
  {
   "cell_type": "markdown",
   "metadata": {},
   "source": [
    "### Accuracy of Viterbi_Lexicon with Test Data set:"
   ]
  },
  {
   "cell_type": "code",
   "execution_count": 80,
   "metadata": {},
   "outputs": [
    {
     "name": "stdout",
     "output_type": "stream",
     "text": [
      "Validation Accuracy= 0.9281767955801105\n"
     ]
    }
   ],
   "source": [
    "FindAccuracy(taggedSequenceWithLexicon,OriginalTagSetForTestData)"
   ]
  },
  {
   "cell_type": "markdown",
   "metadata": {},
   "source": [
    "# METHOD 2: Probabilistic Manipulation in Viterbi Algorithm"
   ]
  },
  {
   "cell_type": "markdown",
   "metadata": {},
   "source": [
    "For the unknown Words, the emission probabilities will become 0 as the numerator(count of the word with the tag) will be 0, in such cases we can try to just use the Transition Probability to find which tag to be used for the tag.\n",
    "\n",
    "Modifying the algo accordingly, by keep a tab on the transition probabilities untouched in the list **transitionProbabilitiesForthisTag**, and leveraging the max of this list when we have pmax==0"
   ]
  },
  {
   "cell_type": "code",
   "execution_count": 81,
   "metadata": {},
   "outputs": [],
   "source": [
    "# Viterbi Heuristic\n",
    "def Viterbi_Mod(words, train_data = taggedWordsInTrainDataset):\n",
    "    state = []\n",
    "    T = list(set([pair[1] for pair in train_data]))\n",
    "    #knownWords= list(set([pair[0] for pair in train_data]))\n",
    "    for key, word in enumerate(words):\n",
    "        #initialise list of probability column for a given observation\n",
    "        p = []\n",
    "        transitionProbabilitiesForthisTag=[]\n",
    "        for tag in T:\n",
    "            if key == 0:\n",
    "                transition_p = tagTransionDF.loc['.', tag]\n",
    "            else:\n",
    "                transition_p = tagTransionDF.loc[state[-1], tag]\n",
    "            transitionProbabilitiesForthisTag.append(transition_p)    \n",
    "            # compute emission and state probabilities\n",
    "            emissionForWordTag=EmissionProbability_WordgivenTag(words[key], tag)\n",
    "            emission_p = emissionForWordTag[0]/emissionForWordTag[1]\n",
    "            state_probability = emission_p * transition_p    \n",
    "            p.append(state_probability)\n",
    "            \n",
    "        pmax = max(p)\n",
    "        if(pmax==0):\n",
    "            p=transitionProbabilitiesForthisTag[:]\n",
    "            pmax=max(p)\n",
    "        # getting state for which probability is maximum\n",
    "        state_max = T[p.index(pmax)] \n",
    "        state.append(state_max)\n",
    "    return list(zip(words, state))\n",
    "\n"
   ]
  },
  {
   "cell_type": "markdown",
   "metadata": {},
   "source": [
    "## Runnig Viterbi_Mod with Validation Dataset"
   ]
  },
  {
   "cell_type": "code",
   "execution_count": 83,
   "metadata": {},
   "outputs": [],
   "source": [
    "tagged_seq_mod = Viterbi_Mod(test_tagged_words)"
   ]
  },
  {
   "cell_type": "markdown",
   "metadata": {},
   "source": [
    "### Accuracy of Viterbi_Mod with Validation Data set:"
   ]
  },
  {
   "cell_type": "code",
   "execution_count": 84,
   "metadata": {},
   "outputs": [
    {
     "name": "stdout",
     "output_type": "stream",
     "text": [
      "Validation Accuracy= 0.9312977099236641\n"
     ]
    }
   ],
   "source": [
    "FindAccuracy(tagged_seq_mod,test_run_base)"
   ]
  },
  {
   "cell_type": "markdown",
   "metadata": {},
   "source": [
    "## Running Viterbi_Mod with the Test Data set:"
   ]
  },
  {
   "cell_type": "code",
   "execution_count": 85,
   "metadata": {},
   "outputs": [],
   "source": [
    "taggedSequenceWithModifiedVersion=Viterbi_Mod(words_test)"
   ]
  },
  {
   "cell_type": "markdown",
   "metadata": {},
   "source": [
    "### Accuracy of Viterbi_Mod with Test Data set:"
   ]
  },
  {
   "cell_type": "code",
   "execution_count": 86,
   "metadata": {},
   "outputs": [
    {
     "name": "stdout",
     "output_type": "stream",
     "text": [
      "Validation Accuracy= 0.8674033149171271\n"
     ]
    }
   ],
   "source": [
    "FindAccuracy(taggedSequenceWithModifiedVersion,OriginalTagSetForTestData)"
   ]
  },
  {
   "cell_type": "markdown",
   "metadata": {},
   "source": [
    "Hence we can see that the accuracy has increased from 76% to 86% which is 10% more. "
   ]
  },
  {
   "cell_type": "markdown",
   "metadata": {},
   "source": [
    "## COMPARISION: Tagging Accuracy"
   ]
  },
  {
   "cell_type": "markdown",
   "metadata": {},
   "source": [
    "We can see that both, **Viterbi_Lexicon**  and **Viterbi_Mod** add and outperform Vanilla viterbi, in case of unknown words\n",
    "Its evident from the Accuracies obtained"
   ]
  },
  {
   "cell_type": "markdown",
   "metadata": {},
   "source": [
    "With **Lexicon based modification** the accuracy was:"
   ]
  },
  {
   "cell_type": "code",
   "execution_count": 87,
   "metadata": {},
   "outputs": [
    {
     "name": "stdout",
     "output_type": "stream",
     "text": [
      "Validation Accuracy= 0.9281767955801105\n"
     ]
    }
   ],
   "source": [
    "FindAccuracy(taggedSequenceWithLexicon,OriginalTagSetForTestData)"
   ]
  },
  {
   "cell_type": "markdown",
   "metadata": {},
   "source": [
    "This accuracy can further be imporved by writing better rules"
   ]
  },
  {
   "cell_type": "markdown",
   "metadata": {},
   "source": [
    "With **probability manipulation** the accuracy was:"
   ]
  },
  {
   "cell_type": "code",
   "execution_count": 89,
   "metadata": {},
   "outputs": [
    {
     "name": "stdout",
     "output_type": "stream",
     "text": [
      "Validation Accuracy= 0.8674033149171271\n"
     ]
    }
   ],
   "source": [
    "FindAccuracy(taggedSequenceWithModifiedVersion,OriginalTagSetForTestData)"
   ]
  },
  {
   "cell_type": "markdown",
   "metadata": {},
   "source": [
    "In Comparision to the actual **Vanilla Viterbi** Accuracy:"
   ]
  },
  {
   "cell_type": "code",
   "execution_count": 90,
   "metadata": {},
   "outputs": [
    {
     "name": "stdout",
     "output_type": "stream",
     "text": [
      "Validation Accuracy= 0.7679558011049724\n"
     ]
    }
   ],
   "source": [
    "FindAccuracy(tagged_seq_test,OriginalTagSetForTestData)"
   ]
  },
  {
   "cell_type": "markdown",
   "metadata": {},
   "source": [
    "## Cases of incorrect Tagging in each of the Models"
   ]
  },
  {
   "cell_type": "markdown",
   "metadata": {},
   "source": [
    "The sequence is: **[(Previous Word , tag) [(my version),(pos_tag version)]]**"
   ]
  },
  {
   "cell_type": "markdown",
   "metadata": {},
   "source": [
    "### Vanilla Viterbi"
   ]
  },
  {
   "cell_type": "code",
   "execution_count": 91,
   "metadata": {
    "scrolled": true
   },
   "outputs": [
    {
     "data": {
      "text/plain": [
       "[[('.', '.'), (('Android', 'ADJ'), ('Android', 'NOUN'))],\n",
       " [('by', 'ADP'), (('Google', 'ADJ'), ('Google', 'NOUN'))],\n",
       " [('.', '.'), (('Android', 'ADJ'), ('Android', 'NOUN'))],\n",
       " [('best-selling', 'ADJ'), (('OS', 'ADJ'), ('OS', 'NOUN'))],\n",
       " [('OS', 'NOUN'), (('worldwide', 'ADJ'), ('worldwide', 'NOUN'))],\n",
       " [('on', 'ADP'), (('smartphones', 'ADJ'), ('smartphones', 'NOUN'))],\n",
       " [('since', 'ADP'), (('2011', 'ADJ'), ('2011', 'NUM'))],\n",
       " [('since', 'ADP'), (('2013', 'ADJ'), ('2013', 'NUM'))],\n",
       " [('.', '.'), (('Google', 'ADJ'), ('Google', 'NOUN'))],\n",
       " [('and', 'CONJ'), (('Twitter', 'ADJ'), ('Twitter', 'NOUN'))],\n",
       " [('in', 'ADP'), (('2015', 'ADJ'), ('2015', 'NUM'))],\n",
       " [('2015', 'NUM'), (('that', 'ADP'), ('that', 'DET'))],\n",
       " [('gave', 'VERB'), (('Google', 'ADJ'), ('Google', 'NOUN'))],\n",
       " [('to', 'PRT'), (('Twitter', 'ADJ'), ('Twitter', 'NOUN'))],\n",
       " [(\"'s\", 'PRT'), (('firehose', 'ADJ'), ('firehose', 'NOUN'))],\n",
       " [('.', '.'), (('Twitter', 'ADJ'), ('Twitter', 'NOUN'))],\n",
       " [('and', 'CONJ'), (('interact', 'ADJ'), ('interact', 'NOUN'))],\n",
       " [('with', 'ADP'), (('messages', 'ADJ'), ('messages', 'NOUN'))],\n",
       " [('messages', 'NOUN'), (('known', 'ADJ'), ('known', 'VERB'))],\n",
       " [('as', 'ADP'), (('tweets', 'ADJ'), ('tweets', 'NOUN'))],\n",
       " [('television', 'NOUN'), (('personality', 'ADJ'), ('personality', 'NOUN'))],\n",
       " [('The', 'DET'), (('2018', 'ADJ'), ('2018', 'NUM'))],\n",
       " [('2018', 'NUM'), (('FIFA', 'ADJ'), ('FIFA', 'NOUN'))],\n",
       " [('World', 'NOUN'), (('Cup', 'ADJ'), ('Cup', 'NOUN'))],\n",
       " [('the', 'DET'), (('21st', 'ADJ'), ('21st', 'NUM'))],\n",
       " [('21st', 'NUM'), (('FIFA', 'ADJ'), ('FIFA', 'NOUN'))],\n",
       " [('World', 'NOUN'), (('Cup', 'ADJ'), ('Cup', 'NOUN'))],\n",
       " [('football', 'NOUN'), (('tournament', 'ADJ'), ('tournament', 'NOUN'))],\n",
       " [('tournament', 'NOUN'), (('contested', 'ADJ'), ('contested', 'VERB'))],\n",
       " [('World', 'NOUN'), (('Cup', 'ADJ'), ('Cup', 'NOUN'))],\n",
       " [('the', 'DET'), (('11th', 'ADJ'), ('11th', 'NUM'))],\n",
       " [('.', '.'), (('Show', 'NOUN'), ('Show', 'VERB'))],\n",
       " [('round', 'NOUN'), (('trips', 'ADJ'), ('trips', 'NOUN'))],\n",
       " [('would', 'VERB'), (('like', 'ADP'), ('like', 'VERB'))],\n",
       " [('.', '.'), (('Show', 'NOUN'), ('Show', 'VERB'))],\n",
       " [('at', 'ADP'), (('about', 'ADP'), ('about', 'ADV'))],\n",
       " [('and', 'CONJ'), (('arriving', 'ADJ'), ('arriving', 'NOUN'))],\n",
       " [('.', '.'), (('NASA', 'ADJ'), ('NASA', 'NOUN'))],\n",
       " [('NASA', 'NOUN'), (('invited', 'ADJ'), ('invited', 'VERB'))],\n",
       " [('to', 'PRT'), (('experience', 'NOUN'), ('experience', 'VERB'))],\n",
       " [('of', 'ADP'), (('ICESAT-2', 'ADJ'), ('ICESAT-2', 'NOUN'))],\n",
       " [('ICESAT-2', 'NOUN'), (('Satellite', 'ADJ'), ('Satellite', 'NOUN'))]]"
      ]
     },
     "execution_count": 91,
     "metadata": {},
     "output_type": "execute_result"
    }
   ],
   "source": [
    "VanillaMistakes=[[OriginalTagSetForTestData[i-1],j] for i, j in enumerate(zip(tagged_seq_test, OriginalTagSetForTestData)) if j[0]!=j[1]]\n",
    "VanillaMistakes"
   ]
  },
  {
   "cell_type": "markdown",
   "metadata": {},
   "source": [
    "### Viterbi_Lexicon"
   ]
  },
  {
   "cell_type": "code",
   "execution_count": 92,
   "metadata": {
    "scrolled": true
   },
   "outputs": [
    {
     "data": {
      "text/plain": [
       "[[('on', 'ADP'), (('smartphones', 'VERB'), ('smartphones', 'NOUN'))],\n",
       " [('2015', 'NUM'), (('that', 'ADP'), ('that', 'DET'))],\n",
       " [('an', 'DET'), (('online', 'NOUN'), ('online', 'ADJ'))],\n",
       " [('with', 'ADP'), (('messages', 'VERB'), ('messages', 'NOUN'))],\n",
       " [('a', 'DET'), (('domineering', 'VERB'), ('domineering', 'ADJ'))],\n",
       " [('the', 'DET'), (('21st', 'NOUN'), ('21st', 'NUM'))],\n",
       " [('the', 'DET'), (('11th', 'ADJ'), ('11th', 'NUM'))],\n",
       " [('.', '.'), (('Show', 'NOUN'), ('Show', 'VERB'))],\n",
       " [('would', 'VERB'), (('like', 'ADP'), ('like', 'VERB'))],\n",
       " [('.', '.'), (('Show', 'NOUN'), ('Show', 'VERB'))],\n",
       " [('at', 'ADP'), (('about', 'ADP'), ('about', 'ADV'))],\n",
       " [('and', 'CONJ'), (('arriving', 'VERB'), ('arriving', 'NOUN'))],\n",
       " [('to', 'PRT'), (('experience', 'NOUN'), ('experience', 'VERB'))]]"
      ]
     },
     "execution_count": 92,
     "metadata": {},
     "output_type": "execute_result"
    }
   ],
   "source": [
    "ViterbiLexiconMistakes=[[OriginalTagSetForTestData[i-1],j] for i, j in enumerate(zip(taggedSequenceWithLexicon, OriginalTagSetForTestData)) if j[0]!=j[1]]\n",
    "ViterbiLexiconMistakes"
   ]
  },
  {
   "cell_type": "markdown",
   "metadata": {},
   "source": [
    "### Viterbi_Mod"
   ]
  },
  {
   "cell_type": "code",
   "execution_count": 93,
   "metadata": {
    "scrolled": true
   },
   "outputs": [
    {
     "data": {
      "text/plain": [
       "[[('by', 'ADP'), (('Google', 'DET'), ('Google', 'NOUN'))],\n",
       " [('on', 'ADP'), (('smartphones', 'DET'), ('smartphones', 'NOUN'))],\n",
       " [('since', 'ADP'), (('2011', 'DET'), ('2011', 'NUM'))],\n",
       " [('since', 'ADP'), (('2013', 'DET'), ('2013', 'NUM'))],\n",
       " [('in', 'ADP'), (('2015', 'DET'), ('2015', 'NUM'))],\n",
       " [('2015', 'NUM'), (('that', 'ADP'), ('that', 'DET'))],\n",
       " [('gave', 'VERB'), (('Google', 'X'), ('Google', 'NOUN'))],\n",
       " [('to', 'PRT'), (('Twitter', 'VERB'), ('Twitter', 'NOUN'))],\n",
       " [(\"'s\", 'PRT'), (('firehose', 'VERB'), ('firehose', 'NOUN'))],\n",
       " [('an', 'DET'), (('online', 'NOUN'), ('online', 'ADJ'))],\n",
       " [('with', 'ADP'), (('messages', 'DET'), ('messages', 'NOUN'))],\n",
       " [('as', 'ADP'), (('tweets', 'DET'), ('tweets', 'NOUN'))],\n",
       " [('a', 'DET'), (('domineering', 'NOUN'), ('domineering', 'ADJ'))],\n",
       " [('The', 'DET'), (('2018', 'NOUN'), ('2018', 'NUM'))],\n",
       " [('the', 'DET'), (('21st', 'NOUN'), ('21st', 'NUM'))],\n",
       " [('tournament', 'NOUN'), (('contested', 'NOUN'), ('contested', 'VERB'))],\n",
       " [('the', 'DET'), (('11th', 'ADJ'), ('11th', 'NUM'))],\n",
       " [('.', '.'), (('Show', 'NOUN'), ('Show', 'VERB'))],\n",
       " [('would', 'VERB'), (('like', 'ADP'), ('like', 'VERB'))],\n",
       " [('.', '.'), (('Show', 'NOUN'), ('Show', 'VERB'))],\n",
       " [('at', 'ADP'), (('about', 'ADP'), ('about', 'ADV'))],\n",
       " [('NASA', 'NOUN'), (('invited', 'NOUN'), ('invited', 'VERB'))],\n",
       " [('to', 'PRT'), (('experience', 'NOUN'), ('experience', 'VERB'))],\n",
       " [('of', 'ADP'), (('ICESAT-2', 'DET'), ('ICESAT-2', 'NOUN'))]]"
      ]
     },
     "execution_count": 93,
     "metadata": {},
     "output_type": "execute_result"
    }
   ],
   "source": [
    "ViterbiModifiedMistaked=[[OriginalTagSetForTestData[i-1],j] for i, j in enumerate(zip(taggedSequenceWithModifiedVersion, OriginalTagSetForTestData)) if j[0]!=j[1]]\n",
    "ViterbiModifiedMistaked"
   ]
  },
  {
   "cell_type": "markdown",
   "metadata": {},
   "source": [
    "# Conclusion"
   ]
  },
  {
   "cell_type": "markdown",
   "metadata": {},
   "source": [
    "##### With these manipulations, following points are clear:\n",
    "1. For unknown words the emission probability become 0, as there are no instances of the word being tagged with a certain tag\n",
    "2. These will certainly decrease the accuracy of the tagger\n",
    "3. The unknown words need to be handled, with other taggers.\n",
    "4. A combination of taggers work better then a single tagger, as is the case of boosting.\n",
    "5. As Emission probability of unknown words become 0, taking only the transition probabilites can increase the accuracy by a lot.\n"
   ]
  },
  {
   "cell_type": "markdown",
   "metadata": {},
   "source": [
    "##### The following instance of words were correctly tagged by Viterbi_Lexicon OR Viterbi_Mod, OR Both, while being tagged wrong with Vanilla Viterbi\n",
    "\n",
    "Vanilla -> Viterbi_Mod-> Viterbi_Lexicon"
   ]
  },
  {
   "cell_type": "markdown",
   "metadata": {},
   "source": [
    "**(('Android', 'ADJ'), ('Android', 'NOUN')) -> (('Android', 'NOUN'), ('Android', 'NOUN')) -> (('Android', 'NOUN'), ('Android', 'NOUN'))**"
   ]
  },
  {
   "cell_type": "markdown",
   "metadata": {},
   "source": [
    "**(('firehose', 'ADJ'), ('firehose', 'NOUN')) -> (('firehose', 'VERB'), ('firehose', 'NOUN')) -> (('firehose', 'NOUN'), ('firehose', 'NOUN'))**"
   ]
  },
  {
   "cell_type": "markdown",
   "metadata": {},
   "source": [
    "**(('Google', 'ADJ'), ('Google', 'NOUN')) -> (('Google', 'ADJ'), ('Google', 'NOUN')) -> (('Google', 'NOUN'), ('Google', 'NOUN'))**"
   ]
  },
  {
   "cell_type": "code",
   "execution_count": 95,
   "metadata": {},
   "outputs": [],
   "source": [
    "AllTaggedTogether=[[OriginalTagSetForTestData[i-1],j] for i, j in enumerate(zip(tagged_seq_test,taggedSequenceWithLexicon,taggedSequenceWithModifiedVersion, OriginalTagSetForTestData)) if j[0]!=j[1]]"
   ]
  },
  {
   "cell_type": "code",
   "execution_count": 105,
   "metadata": {},
   "outputs": [
    {
     "name": "stdout",
     "output_type": "stream",
     "text": [
      "'Previous word ----( Vanilla ------Viterbi_Lexicon----------Viterbi_Mod------pos_tag)------------'\n",
      "[[('.', '.'), (('Android', 'ADJ'), ('Android', 'NOUN'), ('Android', 'NOUN'), ('Android', 'NOUN'))],\n",
      " [('by', 'ADP'), (('Google', 'ADJ'), ('Google', 'NOUN'), ('Google', 'DET'), ('Google', 'NOUN'))],\n",
      " [('.', '.'), (('Android', 'ADJ'), ('Android', 'NOUN'), ('Android', 'NOUN'), ('Android', 'NOUN'))],\n",
      " [('best-selling', 'ADJ'), (('OS', 'ADJ'), ('OS', 'NOUN'), ('OS', 'NOUN'), ('OS', 'NOUN'))],\n",
      " [('OS', 'NOUN'), (('worldwide', 'ADJ'), ('worldwide', 'NOUN'), ('worldwide', 'NOUN'), ('worldwide', 'NOUN'))],\n",
      " [('on', 'ADP'), (('smartphones', 'ADJ'), ('smartphones', 'VERB'), ('smartphones', 'DET'), ('smartphones', 'NOUN'))],\n",
      " [('since', 'ADP'), (('2011', 'ADJ'), ('2011', 'NUM'), ('2011', 'DET'), ('2011', 'NUM'))],\n",
      " [('since', 'ADP'), (('2013', 'ADJ'), ('2013', 'NUM'), ('2013', 'DET'), ('2013', 'NUM'))],\n",
      " [('.', '.'), (('Google', 'ADJ'), ('Google', 'NOUN'), ('Google', 'NOUN'), ('Google', 'NOUN'))],\n",
      " [('and', 'CONJ'), (('Twitter', 'ADJ'), ('Twitter', 'NOUN'), ('Twitter', 'NOUN'), ('Twitter', 'NOUN'))],\n",
      " [('in', 'ADP'), (('2015', 'ADJ'), ('2015', 'NUM'), ('2015', 'DET'), ('2015', 'NUM'))],\n",
      " [('gave', 'VERB'), (('Google', 'ADJ'), ('Google', 'NOUN'), ('Google', 'X'), ('Google', 'NOUN'))],\n",
      " [('to', 'PRT'), (('Twitter', 'ADJ'), ('Twitter', 'NOUN'), ('Twitter', 'VERB'), ('Twitter', 'NOUN'))],\n",
      " [(\"'s\", 'PRT'), (('firehose', 'ADJ'), ('firehose', 'NOUN'), ('firehose', 'VERB'), ('firehose', 'NOUN'))],\n",
      " [('.', '.'), (('Twitter', 'ADJ'), ('Twitter', 'NOUN'), ('Twitter', 'NOUN'), ('Twitter', 'NOUN'))],\n",
      " [('an', 'DET'), (('online', 'ADJ'), ('online', 'NOUN'), ('online', 'NOUN'), ('online', 'ADJ'))],\n",
      " [('and', 'CONJ'), (('interact', 'ADJ'), ('interact', 'NOUN'), ('interact', 'NOUN'), ('interact', 'NOUN'))],\n",
      " [('with', 'ADP'), (('messages', 'ADJ'), ('messages', 'VERB'), ('messages', 'DET'), ('messages', 'NOUN'))],\n",
      " [('messages', 'NOUN'), (('known', 'ADJ'), ('known', 'VERB'), ('known', 'VERB'), ('known', 'VERB'))],\n",
      " [('as', 'ADP'), (('tweets', 'ADJ'), ('tweets', 'NOUN'), ('tweets', 'DET'), ('tweets', 'NOUN'))],\n",
      " [('a', 'DET'), (('domineering', 'ADJ'), ('domineering', 'VERB'), ('domineering', 'NOUN'), ('domineering', 'ADJ'))],\n",
      " [('television', 'NOUN'), (('personality', 'ADJ'), ('personality', 'NOUN'), ('personality', 'NOUN'), ('personality', 'NOUN'))],\n",
      " [('The', 'DET'), (('2018', 'ADJ'), ('2018', 'NUM'), ('2018', 'NOUN'), ('2018', 'NUM'))],\n",
      " [('2018', 'NUM'), (('FIFA', 'ADJ'), ('FIFA', 'NOUN'), ('FIFA', 'NOUN'), ('FIFA', 'NOUN'))],\n",
      " [('World', 'NOUN'), (('Cup', 'ADJ'), ('Cup', 'NOUN'), ('Cup', 'NOUN'), ('Cup', 'NOUN'))],\n",
      " [('the', 'DET'), (('21st', 'ADJ'), ('21st', 'NOUN'), ('21st', 'NOUN'), ('21st', 'NUM'))],\n",
      " [('21st', 'NUM'), (('FIFA', 'ADJ'), ('FIFA', 'NOUN'), ('FIFA', 'NOUN'), ('FIFA', 'NOUN'))],\n",
      " [('World', 'NOUN'), (('Cup', 'ADJ'), ('Cup', 'NOUN'), ('Cup', 'NOUN'), ('Cup', 'NOUN'))],\n",
      " [('football', 'NOUN'), (('tournament', 'ADJ'), ('tournament', 'NOUN'), ('tournament', 'NOUN'), ('tournament', 'NOUN'))],\n",
      " [('tournament', 'NOUN'), (('contested', 'ADJ'), ('contested', 'VERB'), ('contested', 'NOUN'), ('contested', 'VERB'))],\n",
      " [('World', 'NOUN'), (('Cup', 'ADJ'), ('Cup', 'NOUN'), ('Cup', 'NOUN'), ('Cup', 'NOUN'))],\n",
      " [('round', 'NOUN'), (('trips', 'ADJ'), ('trips', 'NOUN'), ('trips', 'NOUN'), ('trips', 'NOUN'))],\n",
      " [('and', 'CONJ'), (('arriving', 'ADJ'), ('arriving', 'VERB'), ('arriving', 'NOUN'), ('arriving', 'NOUN'))],\n",
      " [('.', '.'), (('NASA', 'ADJ'), ('NASA', 'NOUN'), ('NASA', 'NOUN'), ('NASA', 'NOUN'))],\n",
      " [('NASA', 'NOUN'), (('invited', 'ADJ'), ('invited', 'VERB'), ('invited', 'NOUN'), ('invited', 'VERB'))],\n",
      " [('of', 'ADP'), (('ICESAT-2', 'ADJ'), ('ICESAT-2', 'NOUN'), ('ICESAT-2', 'DET'), ('ICESAT-2', 'NOUN'))],\n",
      " [('ICESAT-2', 'NOUN'), (('Satellite', 'ADJ'), ('Satellite', 'NOUN'), ('Satellite', 'NOUN'), ('Satellite', 'NOUN'))]]\n"
     ]
    }
   ],
   "source": [
    "pp=pprint.PrettyPrinter(indent=1, width=1000)\n",
    "pp.pprint(\"Previous word ----( Vanilla ------Viterbi_Lexicon----------Viterbi_Mod------pos_tag)------------\")\n",
    "pp.pprint(AllTaggedTogether)"
   ]
  },
  {
   "cell_type": "markdown",
   "metadata": {},
   "source": [
    "From the above piece of code we can see how the combination viterbi taggers work better then vanilla viterbi."
   ]
  }
 ],
 "metadata": {
  "kernelspec": {
   "display_name": "Python 3",
   "language": "python",
   "name": "python3"
  },
  "language_info": {
   "codemirror_mode": {
    "name": "ipython",
    "version": 3
   },
   "file_extension": ".py",
   "mimetype": "text/x-python",
   "name": "python",
   "nbconvert_exporter": "python",
   "pygments_lexer": "ipython3",
   "version": "3.7.4"
  }
 },
 "nbformat": 4,
 "nbformat_minor": 2
}
