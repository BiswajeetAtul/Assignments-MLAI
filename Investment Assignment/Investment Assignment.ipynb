{
 "cells": [
  {
   "cell_type": "markdown",
   "metadata": {},
   "source": [
    "# Sarting with the Investment Assignment:"
   ]
  },
  {
   "cell_type": "code",
   "execution_count": 3,
   "metadata": {},
   "outputs": [],
   "source": [
    "#Importing all necessary Packages\n",
    "import numpy as nm\n",
    "import pandas as pd\n",
    "import matplotlib.pyplot as plt\n",
    "import warnings\n",
    "import seaborn as sns"
   ]
  },
  {
   "cell_type": "code",
   "execution_count": 4,
   "metadata": {},
   "outputs": [],
   "source": [
    "#to Suppress unnecessary warnings\n",
    "warnings.filterwarnings(\"ignore\")"
   ]
  },
  {
   "cell_type": "markdown",
   "metadata": {},
   "source": [
    "# Please Use the CSV file OfficialEngCountries.csv to get the Countries Data"
   ]
  },
  {
   "cell_type": "code",
   "execution_count": 5,
   "metadata": {},
   "outputs": [],
   "source": [
    "#Defining path to each file used\n",
    "pathCompanies=\"D:/upgradMLAI/InvestmentAnalysisAssignment/companies.txt\"\n",
    "pathRounds=\"D:/upgradMLAI/InvestmentAnalysisAssignment/rounds2.csv\"\n",
    "pathCountries=\"D:/upgradMLAI/InvestmentAnalysisAssignment/OfficialEngCountries.csv\"\n",
    "pathMappings=\"D:/upgradMLAI/InvestmentAnalysisAssignment/mapping.csv\"\n",
    "#definign a lambda function to convert strings into lower case\n",
    "convertTolower=lambda x:x.lower()"
   ]
  },
  {
   "cell_type": "code",
   "execution_count": 6,
   "metadata": {},
   "outputs": [
    {
     "name": "stdout",
     "output_type": "stream",
     "text": [
      "----------------------------Reading Data---------------------------------\n"
     ]
    }
   ],
   "source": [
    "# encoding 'cp437' 'raw_unicode_escape' 'ISO-8859-1' 'latin_1'\n",
    "#Reading All files\n",
    "try:\n",
    "    print(\"----------------------------Reading Data---------------------------------\")\n",
    "    companies= pd.read_csv(pathCompanies, sep='\\t',encoding='latin_1')\n",
    "    rounds_2=pd.read_csv(pathRounds, sep=',',encoding='latin_1')\n",
    "    countries=pd.read_csv(pathCountries)\n",
    "    mappings=pd.read_csv(pathMappings)\n",
    "except Exception as e:\n",
    "    print(\"exception= \"+str(e))"
   ]
  },
  {
   "cell_type": "markdown",
   "metadata": {},
   "source": [
    "# Checkpoint 1"
   ]
  },
  {
   "cell_type": "code",
   "execution_count": 7,
   "metadata": {},
   "outputs": [
    {
     "name": "stdout",
     "output_type": "stream",
     "text": [
      "Starting Processing and Cleaning of Data\n",
      "-----------------------CONVERTING INTO LOWER-------------------\n",
      "End of Cleaning data For companies and round_2\n"
     ]
    }
   ],
   "source": [
    "# cleaning all data sets\n",
    "try:\n",
    "    print(\"Starting Processing and Cleaning of Data\")\n",
    "    print(\"-----------------------CONVERTING INTO LOWER-------------------\")\n",
    "    #converting permalinks into lower case to easily distinguish them\n",
    "    companies['indexed_permalink']=companies['permalink'].str.lower()\n",
    "    rounds_2['indexed_company_permalink']=rounds_2['company_permalink'].str.lower()\n",
    "    #setting the indexes \n",
    "    companies_indexed=companies.set_index(\"permalink\",verify_integrity=True)\n",
    "    rounds_indexed=rounds_2.set_index(\"funding_round_permalink\")\n",
    "    print(\"End of Cleaning data For companies and round_2\")\n",
    "\n",
    "except Exception as e:\n",
    "    print(\"exception= \"+str(e))"
   ]
  },
  {
   "cell_type": "code",
   "execution_count": 8,
   "metadata": {},
   "outputs": [
    {
     "name": "stdout",
     "output_type": "stream",
     "text": [
      "----------------Merging For MasterFrame----------------------\n"
     ]
    }
   ],
   "source": [
    "# merging datasets rounds_indexed and companies_indexed to obtain the master dataset\n",
    "try:\n",
    "    print(\"----------------Merging For MasterFrame----------------------\")\n",
    "    master_frame=pd.merge(rounds_indexed,companies_indexed,how=\"inner\",left_on=\"indexed_company_permalink\",right_on=\"indexed_permalink\")\n",
    "except Exception as e:\n",
    "    print(\"exception= \"+str(e))"
   ]
  },
  {
   "cell_type": "code",
   "execution_count": 9,
   "metadata": {},
   "outputs": [
    {
     "data": {
      "text/html": [
       "<div>\n",
       "<style scoped>\n",
       "    .dataframe tbody tr th:only-of-type {\n",
       "        vertical-align: middle;\n",
       "    }\n",
       "\n",
       "    .dataframe tbody tr th {\n",
       "        vertical-align: top;\n",
       "    }\n",
       "\n",
       "    .dataframe thead th {\n",
       "        text-align: right;\n",
       "    }\n",
       "</style>\n",
       "<table border=\"1\" class=\"dataframe\">\n",
       "  <thead>\n",
       "    <tr style=\"text-align: right;\">\n",
       "      <th></th>\n",
       "      <th>company_permalink</th>\n",
       "      <th>funding_round_type</th>\n",
       "      <th>funding_round_code</th>\n",
       "      <th>funded_at</th>\n",
       "      <th>raised_amount_usd</th>\n",
       "      <th>indexed_company_permalink</th>\n",
       "      <th>name</th>\n",
       "      <th>homepage_url</th>\n",
       "      <th>category_list</th>\n",
       "      <th>status</th>\n",
       "      <th>country_code</th>\n",
       "      <th>state_code</th>\n",
       "      <th>region</th>\n",
       "      <th>city</th>\n",
       "      <th>founded_at</th>\n",
       "      <th>indexed_permalink</th>\n",
       "    </tr>\n",
       "  </thead>\n",
       "  <tbody>\n",
       "    <tr>\n",
       "      <th>0</th>\n",
       "      <td>/organization/-fame</td>\n",
       "      <td>venture</td>\n",
       "      <td>B</td>\n",
       "      <td>05-01-2015</td>\n",
       "      <td>10000000.0</td>\n",
       "      <td>/organization/-fame</td>\n",
       "      <td>#fame</td>\n",
       "      <td>http://livfame.com</td>\n",
       "      <td>Media</td>\n",
       "      <td>operating</td>\n",
       "      <td>IND</td>\n",
       "      <td>16</td>\n",
       "      <td>Mumbai</td>\n",
       "      <td>Mumbai</td>\n",
       "      <td>NaN</td>\n",
       "      <td>/organization/-fame</td>\n",
       "    </tr>\n",
       "    <tr>\n",
       "      <th>1</th>\n",
       "      <td>/ORGANIZATION/-QOUNTER</td>\n",
       "      <td>venture</td>\n",
       "      <td>A</td>\n",
       "      <td>14-10-2014</td>\n",
       "      <td>NaN</td>\n",
       "      <td>/organization/-qounter</td>\n",
       "      <td>:Qounter</td>\n",
       "      <td>http://www.qounter.com</td>\n",
       "      <td>Application Platforms|Real Time|Social Network...</td>\n",
       "      <td>operating</td>\n",
       "      <td>USA</td>\n",
       "      <td>DE</td>\n",
       "      <td>DE - Other</td>\n",
       "      <td>Delaware City</td>\n",
       "      <td>04-09-2014</td>\n",
       "      <td>/organization/-qounter</td>\n",
       "    </tr>\n",
       "    <tr>\n",
       "      <th>2</th>\n",
       "      <td>/organization/-qounter</td>\n",
       "      <td>seed</td>\n",
       "      <td>NaN</td>\n",
       "      <td>01-03-2014</td>\n",
       "      <td>700000.0</td>\n",
       "      <td>/organization/-qounter</td>\n",
       "      <td>:Qounter</td>\n",
       "      <td>http://www.qounter.com</td>\n",
       "      <td>Application Platforms|Real Time|Social Network...</td>\n",
       "      <td>operating</td>\n",
       "      <td>USA</td>\n",
       "      <td>DE</td>\n",
       "      <td>DE - Other</td>\n",
       "      <td>Delaware City</td>\n",
       "      <td>04-09-2014</td>\n",
       "      <td>/organization/-qounter</td>\n",
       "    </tr>\n",
       "    <tr>\n",
       "      <th>3</th>\n",
       "      <td>/ORGANIZATION/-THE-ONE-OF-THEM-INC-</td>\n",
       "      <td>venture</td>\n",
       "      <td>B</td>\n",
       "      <td>30-01-2014</td>\n",
       "      <td>3406878.0</td>\n",
       "      <td>/organization/-the-one-of-them-inc-</td>\n",
       "      <td>(THE) ONE of THEM,Inc.</td>\n",
       "      <td>http://oneofthem.jp</td>\n",
       "      <td>Apps|Games|Mobile</td>\n",
       "      <td>operating</td>\n",
       "      <td>NaN</td>\n",
       "      <td>NaN</td>\n",
       "      <td>NaN</td>\n",
       "      <td>NaN</td>\n",
       "      <td>NaN</td>\n",
       "      <td>/organization/-the-one-of-them-inc-</td>\n",
       "    </tr>\n",
       "    <tr>\n",
       "      <th>4</th>\n",
       "      <td>/organization/0-6-com</td>\n",
       "      <td>venture</td>\n",
       "      <td>A</td>\n",
       "      <td>19-03-2008</td>\n",
       "      <td>2000000.0</td>\n",
       "      <td>/organization/0-6-com</td>\n",
       "      <td>0-6.com</td>\n",
       "      <td>http://www.0-6.com</td>\n",
       "      <td>Curated Web</td>\n",
       "      <td>operating</td>\n",
       "      <td>CHN</td>\n",
       "      <td>22</td>\n",
       "      <td>Beijing</td>\n",
       "      <td>Beijing</td>\n",
       "      <td>01-01-2007</td>\n",
       "      <td>/organization/0-6-com</td>\n",
       "    </tr>\n",
       "  </tbody>\n",
       "</table>\n",
       "</div>"
      ],
      "text/plain": [
       "                     company_permalink funding_round_type funding_round_code  \\\n",
       "0                  /organization/-fame            venture                  B   \n",
       "1               /ORGANIZATION/-QOUNTER            venture                  A   \n",
       "2               /organization/-qounter               seed                NaN   \n",
       "3  /ORGANIZATION/-THE-ONE-OF-THEM-INC-            venture                  B   \n",
       "4                /organization/0-6-com            venture                  A   \n",
       "\n",
       "    funded_at  raised_amount_usd            indexed_company_permalink  \\\n",
       "0  05-01-2015         10000000.0                  /organization/-fame   \n",
       "1  14-10-2014                NaN               /organization/-qounter   \n",
       "2  01-03-2014           700000.0               /organization/-qounter   \n",
       "3  30-01-2014          3406878.0  /organization/-the-one-of-them-inc-   \n",
       "4  19-03-2008          2000000.0                /organization/0-6-com   \n",
       "\n",
       "                     name            homepage_url  \\\n",
       "0                   #fame      http://livfame.com   \n",
       "1                :Qounter  http://www.qounter.com   \n",
       "2                :Qounter  http://www.qounter.com   \n",
       "3  (THE) ONE of THEM,Inc.     http://oneofthem.jp   \n",
       "4                 0-6.com      http://www.0-6.com   \n",
       "\n",
       "                                       category_list     status country_code  \\\n",
       "0                                              Media  operating          IND   \n",
       "1  Application Platforms|Real Time|Social Network...  operating          USA   \n",
       "2  Application Platforms|Real Time|Social Network...  operating          USA   \n",
       "3                                  Apps|Games|Mobile  operating          NaN   \n",
       "4                                        Curated Web  operating          CHN   \n",
       "\n",
       "  state_code      region           city  founded_at  \\\n",
       "0         16      Mumbai         Mumbai         NaN   \n",
       "1         DE  DE - Other  Delaware City  04-09-2014   \n",
       "2         DE  DE - Other  Delaware City  04-09-2014   \n",
       "3        NaN         NaN            NaN         NaN   \n",
       "4         22     Beijing        Beijing  01-01-2007   \n",
       "\n",
       "                     indexed_permalink  \n",
       "0                  /organization/-fame  \n",
       "1               /organization/-qounter  \n",
       "2               /organization/-qounter  \n",
       "3  /organization/-the-one-of-them-inc-  \n",
       "4                /organization/0-6-com  "
      ]
     },
     "execution_count": 9,
     "metadata": {},
     "output_type": "execute_result"
    }
   ],
   "source": [
    "master_frame.head()"
   ]
  },
  {
   "cell_type": "code",
   "execution_count": 10,
   "metadata": {},
   "outputs": [
    {
     "name": "stdout",
     "output_type": "stream",
     "text": [
      "No of unique Companies in Rounds2= 66370\n",
      "No of unique Companies in companies= 66368\n"
     ]
    }
   ],
   "source": [
    "try:\n",
    "    ########################How many unique companies are present in rounds2?#####################################\n",
    "    print(\"No of unique Companies in Rounds2= \"+ str(rounds_indexed['indexed_company_permalink'].nunique()))\n",
    "    ########################How many unique companies are present in companies?#####################################\n",
    "    print(\"No of unique Companies in companies= \"+ str(companies_indexed['indexed_permalink'].nunique()))\n",
    "except Exception as e:\n",
    "    print(\"exception= \"+str(e))"
   ]
  },
  {
   "cell_type": "markdown",
   "metadata": {},
   "source": [
    "# Checkpoint 2"
   ]
  },
  {
   "cell_type": "code",
   "execution_count": 29,
   "metadata": {},
   "outputs": [
    {
     "name": "stdout",
     "output_type": "stream",
     "text": [
      "----------------CHECKPOINT 2----------------------\n",
      "Max mean Investement Done in : post_ipo_debt\n",
      "VENTURE, mean=10634246.064837007\n",
      "Angel, mean=764564.3457499179\n",
      "seed, mean=556662.9070057016\n",
      "equity, mean=62111788.2297593\n"
     ]
    }
   ],
   "source": [
    "try:\n",
    "    print(\"----------------CHECKPOINT 2----------------------\")\n",
    "    cleanedData=master_frame[['funding_round_type','raised_amount_usd']]\n",
    "    cleanedData.fillna(0,inplace=True)\n",
    "    averageTable=cleanedData.groupby('funding_round_type')['raised_amount_usd'].mean()\n",
    "    print(\"Max mean Investement Done in : \"+averageTable.idxmax())\n",
    "    dataForVenture=master_frame[master_frame['funding_round_type']=='venture'].fillna(0)\n",
    "    dataForAngel=master_frame[master_frame['funding_round_type']=='angel'].fillna(0)\n",
    "    dataForSeed=master_frame[master_frame['funding_round_type']=='seed'].fillna(0)\n",
    "    dataForPEquity=master_frame[master_frame['funding_round_type']=='private_equity'].fillna(0)\n",
    "    print(\"VENTURE, mean=\"+str(dataForVenture['raised_amount_usd'].mean()))\n",
    "    print(\"Angel, mean=\"+str(dataForAngel['raised_amount_usd'].mean()))\n",
    "    print(\"seed, mean=\"+str(dataForSeed['raised_amount_usd'].mean()))\n",
    "    print(\"equity, mean=\"+str(dataForPEquity['raised_amount_usd'].mean()))\n",
    "except Exception as e:\n",
    "    print(\"exception= \"+str(e))"
   ]
  },
  {
   "cell_type": "markdown",
   "metadata": {},
   "source": [
    "# Checkpoint 3"
   ]
  },
  {
   "cell_type": "code",
   "execution_count": 12,
   "metadata": {},
   "outputs": [
    {
     "name": "stdout",
     "output_type": "stream",
     "text": [
      "----------------CHECKPOINT 3----------------------\n",
      "    country_code  raised_amount_usd\n",
      "100          USA       4.225108e+11\n",
      "16           CHN       3.983542e+10\n",
      "31           GBR       2.024563e+10\n",
      "41           IND       1.439186e+10\n",
      "13           CAN       9.583332e+09\n",
      "30           FRA       7.259537e+09\n",
      "44           ISR       6.907515e+09\n",
      "23           DEU       6.346960e+09\n",
      "47           JPN       3.363677e+09\n",
      "90           SWE       3.254953e+09\n"
     ]
    }
   ],
   "source": [
    "try:\n",
    "    print(\"----------------CHECKPOINT 3----------------------\")\n",
    "    \n",
    "    top_9=master_frame[[\"funding_round_type\",\"raised_amount_usd\",\"country_code\"]]\n",
    "    top_9=top_9[top_9[\"funding_round_type\"]==\"venture\"]\n",
    "    top_9=top_9.groupby(\"country_code\")[\"raised_amount_usd\"].sum().reset_index()\n",
    "    top_9=top_9.sort_values(by=\"raised_amount_usd\", ascending=False)[0:10]\n",
    "    print(top_9)\n",
    "    top_3=pd.merge(top_9,countries,how=\"inner\",left_on=\"country_code\",right_on=\"Code\")[0:3]\n",
    "    top_3=top_3.drop([\"Code\"], axis=1)\n",
    "except Exception as e:\n",
    "    print(\"exception= \"+str(e))"
   ]
  },
  {
   "cell_type": "code",
   "execution_count": 13,
   "metadata": {},
   "outputs": [
    {
     "data": {
      "text/html": [
       "<div>\n",
       "<style scoped>\n",
       "    .dataframe tbody tr th:only-of-type {\n",
       "        vertical-align: middle;\n",
       "    }\n",
       "\n",
       "    .dataframe tbody tr th {\n",
       "        vertical-align: top;\n",
       "    }\n",
       "\n",
       "    .dataframe thead th {\n",
       "        text-align: right;\n",
       "    }\n",
       "</style>\n",
       "<table border=\"1\" class=\"dataframe\">\n",
       "  <thead>\n",
       "    <tr style=\"text-align: right;\">\n",
       "      <th></th>\n",
       "      <th>country_code</th>\n",
       "      <th>raised_amount_usd</th>\n",
       "      <th>Country</th>\n",
       "    </tr>\n",
       "  </thead>\n",
       "  <tbody>\n",
       "    <tr>\n",
       "      <th>0</th>\n",
       "      <td>USA</td>\n",
       "      <td>4.225108e+11</td>\n",
       "      <td>United States                                 ...</td>\n",
       "    </tr>\n",
       "    <tr>\n",
       "      <th>1</th>\n",
       "      <td>GBR</td>\n",
       "      <td>2.024563e+10</td>\n",
       "      <td>United Kingdom                                ...</td>\n",
       "    </tr>\n",
       "    <tr>\n",
       "      <th>2</th>\n",
       "      <td>IND</td>\n",
       "      <td>1.439186e+10</td>\n",
       "      <td>India</td>\n",
       "    </tr>\n",
       "  </tbody>\n",
       "</table>\n",
       "</div>"
      ],
      "text/plain": [
       "  country_code  raised_amount_usd  \\\n",
       "0          USA       4.225108e+11   \n",
       "1          GBR       2.024563e+10   \n",
       "2          IND       1.439186e+10   \n",
       "\n",
       "                                             Country  \n",
       "0  United States                                 ...  \n",
       "1  United Kingdom                                ...  \n",
       "2                                              India  "
      ]
     },
     "execution_count": 13,
     "metadata": {},
     "output_type": "execute_result"
    }
   ],
   "source": [
    "top_3.head()"
   ]
  },
  {
   "cell_type": "markdown",
   "metadata": {},
   "source": [
    "# Checkpoint 4"
   ]
  },
  {
   "cell_type": "code",
   "execution_count": 14,
   "metadata": {},
   "outputs": [
    {
     "name": "stdout",
     "output_type": "stream",
     "text": [
      "------------------------CHECKPOINT 4-------------------------\n",
      "---------------Starting Sector Analysis 1-------------------\n",
      "End Sector Analysis 1\n"
     ]
    }
   ],
   "source": [
    "try:\n",
    "    print(\"------------------------CHECKPOINT 4-------------------------\")\n",
    "    print(\"---------------Starting Sector Analysis 1-------------------\")\n",
    "    #Reducing the sparse matrix type data in Mappings.csv\n",
    "    #replacing 0 with 'na' in category_list cloumn\n",
    "    mappings['category_list']=mappings['category_list'].str.replace('0','na')\n",
    "    #reduction of sparse matrix:\n",
    "    mappings_reduced=pd.melt(mappings,id_vars=[\"category_list\"])\n",
    "    mappings_reduced=mappings_reduced.where(mappings_reduced[\"value\"]==1)\n",
    "    mappings_reduced=mappings_reduced.dropna()\n",
    "    mappings_reduced=mappings_reduced.rename(columns={\"variable\": \"main_sector\"})\n",
    "    mappings_reduced=mappings_reduced.drop('value',axis=1)\n",
    "    #End of Reduction of Sparse matrix\n",
    "    #Preparing master_frame for obtaining primary sector\n",
    "    primary_sectors=master_frame['category_list'].str.split('|',n=1,expand=True)\n",
    "    master_frame[\"primary_sector\"]=primary_sectors[0]\n",
    "    # Obtianing master data with both primary and main sectors\n",
    "    master_frame=pd.merge(master_frame,mappings_reduced, how='left',left_on='primary_sector',right_on='category_list')\n",
    "    master_frame.drop([\"category_list_y\",\"category_list_x\"],axis=1,inplace=True)\n",
    "    print(\"End Sector Analysis 1\")\n",
    "except Exception as e:\n",
    "    print(\"exception= \"+str(e))"
   ]
  },
  {
   "cell_type": "code",
   "execution_count": 15,
   "metadata": {},
   "outputs": [
    {
     "data": {
      "text/html": [
       "<div>\n",
       "<style scoped>\n",
       "    .dataframe tbody tr th:only-of-type {\n",
       "        vertical-align: middle;\n",
       "    }\n",
       "\n",
       "    .dataframe tbody tr th {\n",
       "        vertical-align: top;\n",
       "    }\n",
       "\n",
       "    .dataframe thead th {\n",
       "        text-align: right;\n",
       "    }\n",
       "</style>\n",
       "<table border=\"1\" class=\"dataframe\">\n",
       "  <thead>\n",
       "    <tr style=\"text-align: right;\">\n",
       "      <th></th>\n",
       "      <th>company_permalink</th>\n",
       "      <th>funding_round_type</th>\n",
       "      <th>funding_round_code</th>\n",
       "      <th>funded_at</th>\n",
       "      <th>raised_amount_usd</th>\n",
       "      <th>indexed_company_permalink</th>\n",
       "      <th>name</th>\n",
       "      <th>homepage_url</th>\n",
       "      <th>status</th>\n",
       "      <th>country_code</th>\n",
       "      <th>state_code</th>\n",
       "      <th>region</th>\n",
       "      <th>city</th>\n",
       "      <th>founded_at</th>\n",
       "      <th>indexed_permalink</th>\n",
       "      <th>primary_sector</th>\n",
       "      <th>main_sector</th>\n",
       "    </tr>\n",
       "  </thead>\n",
       "  <tbody>\n",
       "    <tr>\n",
       "      <th>0</th>\n",
       "      <td>/organization/-fame</td>\n",
       "      <td>venture</td>\n",
       "      <td>B</td>\n",
       "      <td>05-01-2015</td>\n",
       "      <td>10000000.0</td>\n",
       "      <td>/organization/-fame</td>\n",
       "      <td>#fame</td>\n",
       "      <td>http://livfame.com</td>\n",
       "      <td>operating</td>\n",
       "      <td>IND</td>\n",
       "      <td>16</td>\n",
       "      <td>Mumbai</td>\n",
       "      <td>Mumbai</td>\n",
       "      <td>NaN</td>\n",
       "      <td>/organization/-fame</td>\n",
       "      <td>Media</td>\n",
       "      <td>Entertainment</td>\n",
       "    </tr>\n",
       "    <tr>\n",
       "      <th>1</th>\n",
       "      <td>/ORGANIZATION/-QOUNTER</td>\n",
       "      <td>venture</td>\n",
       "      <td>A</td>\n",
       "      <td>14-10-2014</td>\n",
       "      <td>NaN</td>\n",
       "      <td>/organization/-qounter</td>\n",
       "      <td>:Qounter</td>\n",
       "      <td>http://www.qounter.com</td>\n",
       "      <td>operating</td>\n",
       "      <td>USA</td>\n",
       "      <td>DE</td>\n",
       "      <td>DE - Other</td>\n",
       "      <td>Delaware City</td>\n",
       "      <td>04-09-2014</td>\n",
       "      <td>/organization/-qounter</td>\n",
       "      <td>Application Platforms</td>\n",
       "      <td>News, Search and Messaging</td>\n",
       "    </tr>\n",
       "    <tr>\n",
       "      <th>2</th>\n",
       "      <td>/organization/-qounter</td>\n",
       "      <td>seed</td>\n",
       "      <td>NaN</td>\n",
       "      <td>01-03-2014</td>\n",
       "      <td>700000.0</td>\n",
       "      <td>/organization/-qounter</td>\n",
       "      <td>:Qounter</td>\n",
       "      <td>http://www.qounter.com</td>\n",
       "      <td>operating</td>\n",
       "      <td>USA</td>\n",
       "      <td>DE</td>\n",
       "      <td>DE - Other</td>\n",
       "      <td>Delaware City</td>\n",
       "      <td>04-09-2014</td>\n",
       "      <td>/organization/-qounter</td>\n",
       "      <td>Application Platforms</td>\n",
       "      <td>News, Search and Messaging</td>\n",
       "    </tr>\n",
       "    <tr>\n",
       "      <th>3</th>\n",
       "      <td>/ORGANIZATION/-THE-ONE-OF-THEM-INC-</td>\n",
       "      <td>venture</td>\n",
       "      <td>B</td>\n",
       "      <td>30-01-2014</td>\n",
       "      <td>3406878.0</td>\n",
       "      <td>/organization/-the-one-of-them-inc-</td>\n",
       "      <td>(THE) ONE of THEM,Inc.</td>\n",
       "      <td>http://oneofthem.jp</td>\n",
       "      <td>operating</td>\n",
       "      <td>NaN</td>\n",
       "      <td>NaN</td>\n",
       "      <td>NaN</td>\n",
       "      <td>NaN</td>\n",
       "      <td>NaN</td>\n",
       "      <td>/organization/-the-one-of-them-inc-</td>\n",
       "      <td>Apps</td>\n",
       "      <td>News, Search and Messaging</td>\n",
       "    </tr>\n",
       "    <tr>\n",
       "      <th>4</th>\n",
       "      <td>/organization/0-6-com</td>\n",
       "      <td>venture</td>\n",
       "      <td>A</td>\n",
       "      <td>19-03-2008</td>\n",
       "      <td>2000000.0</td>\n",
       "      <td>/organization/0-6-com</td>\n",
       "      <td>0-6.com</td>\n",
       "      <td>http://www.0-6.com</td>\n",
       "      <td>operating</td>\n",
       "      <td>CHN</td>\n",
       "      <td>22</td>\n",
       "      <td>Beijing</td>\n",
       "      <td>Beijing</td>\n",
       "      <td>01-01-2007</td>\n",
       "      <td>/organization/0-6-com</td>\n",
       "      <td>Curated Web</td>\n",
       "      <td>News, Search and Messaging</td>\n",
       "    </tr>\n",
       "  </tbody>\n",
       "</table>\n",
       "</div>"
      ],
      "text/plain": [
       "                     company_permalink funding_round_type funding_round_code  \\\n",
       "0                  /organization/-fame            venture                  B   \n",
       "1               /ORGANIZATION/-QOUNTER            venture                  A   \n",
       "2               /organization/-qounter               seed                NaN   \n",
       "3  /ORGANIZATION/-THE-ONE-OF-THEM-INC-            venture                  B   \n",
       "4                /organization/0-6-com            venture                  A   \n",
       "\n",
       "    funded_at  raised_amount_usd            indexed_company_permalink  \\\n",
       "0  05-01-2015         10000000.0                  /organization/-fame   \n",
       "1  14-10-2014                NaN               /organization/-qounter   \n",
       "2  01-03-2014           700000.0               /organization/-qounter   \n",
       "3  30-01-2014          3406878.0  /organization/-the-one-of-them-inc-   \n",
       "4  19-03-2008          2000000.0                /organization/0-6-com   \n",
       "\n",
       "                     name            homepage_url     status country_code  \\\n",
       "0                   #fame      http://livfame.com  operating          IND   \n",
       "1                :Qounter  http://www.qounter.com  operating          USA   \n",
       "2                :Qounter  http://www.qounter.com  operating          USA   \n",
       "3  (THE) ONE of THEM,Inc.     http://oneofthem.jp  operating          NaN   \n",
       "4                 0-6.com      http://www.0-6.com  operating          CHN   \n",
       "\n",
       "  state_code      region           city  founded_at  \\\n",
       "0         16      Mumbai         Mumbai         NaN   \n",
       "1         DE  DE - Other  Delaware City  04-09-2014   \n",
       "2         DE  DE - Other  Delaware City  04-09-2014   \n",
       "3        NaN         NaN            NaN         NaN   \n",
       "4         22     Beijing        Beijing  01-01-2007   \n",
       "\n",
       "                     indexed_permalink         primary_sector  \\\n",
       "0                  /organization/-fame                  Media   \n",
       "1               /organization/-qounter  Application Platforms   \n",
       "2               /organization/-qounter  Application Platforms   \n",
       "3  /organization/-the-one-of-them-inc-                   Apps   \n",
       "4                /organization/0-6-com            Curated Web   \n",
       "\n",
       "                  main_sector  \n",
       "0               Entertainment  \n",
       "1  News, Search and Messaging  \n",
       "2  News, Search and Messaging  \n",
       "3  News, Search and Messaging  \n",
       "4  News, Search and Messaging  "
      ]
     },
     "execution_count": 15,
     "metadata": {},
     "output_type": "execute_result"
    }
   ],
   "source": [
    "master_frame.head()"
   ]
  },
  {
   "cell_type": "markdown",
   "metadata": {},
   "source": [
    "# Checkpoint 5"
   ]
  },
  {
   "cell_type": "code",
   "execution_count": 16,
   "metadata": {},
   "outputs": [
    {
     "name": "stdout",
     "output_type": "stream",
     "text": [
      "------------------CHECKPOINT 5------------------------\n",
      "--------------Starting Sector Analysis 2----------------\n",
      "Creating D1 for USA\n",
      "Creating D2 for GRB\n",
      "Creating D3 for IND\n"
     ]
    }
   ],
   "source": [
    "try:\n",
    "    print(\"------------------CHECKPOINT 5------------------------\")\n",
    "    print(\"--------------Starting Sector Analysis 2----------------\")\n",
    "    FrameFundingTypeVenture=master_frame[(master_frame[\"funding_round_type\"]=='venture') & (master_frame['raised_amount_usd'] >= 5000000) & (master_frame['raised_amount_usd'] <= 15000000)]\n",
    "    print(\"Creating D1 for USA\")\n",
    "    D1=FrameFundingTypeVenture[FrameFundingTypeVenture[\"country_code\"]==top_3.loc[0][0]]\n",
    "    D1=D1.where((D1['raised_amount_usd'] >= 5000000) & (D1['raised_amount_usd'] <= 15000000))\n",
    "    D1.dropna(subset=['raised_amount_usd'])\n",
    "    print(\"Creating D2 for GRB\")\n",
    "    D2=FrameFundingTypeVenture[FrameFundingTypeVenture[\"country_code\"]==top_3.loc[1][0]]\n",
    "    D2=D2.where((D2['raised_amount_usd'] >= 5000000) & (D2['raised_amount_usd'] <= 15000000))\n",
    "    D2.dropna(subset=['raised_amount_usd'])\n",
    "    print(\"Creating D3 for IND\")\n",
    "    D3=FrameFundingTypeVenture[FrameFundingTypeVenture[\"country_code\"]==top_3.loc[2][0]]\n",
    "    D3=D3.where((D3['raised_amount_usd'] >= 5000000) & (D3['raised_amount_usd'] <= 15000000))\n",
    "    D3.dropna(subset=['raised_amount_usd'])\n",
    "    #Finding Top main Sectors\n",
    "    TotalCountInvestmentsD1=D1.groupby(\"main_sector\")[\"raised_amount_usd\"].count().reset_index(drop=False).sort_values(by=\"raised_amount_usd\",ascending=False)\n",
    "    TotalCountInvestmentsD2=D2.groupby(\"main_sector\")[\"raised_amount_usd\"].count().reset_index(drop=False).sort_values(by=\"raised_amount_usd\",ascending=False)\n",
    "    TotalCountInvestmentsD3=D3.groupby(\"main_sector\")[\"raised_amount_usd\"].count().reset_index(drop=False).sort_values(by=\"raised_amount_usd\",ascending=False)\n",
    "    TotalAmountInvestmentsD1=D1.groupby(\"main_sector\")[\"raised_amount_usd\"].sum().reset_index(drop=False).sort_values(by=\"raised_amount_usd\",ascending=False)\n",
    "    TotalAmountInvestmentsD2=D2.groupby(\"main_sector\")[\"raised_amount_usd\"].sum().reset_index(drop=False).sort_values(by=\"raised_amount_usd\",ascending=False)\n",
    "    TotalAmountInvestmentsD3=D3.groupby(\"main_sector\")[\"raised_amount_usd\"].sum().reset_index(drop=False).sort_values(by=\"raised_amount_usd\",ascending=False)\n",
    "    TotalCountInvestmentsD1.rename(inplace=True,  columns={\"raised_amount_usd\": \"count_investments\"})\n",
    "    TotalCountInvestmentsD2.rename(inplace=True,  columns={\"raised_amount_usd\": \"count_investments\"})\n",
    "    TotalCountInvestmentsD3.rename(inplace=True,  columns={\"raised_amount_usd\": \"count_investments\"})\n",
    "    TotalAmountInvestmentsD1.rename(inplace=True,  columns={\"raised_amount_usd\": \"amount_investments\"})\n",
    "    TotalAmountInvestmentsD2.rename(inplace=True, columns={\"raised_amount_usd\": \"amount_investments\"})\n",
    "    TotalAmountInvestmentsD3.rename(inplace=True, columns={\"raised_amount_usd\": \"amount_investments\"})\n",
    "    TotalInvestmentsD1=pd.merge(TotalCountInvestmentsD1,TotalAmountInvestmentsD1,left_on=\"main_sector\",right_on=\"main_sector\",how=\"inner\")\n",
    "    TotalInvestmentsD2=pd.merge(TotalCountInvestmentsD2,TotalAmountInvestmentsD2,left_on=\"main_sector\",right_on=\"main_sector\",how=\"inner\")\n",
    "    TotalInvestmentsD3=pd.merge(TotalCountInvestmentsD3,TotalAmountInvestmentsD3,left_on=\"main_sector\",right_on=\"main_sector\",how=\"inner\")\n",
    "    D1=pd.merge(D1,TotalInvestmentsD1,left_on=\"main_sector\",right_on=\"main_sector\",how=\"inner\")\n",
    "    D2=pd.merge(D2,TotalInvestmentsD1,left_on=\"main_sector\",right_on=\"main_sector\",how=\"inner\")\n",
    "    D3=pd.merge(D3,TotalInvestmentsD1,left_on=\"main_sector\",right_on=\"main_sector\",how=\"inner\")\n",
    "except Exception as e:\n",
    "    print(\"exception= \"+str(e))"
   ]
  },
  {
   "cell_type": "code",
   "execution_count": 17,
   "metadata": {},
   "outputs": [
    {
     "name": "stdout",
     "output_type": "stream",
     "text": [
      "Total number Of investments in D1=12012\n",
      "Total number Of investments in D2=619\n",
      "Total number Of investments in D3=328\n",
      "Total amount Of investments in D1= $107318294664.0\n",
      "Total amount Of investments in D2= $5365228300.0\n",
      "Total amount Of investments in D3= $2949543602.0\n"
     ]
    }
   ],
   "source": [
    "try:\n",
    "    ##############Total number of Investments (count)\n",
    "    print(\"Total number Of investments in D1=\"+str(D1[\"raised_amount_usd\"].count()))\n",
    "    print(\"Total number Of investments in D2=\"+str(D2[\"raised_amount_usd\"].count()))\n",
    "    print(\"Total number Of investments in D3=\"+str(D3[\"raised_amount_usd\"].count()))\n",
    "\n",
    "    \n",
    "    ##################Total amount of investment (USD)\n",
    "    print(\"Total amount Of investments in D1= $\"+str(D1[\"raised_amount_usd\"].sum()))\n",
    "    print(\"Total amount Of investments in D2= $\"+str(D2[\"raised_amount_usd\"].sum()))\n",
    "    print(\"Total amount Of investments in D3= $\"+str(D3[\"raised_amount_usd\"].sum()))\n",
    "except Exception as e:\n",
    "    print(\"exception= \"+str(e))"
   ]
  },
  {
   "cell_type": "code",
   "execution_count": 27,
   "metadata": {},
   "outputs": [
    {
     "name": "stdout",
     "output_type": "stream",
     "text": [
      "Top Sector in D1=['Others' 2950 26321007002.0]\n",
      "Top Sector in D2=['Others' 147 1283624289.0]\n",
      "Top Sector in D3=['Others' 110 1013409507.0]\n",
      "--------------------------------------\n",
      "2nd Top Sector in D1=['Social, Finance, Analytics, Advertising' 2714 23807376964.0]\n",
      "2nd Top Sector in D2=['Social, Finance, Analytics, Advertising' 133 1089404014.0]\n",
      "2nd Top Sector in D3=['Social, Finance, Analytics, Advertising' 60 550549550.0]\n",
      "--------------------------------------\n",
      "3rd Top Sector in D1=['Cleantech / Semiconductors' 2300 21206628192.0]\n",
      "3rd Top Sector in D2=['Cleantech / Semiconductors' 128 1150139665.0]\n",
      "3rd Top Sector in D3=['News, Search and Messaging' 52 433834545.0]\n",
      "--------------------------------------\n",
      "No. of Investments in Top Sector - 'Others' For D1=2950\n",
      "No. of Investments in Top Sector - 'Others' For D2=147\n",
      "No. of Investments in Top Sector - 'Others' For D3=110\n",
      "--------------------------------------\n",
      "No. of Investments in 2nd Top Sector - 'Social, Finance, Analytics, Advertising' For D1=2714\n",
      "No. of Investments in 2nd Top Sector - 'Social, Finance, Analytics, Advertising' For D2=133\n",
      "No. of Investments in 2nd Top Sector - 'Social, Finance, Analytics, Advertising' For D3=60\n",
      "--------------------------------------\n",
      "No. of Investments in 3rd Top Sector - 'Cleantech / Semiconductors' For D1=2300\n",
      "No. of Investments in 3rd Top Sector - 'Cleantech / Semiconductors' For D2=128\n",
      "No. of Investments in 3rd Top Sector - 'News, Search and Messaging' For D3=52\n",
      "--------------------------------------\n"
     ]
    }
   ],
   "source": [
    "try:\n",
    "    \n",
    "    ################Top Sector name (no. of investment-wise)\n",
    "    print(\"Top Sector in D1=\"+str(TotalInvestmentsD1.values[0]))\n",
    "    print(\"Top Sector in D2=\"+str(TotalInvestmentsD2.values[0]))\n",
    "    print(\"Top Sector in D3=\"+str(TotalInvestmentsD3.values[0]))\n",
    "    print(\"--------------------------------------\")\n",
    "    ###################Second Sector name (no. of investment-wise)\n",
    "    print(\"2nd Top Sector in D1=\"+str(TotalInvestmentsD1.values[1]))\n",
    "    print(\"2nd Top Sector in D2=\"+str(TotalInvestmentsD2.values[1]))\n",
    "    print(\"2nd Top Sector in D3=\"+str(TotalInvestmentsD3.values[1]))\n",
    "    print(\"--------------------------------------\")\n",
    "    ####################Third Sector name (no. of investment-wise)\n",
    "    print(\"3rd Top Sector in D1=\"+str(TotalInvestmentsD1.values[2]))\n",
    "    print(\"3rd Top Sector in D2=\"+str(TotalInvestmentsD2.values[2]))\n",
    "    print(\"3rd Top Sector in D3=\"+str(TotalInvestmentsD3.values[2]))\n",
    "    print(\"--------------------------------------\")\n",
    "    \n",
    "    ##################Number of investments in top sector (3)\n",
    "    print(\"No. of Investments in Top Sector - \\'\"+TotalInvestmentsD1.values[0][0]+ \"\\' For D1=\"+str(TotalInvestmentsD1.values[0][1] ))\n",
    "    print(\"No. of Investments in Top Sector - \\'\"+TotalInvestmentsD2.values[0][0]+ \"\\' For D2=\"+str(TotalInvestmentsD2.values[0][1] ))\n",
    "    print(\"No. of Investments in Top Sector - \\'\"+TotalInvestmentsD3.values[0][0]+ \"\\' For D3=\"+str(TotalInvestmentsD3.values[0][1] ))\n",
    "    print(\"--------------------------------------\")\n",
    "    ####################Number of investments in second sector (4)\n",
    "    print(\"No. of Investments in 2nd Top Sector - \\'\"+TotalInvestmentsD1.values[1][0]+ \"\\' For D1=\"+str(TotalInvestmentsD1.values[1][1] ))\n",
    "    print(\"No. of Investments in 2nd Top Sector - \\'\"+TotalInvestmentsD2.values[1][0]+ \"\\' For D2=\"+str(TotalInvestmentsD2.values[1][1] ))\n",
    "    print(\"No. of Investments in 2nd Top Sector - \\'\"+TotalInvestmentsD3.values[1][0]+ \"\\' For D3=\"+str(TotalInvestmentsD3.values[1][1] ))\n",
    "    print(\"--------------------------------------\")\n",
    "    ##################Number of investments in third sector (5)\n",
    "    print(\"No. of Investments in 3rd Top Sector - \\'\"+TotalInvestmentsD1.values[2][0]+ \"\\' For D1=\"+str(TotalInvestmentsD1.values[2][1] ))\n",
    "    print(\"No. of Investments in 3rd Top Sector - \\'\"+TotalInvestmentsD2.values[2][0]+ \"\\' For D2=\"+str(TotalInvestmentsD2.values[2][1] ))\n",
    "    print(\"No. of Investments in 3rd Top Sector - \\'\"+TotalInvestmentsD3.values[2][0]+ \"\\' For D3=\"+str(TotalInvestmentsD3.values[2][1] ))\n",
    "    print(\"--------------------------------------\")\n",
    "except Exception as e:\n",
    "    print(\"exception= \"+str(e))"
   ]
  },
  {
   "cell_type": "code",
   "execution_count": 19,
   "metadata": {},
   "outputs": [
    {
     "name": "stdout",
     "output_type": "stream",
     "text": [
      "--------------------------------------\n",
      "For D1, Company with highest investment for Top Sector 'Others' is 'airspan networks' with total investment of, $81769000.0\n",
      "--------------------------------------\n",
      "For D1, Company with highest investment for 2nd Top Sector 'Social, Finance, Analytics, Advertising' is 'biodesix' with total investment of, $75300000.0\n",
      "--------------------------------------\n",
      "For D2, Company with highest investment for Top Sector 'Others' is 'greenroad technologies' with total investment of, $52500000.0\n",
      "--------------------------------------\n",
      "For D2, Company with highest investment for 2nd Top Sector 'Social, Finance, Analytics, Advertising' is 'celltick technologies' with total investment of, $37500000.0\n",
      "--------------------------------------\n",
      "For D3, Company with highest investment for Top Sector 'Others' is 'manthan systems' with total investment of, $50700000.0\n",
      "--------------------------------------\n",
      "For D3, Company with highest investment for 2nd Top Sector 'Social, Finance, Analytics, Advertising' is 'azure power' with total investment of, $47200000.0\n",
      "--------------------------------------\n",
      "End Sector Analysis 2\n"
     ]
    }
   ],
   "source": [
    "try:\n",
    "    ################For point 3 (top sector count-wise), which company received the highest investment?\n",
    "    ############For point 4 (second best sector count-wise), which company received the highest investment?\n",
    "    D1[\"lower_company_name\"]=D1['name'].str.lower()\n",
    "    D2[\"lower_company_name\"]=D2['name'].str.lower()\n",
    "    D3[\"lower_company_name\"]=D3['name'].str.lower()\n",
    "    TopCompanyD1=D1.groupby([\"indexed_company_permalink\",\"lower_company_name\"])[\"raised_amount_usd\"].sum().reset_index(drop=False).sort_values(by='raised_amount_usd',ascending=False)\n",
    "    TopCompanyD2=D2.groupby([\"indexed_company_permalink\",\"lower_company_name\"])[\"raised_amount_usd\"].sum().reset_index(drop=False).sort_values(by='raised_amount_usd',ascending=False)\n",
    "    TopCompanyD3=D3.groupby([\"indexed_company_permalink\",\"lower_company_name\"])[\"raised_amount_usd\"].sum().reset_index(drop=False).sort_values(by='raised_amount_usd',ascending=False)\n",
    "    print(\"--------------------------------------\")\n",
    "    print(\"For D1, Company with highest investment for Top Sector \\'\"+TotalInvestmentsD1.values[0][0]+\"\\' is \\'\"+TopCompanyD1.values[0][1]+\"\\' with total investment of, $\"+str(TopCompanyD1.values[0][2]))\n",
    "    print(\"--------------------------------------\")\n",
    "    print(\"For D1, Company with highest investment for 2nd Top Sector \\'\"+TotalInvestmentsD1.values[1][0]+\"\\' is \\'\"+TopCompanyD1.values[1][1]+\"\\' with total investment of, $\"+str(TopCompanyD1.values[1][2]))\n",
    "    print(\"--------------------------------------\")\n",
    "    print(\"For D2, Company with highest investment for Top Sector \\'\"+TotalInvestmentsD2.values[0][0]+\"\\' is \\'\"+TopCompanyD2.values[0][1]+\"\\' with total investment of, $\"+str(TopCompanyD2.values[0][2]))\n",
    "    print(\"--------------------------------------\")\n",
    "    print(\"For D2, Company with highest investment for 2nd Top Sector \\'\"+TotalInvestmentsD2.values[1][0]+\"\\' is \\'\"+TopCompanyD2.values[1][1]+\"\\' with total investment of, $\"+str(TopCompanyD2.values[1][2]))\n",
    "    print(\"--------------------------------------\")\n",
    "    print(\"For D3, Company with highest investment for Top Sector \\'\"+TotalInvestmentsD3.values[0][0]+\"\\' is \\'\"+TopCompanyD3.values[0][1]+\"\\' with total investment of, $\"+str(TopCompanyD3.values[0][2]))\n",
    "    print(\"--------------------------------------\")\n",
    "    print(\"For D3, Company with highest investment for 2nd Top Sector \\'\"+TotalInvestmentsD3.values[1][0]+\"\\' is \\'\"+TopCompanyD3.values[1][1]+\"\\' with total investment of, $\"+str(TopCompanyD3.values[1][2]))\n",
    "    print(\"--------------------------------------\")\n",
    "    print(\"End Sector Analysis 2\")\n",
    "except Exception as e:\n",
    "    print(\"exception= \"+str(e))"
   ]
  },
  {
   "cell_type": "markdown",
   "metadata": {},
   "source": [
    "# Checkpoint 6 - Plots"
   ]
  },
  {
   "cell_type": "code",
   "execution_count": 20,
   "metadata": {},
   "outputs": [
    {
     "name": "stdout",
     "output_type": "stream",
     "text": [
      "plot 1\n"
     ]
    },
    {
     "data": {
      "image/png": "[encoded data removed]",
      "text/plain": [
       "<Figure size 1080x576 with 1 Axes>"
      ]
     },
     "metadata": {
      "needs_background": "light"
     },
     "output_type": "display_data"
    }
   ],
   "source": [
    "#plot 1:\n",
    "try:\n",
    "    print(\"plot 1\")\n",
    "    plt.figure(figsize=(15,8))\n",
    "    plt.title(\"Total Investments Globally- All Sectors\")\n",
    "    TotalInvestmentsGlobal=cleanedData.groupby('funding_round_type')['raised_amount_usd'].sum().reset_index(drop=False)\n",
    "    averageTable=averageTable.reset_index(drop=False)\n",
    "    plt.yscale(\"log\")\n",
    "    plt.xlabel(\"Funding Types\")\n",
    "    plt.ylabel(\"Amount\")\n",
    "    plt.bar(TotalInvestmentsGlobal[\"funding_round_type\"],TotalInvestmentsGlobal[\"raised_amount_usd\"],label='Total Investment')\n",
    "    plt.xticks(rotation=90)\n",
    "    plt.bar(averageTable.index,averageTable[\"raised_amount_usd\"],label='Mean Investment')\n",
    "    plt.legend(loc='best')\n",
    "    plt.show()\n",
    "except Exception as e:\n",
    "    print(\"exception= \"+str(e))"
   ]
  },
  {
   "cell_type": "code",
   "execution_count": 21,
   "metadata": {},
   "outputs": [
    {
     "name": "stdout",
     "output_type": "stream",
     "text": [
      "Plot 2\n"
     ]
    },
    {
     "data": {
      "image/png": "[encoded data removed]",
      "text/plain": [
       "<Figure size 1080x864 with 1 Axes>"
      ]
     },
     "metadata": {
      "needs_background": "light"
     },
     "output_type": "display_data"
    }
   ],
   "source": [
    "#plot 2:\n",
    "try:\n",
    "    print(\"Plot 2\")\n",
    "    plt.figure(figsize=(15,12))\n",
    "    plt.title(\"Top 9 Countries\")\n",
    "    plt.yscale(\"log\")\n",
    "    plt.xlabel(\"Countries\")\n",
    "    plt.ylabel(\"raised_amount_usd\")\n",
    "    plt.bar(top_3[\"country_code\"],top_3[\"raised_amount_usd\"])\n",
    "    plt.bar(top_9[\"country_code\"],top_9[\"raised_amount_usd\"])\n",
    "    plt.show()\n",
    "except Exception as e:\n",
    "    print(\"exception= \"+str(e))"
   ]
  },
  {
   "cell_type": "code",
   "execution_count": 22,
   "metadata": {
    "scrolled": false
   },
   "outputs": [
    {
     "name": "stdout",
     "output_type": "stream",
     "text": [
      "Plot 3\n"
     ]
    },
    {
     "data": {
      "image/png": "[encoded data removed]",
      "text/plain": [
       "<Figure size 1080x648 with 3 Axes>"
      ]
     },
     "metadata": {
      "needs_background": "light"
     },
     "output_type": "display_data"
    }
   ],
   "source": [
    "try:\n",
    "    print(\"Plot 3\")\n",
    "    plt.figure(figsize=(15,9))\n",
    "    plt.yscale(\"log\")\n",
    "    plt.xlabel(\"Top 3 Sectors\")\n",
    "    plt.ylabel(\"Total Number of Investments in Main Sectors\")\n",
    "\n",
    "    #1st subplot\n",
    "    subplotAlabel=\"Total Investments in D1,\" +top_3.values[0][0]+\" for each sector\"\n",
    "    plt.subplot(131)\n",
    "    plt.title(subplotAlabel)\n",
    "    plt.xticks(rotation=90)\n",
    "    plt.bar(TotalInvestmentsD1[\"main_sector\"],TotalInvestmentsD1[\"count_investments\"])\n",
    "    #2nd subplot\n",
    "    subplotAlabel=\"Total Investments in D2,\" +top_3.values[1][0]+\" for each sector\"\n",
    "    plt.subplot(132)\n",
    "    plt.title(subplotAlabel)\n",
    "    plt.xticks(rotation=90)\n",
    "    plt.bar(TotalInvestmentsD2[\"main_sector\"],TotalInvestmentsD2[\"count_investments\"])\n",
    "    #3rd subplot\n",
    "    subplotAlabel=\"Total Investments in D3,\" +top_3.values[2][0]+\" for each sector\"\n",
    "    plt.subplot(133)\n",
    "    plt.title(subplotAlabel)\n",
    "    plt.xticks(rotation=90)\n",
    "    plt.bar(TotalInvestmentsD3[\"main_sector\"],TotalInvestmentsD3[\"count_investments\"])\n",
    "except Exception as e:\n",
    "    print(\"exception= \"+str(e))"
   ]
  },
  {
   "cell_type": "markdown",
   "metadata": {},
   "source": [
    "# End Of Analysis"
   ]
  }
 ],
 "metadata": {
  "kernelspec": {
   "display_name": "Python 3",
   "language": "python",
   "name": "python3"
  }
 },
 "nbformat": 4,
 "nbformat_minor": 2
}
