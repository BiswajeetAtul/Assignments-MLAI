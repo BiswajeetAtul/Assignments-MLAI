{
 "cells": [
  {
   "cell_type": "markdown",
   "metadata": {},
   "source": [
    "# Telecom Churn\n",
    "## Task:\n",
    "## 1. predict which customers are at high risk of churn.\n",
    "## 2. identify the main indicators of churn."
   ]
  },
  {
   "cell_type": "markdown",
   "metadata": {},
   "source": [
    "Importing all necessary libraries"
   ]
  },
  {
   "cell_type": "code",
   "execution_count": 1,
   "metadata": {},
   "outputs": [],
   "source": [
    "import numpy as np\n",
    "import pandas as pd\n",
    "import matplotlib.pyplot as plt\n",
    "import warnings\n",
    "import seaborn as sns\n",
    "%matplotlib inline\n",
    "%config IPCompleter.greedy=True\n",
    "from sklearn.decomposition import IncrementalPCA\n",
    "from sklearn.decomposition import PCA"
   ]
  },
  {
   "cell_type": "markdown",
   "metadata": {},
   "source": [
    "Code to filter unnecessary warnings"
   ]
  },
  {
   "cell_type": "code",
   "execution_count": 2,
   "metadata": {},
   "outputs": [],
   "source": [
    "#to Suppress unnecessary warnings\n",
    "warnings.filterwarnings(\"ignore\")"
   ]
  },
  {
   "cell_type": "markdown",
   "metadata": {},
   "source": [
    "Defining the path to the Dataset"
   ]
  },
  {
   "cell_type": "code",
   "execution_count": null,
   "metadata": {},
   "outputs": [],
   "source": [
    "teleDataFile=r'telecom_churn_data.csv'"
   ]
  },
  {
   "cell_type": "markdown",
   "metadata": {},
   "source": [
    "Reading the Dataset"
   ]
  },
  {
   "cell_type": "code",
   "execution_count": null,
   "metadata": {},
   "outputs": [],
   "source": [
    "teleData= pd.read_csv(teleDataFile)"
   ]
  },
  {
   "cell_type": "markdown",
   "metadata": {},
   "source": [
    "Finding out the number of non-null values in the dataset"
   ]
  },
  {
   "cell_type": "code",
   "execution_count": null,
   "metadata": {},
   "outputs": [],
   "source": [
    "with pd.option_context('display.max_rows', None, 'display.max_columns', None):\n",
    "    print(teleData.info(verbose=True,null_counts =True))"
   ]
  },
  {
   "cell_type": "markdown",
   "metadata": {},
   "source": [
    "looking into the stats of all the columns of the dataset "
   ]
  },
  {
   "cell_type": "code",
   "execution_count": null,
   "metadata": {},
   "outputs": [],
   "source": [
    "with pd.option_context('display.max_rows', None, 'display.max_columns', None):\n",
    "    display(teleData.describe())"
   ]
  },
  {
   "cell_type": "markdown",
   "metadata": {},
   "source": [
    "Taking a peek into the dataset"
   ]
  },
  {
   "cell_type": "code",
   "execution_count": null,
   "metadata": {},
   "outputs": [],
   "source": [
    "with pd.option_context('display.max_rows', None, 'display.max_columns', None):\n",
    "    display(teleData.head(5))"
   ]
  },
  {
   "cell_type": "markdown",
   "metadata": {},
   "source": [
    "Finding the number of unique values in each column of the dataset"
   ]
  },
  {
   "cell_type": "code",
   "execution_count": null,
   "metadata": {},
   "outputs": [],
   "source": [
    "with pd.option_context('display.max_rows', None, 'display.max_columns', None):\n",
    "        display(teleData.nunique(axis=0,dropna=False))"
   ]
  },
  {
   "cell_type": "markdown",
   "metadata": {},
   "source": [
    "we can see that there are columns with 1 or 2 unique values to as high as 82k unique values(not taking into account the mobile_number which ofcourse will have unique values) \n",
    "\n",
    "Printing all the unique values for columns with less then 100 unique values including null/nan:"
   ]
  },
  {
   "cell_type": "code",
   "execution_count": null,
   "metadata": {
    "scrolled": true
   },
   "outputs": [],
   "source": [
    "for col in list(teleData.columns):\n",
    "    if(teleData[col].nunique()>500 ): continue\n",
    "    else:\n",
    "        print(col+\":\"+str(teleData[col].unique().tolist()))\n",
    "        print(\"----------------------------------------------------------------------------------\")"
   ]
  },
  {
   "cell_type": "markdown",
   "metadata": {},
   "source": [
    "Finding the percentage of Null values in each column:"
   ]
  },
  {
   "cell_type": "code",
   "execution_count": null,
   "metadata": {},
   "outputs": [],
   "source": [
    "with pd.option_context('display.max_rows', None, 'display.max_columns', None):\n",
    "    print (teleData.isnull().mean())"
   ]
  },
  {
   "cell_type": "markdown",
   "metadata": {},
   "source": [
    "WE can see that the null values are occuring in pairs. for ex: \n",
    "\n",
    "og_others and ic_others\n",
    "1. og_others_6    --             0.039370 => ic_others_6      --           0.039370\n",
    "2. og_others_7    --             0.038590 => ic_others_7      --           0.038590\n",
    "3. og_others_8    --             0.053781 => ic_others_8      --           0.053781\n",
    "4. og_others_9    --             0.077451 => ic_others_9      --           0.077451\n",
    "\n",
    "Same is the case for onnet_mou,offnet_mou,roam_ic_mou,roam_og_mou,loc_og_t2t_mou,loc_og_mou,std_og_t2t_mou,std_og_t2m_mou,std_og_t2f_mou,std_og_t2c_mou,std_og_mou,isd_og_mou,spl_og_mou,og_others,loc_ic_t2t_mou,loc_ic_t2m_mou,loc_ic_t2f_mou,loc_ic_mou,std_ic_t2t_mou etc.\n",
    "\n",
    "Infact all these columns are propagating the null value for the same rows. So we can safely put 0 as the missing value for these rows. "
   ]
  },
  {
   "cell_type": "markdown",
   "metadata": {},
   "source": [
    "# Exploratory Data Analysis"
   ]
  },
  {
   "cell_type": "markdown",
   "metadata": {},
   "source": [
    "## Trend and Outlier detection Univariate and Multivariate Analaysis"
   ]
  },
  {
   "cell_type": "code",
   "execution_count": null,
   "metadata": {},
   "outputs": [],
   "source": [
    "fig=plt.figure(figsize=(20,20))\n",
    "\n",
    "((ax1, ax2), (ax3, ax4)) = fig.subplots(2, 2)\n",
    "\n",
    "ax1.plot(teleData['offnet_mou_6'],teleData['onnet_mou_6'],\"b+\")\n",
    "ax1.set_xlabel(\"offnet_mou_6\")\n",
    "ax1.set_ylabel(\"onnet_mou_6\")\n",
    "\n",
    "ax2.plot(teleData['offnet_mou_7'],teleData['onnet_mou_7'],\"r+\")\n",
    "ax2.set_xlabel(\"offnet_mou_7\")\n",
    "ax2.set_ylabel(\"onnet_mou_7\")\n",
    "\n",
    "ax3.plot(teleData['offnet_mou_8'],teleData['onnet_mou_8'],\"g+\")\n",
    "ax3.set_xlabel(\"offnet_mou_8\")\n",
    "ax3.set_ylabel(\"onnet_mou_8\")\n",
    "\n",
    "ax4.plot(teleData['offnet_mou_9'],teleData['onnet_mou_9'],\"y+\")\n",
    "ax4.set_xlabel(\"offnet_mou_9\")\n",
    "ax4.set_ylabel(\"onnet_mou_9\")\n",
    "plt.show()"
   ]
  },
  {
   "cell_type": "code",
   "execution_count": null,
   "metadata": {},
   "outputs": [],
   "source": [
    "fig=plt.figure(figsize=(20,20))\n",
    "\n",
    "((ax1, ax2), (ax3, ax4)) = fig.subplots(2, 2)\n",
    "\n",
    "ax1.plot(teleData['og_others_6'],teleData['ic_others_6'],\"b+\")\n",
    "ax1.set_xlabel(\"og_others_6\")\n",
    "ax1.set_ylabel(\"ic_others_6\")\n",
    "\n",
    "ax2.plot(teleData['og_others_7'],teleData['ic_others_7'],\"r+\")\n",
    "ax2.set_xlabel(\"og_others_7\")\n",
    "ax2.set_ylabel(\"ic_others_7\")\n",
    "\n",
    "ax3.plot(teleData['og_others_8'],teleData['ic_others_8'],\"g+\")\n",
    "ax3.set_xlabel(\"og_others_8\")\n",
    "ax3.set_ylabel(\"ic_others_8\")\n",
    "\n",
    "ax4.plot(teleData['og_others_9'],teleData['ic_others_9'],\"y+\")\n",
    "ax4.set_xlabel(\"og_others_9\")\n",
    "ax4.set_ylabel(\"ic_others_9\")\n",
    "plt.show()"
   ]
  },
  {
   "cell_type": "code",
   "execution_count": null,
   "metadata": {},
   "outputs": [],
   "source": [
    "fig=plt.figure(figsize=(20,20))\n",
    "((ax1, ax2), (ax3, ax4)) = fig.subplots(2, 2)\n",
    "\n",
    "ax1.plot(teleData['date_of_last_rech_6'].fillna('6/30/2014'),teleData['onnet_mou_6'],\"bo\")\n",
    "ax2.plot(teleData['date_of_last_rech_6'].fillna('6/30/2014'),teleData['offnet_mou_6'],\"ro\")\n",
    "\n",
    "\n",
    "ax3.plot(teleData['date_of_last_rech_7'].fillna('7/30/2014'),teleData['onnet_mou_7'],\"bo\")\n",
    "ax4.plot(teleData['date_of_last_rech_7'].fillna('7/30/2014'),teleData['offnet_mou_7'],\"ro\")\n",
    "\n",
    "plt.show()"
   ]
  },
  {
   "cell_type": "code",
   "execution_count": null,
   "metadata": {},
   "outputs": [],
   "source": [
    "fig=plt.figure(figsize=(20,20))\n",
    "((ax1, ax2), (ax3, ax4)) = fig.subplots(2, 2)\n",
    "\n",
    "ax1.plot(teleData['arpu_6'],\"bo\")\n",
    "ax2.plot(teleData['arpu_7'],\"r+\")\n",
    "ax3.plot(teleData['arpu_8'],\"b^\")\n",
    "ax4.plot(teleData['arpu_9'],\"r*\")\n",
    "\n",
    "plt.show()"
   ]
  },
  {
   "cell_type": "code",
   "execution_count": null,
   "metadata": {},
   "outputs": [],
   "source": [
    "fig=plt.figure(figsize=(20,20))\n",
    "((ax1, ax2), (ax3, ax4)) = fig.subplots(2, 2)\n",
    "\n",
    "ax1.plot(teleData['arpu_3g_6'],\"bo\")\n",
    "ax2.plot(teleData['arpu_3g_7'],\"r+\")\n",
    "ax3.plot(teleData['arpu_3g_8'],\"b^\")\n",
    "ax4.plot(teleData['arpu_3g_9'],\"r*\")\n",
    "\n",
    "plt.show()"
   ]
  },
  {
   "cell_type": "code",
   "execution_count": null,
   "metadata": {},
   "outputs": [],
   "source": [
    "fig=plt.figure(figsize=(20,20))\n",
    "((ax1, ax2), (ax3, ax4)) = fig.subplots(2, 2)\n",
    "\n",
    "ax1.plot(teleData['arpu_2g_6'],\"bo\")\n",
    "ax2.plot(teleData['arpu_2g_7'],\"r+\")\n",
    "ax3.plot(teleData['arpu_2g_8'],\"b^\")\n",
    "ax4.plot(teleData['arpu_2g_9'],\"r*\")\n",
    "\n",
    "plt.show()"
   ]
  },
  {
   "cell_type": "code",
   "execution_count": null,
   "metadata": {},
   "outputs": [],
   "source": [
    "fig=plt.figure(figsize=(20,20))\n",
    "((ax1, ax2), (ax3, ax4)) = fig.subplots(2, 2)\n",
    "\n",
    "ax1.plot(teleData['monthly_2g_6'],teleData['vol_2g_mb_6'],\"bo\")\n",
    "ax2.plot(teleData['monthly_2g_7'],teleData['vol_2g_mb_7'],\"r+\")\n",
    "ax3.plot(teleData['monthly_2g_8'],teleData['vol_2g_mb_8'],\"b^\")\n",
    "ax4.plot(teleData['monthly_2g_9'],teleData['vol_2g_mb_9'],\"r*\")\n",
    "\n",
    "plt.show()"
   ]
  },
  {
   "cell_type": "code",
   "execution_count": null,
   "metadata": {},
   "outputs": [],
   "source": [
    "fig=plt.figure(figsize=(20,20))\n",
    "((ax1, ax2), (ax3, ax4)) = fig.subplots(2, 2)\n",
    "\n",
    "ax1.plot(teleData['monthly_3g_6'],teleData['vol_3g_mb_6'],\"bo\")\n",
    "ax2.plot(teleData['monthly_3g_7'],teleData['vol_3g_mb_7'],\"r+\")\n",
    "ax3.plot(teleData['monthly_3g_8'],teleData['vol_3g_mb_8'],\"b^\")\n",
    "ax4.plot(teleData['monthly_3g_9'],teleData['vol_3g_mb_9'],\"r*\")\n",
    "\n",
    "plt.show()"
   ]
  },
  {
   "cell_type": "markdown",
   "metadata": {},
   "source": [
    "## Data Imputation"
   ]
  },
  {
   "cell_type": "markdown",
   "metadata": {},
   "source": [
    "All columns where there is 20% missing values:"
   ]
  },
  {
   "cell_type": "code",
   "execution_count": null,
   "metadata": {
    "scrolled": true
   },
   "outputs": [],
   "source": [
    "colsWith20pnull=pd.Series(  teleData.columns.where(teleData.isnull().mean()<=0.20)).dropna().tolist()\n",
    "colsWith20pnull"
   ]
  },
  {
   "cell_type": "markdown",
   "metadata": {},
   "source": [
    "Imputing values to 0 where the column in not a date type"
   ]
  },
  {
   "cell_type": "code",
   "execution_count": null,
   "metadata": {},
   "outputs": [],
   "source": [
    "cols_noDates=[x for x in teleData.columns if \"date\" not in x]\n",
    "teleData_imputed=teleData[cols_noDates].fillna(0)\n",
    "teleData_imputed.head(10)"
   ]
  },
  {
   "cell_type": "code",
   "execution_count": null,
   "metadata": {},
   "outputs": [],
   "source": [
    "with pd.option_context('display.max_rows', None, 'display.max_columns', None):\n",
    "    print (teleData_imputed.isnull().mean())\n",
    "display(teleData_imputed.describe())"
   ]
  },
  {
   "cell_type": "markdown",
   "metadata": {},
   "source": [
    "We can see that **loc_og_t2o_mou std_og_t2o_mou loc_ic_t2o_mou** have zero as the value, so we can drop them all. same goes for other columns that have only one value"
   ]
  },
  {
   "cell_type": "markdown",
   "metadata": {},
   "source": [
    "## Outlier Treatment"
   ]
  },
  {
   "cell_type": "code",
   "execution_count": null,
   "metadata": {},
   "outputs": [],
   "source": [
    "for col in (teleData_imputed.columns).tolist():\n",
    "    sns.boxplot(col,data=teleData_imputed,)\n",
    "    plt.show()"
   ]
  },
  {
   "cell_type": "code",
   "execution_count": null,
   "metadata": {
    "scrolled": false
   },
   "outputs": [],
   "source": [
    "with pd.option_context('display.max_rows', None, 'display.max_columns', None):\n",
    "    display(teleData_imputed.describe())"
   ]
  },
  {
   "cell_type": "code",
   "execution_count": null,
   "metadata": {},
   "outputs": [],
   "source": [
    "sns.pairplot(teleData_imputed)"
   ]
  },
  {
   "cell_type": "markdown",
   "metadata": {},
   "source": [
    "We will take care of all outliers during the data preparation after filtering out the high valued customers"
   ]
  },
  {
   "cell_type": "markdown",
   "metadata": {},
   "source": [
    "# Data Preperation"
   ]
  },
  {
   "cell_type": "markdown",
   "metadata": {},
   "source": [
    "Finding the high values customers:\n",
    "1. Creating a new columns that has average of the revenues of 6th and 7th month\n",
    "2. Finding the 70th percentile and above.\n",
    "3. Filtering the data to get the High Valued customers\n"
   ]
  },
  {
   "cell_type": "markdown",
   "metadata": {},
   "source": [
    "As we can see that all the Average Revenue Columns have no null values, we can proceed forward with finding the Average\n",
    "1. arpu_6        ---              99999 non-null float64\n",
    "2. arpu_7        ---              99999 non-null float64\n",
    "3. arpu_8        ---              99999 non-null float64\n",
    "4. arpu_9        ---              99999 non-null float64"
   ]
  },
  {
   "cell_type": "code",
   "execution_count": null,
   "metadata": {},
   "outputs": [],
   "source": [
    "teleData_imputed['avg_6_7']=(teleData_imputed[\"total_rech_amt_6\"]+teleData_imputed[\"total_rech_amt_7\"]+(teleData_imputed[\"av_rech_amt_data_6\"]*(teleData_imputed[\"count_rech_3g_6\"]+teleData_imputed[\"count_rech_2g_6\"]))+(teleData_imputed[\"av_rech_amt_data_7\"]*(teleData_imputed[\"count_rech_3g_7\"]+teleData_imputed[\"count_rech_2g_7\"])))/"
   ]
  },
  {
   "cell_type": "code",
   "execution_count": null,
   "metadata": {},
   "outputs": [],
   "source": [
    "sns.boxplot(teleData_imputed['avg_6_7'])"
   ]
  },
  {
   "cell_type": "code",
   "execution_count": null,
   "metadata": {},
   "outputs": [],
   "source": [
    "percentile70th= teleData_imputed['avg_6_7'].quantile(0.70)\n",
    "print(\"The 70th percentile average revenue is \"+ str(percentile70th))"
   ]
  },
  {
   "cell_type": "code",
   "execution_count": null,
   "metadata": {},
   "outputs": [],
   "source": [
    "teleData_HighValuesCustomers= teleData_imputed[teleData_imputed['avg_6_7']>=percentile70th]\n",
    "teleData_HighValuesCustomers.shape"
   ]
  },
  {
   "cell_type": "markdown",
   "metadata": {},
   "source": [
    "Taking a look into the High Valued customers dataset:"
   ]
  },
  {
   "cell_type": "code",
   "execution_count": null,
   "metadata": {},
   "outputs": [],
   "source": [
    "with pd.option_context('display.max_rows', None, 'display.max_columns', None):\n",
    "    display(teleData_HighValuesCustomers.head(10))"
   ]
  },
  {
   "cell_type": "markdown",
   "metadata": {},
   "source": [
    "Now making all Null values 0."
   ]
  },
  {
   "cell_type": "code",
   "execution_count": null,
   "metadata": {},
   "outputs": [],
   "source": [
    "teleData_HighValuesCustomers_Treated=teleData_HighValuesCustomers.fillna(0)\n",
    "with pd.option_context('display.max_rows', None, 'display.max_columns', None):\n",
    "    print(teleData_HighValuesCustomers_Treated.info(verbose=True,null_counts =True))"
   ]
  },
  {
   "cell_type": "markdown",
   "metadata": {},
   "source": [
    "We can see that all the null values have been treated.\n",
    "Thus teleData_HighValuesCustomers_Treated is our dataset that contains the high valued customer with treated data.\n",
    "The next step is to tag the numbers as churned(1) and not churned(0)based on the following columns:\n",
    "1. total_ic_mou_9\n",
    "2. total_og_mou_9\n",
    "3. vol_2g_mb_9\n",
    "4. vol_3g_mb_9"
   ]
  },
  {
   "cell_type": "code",
   "execution_count": null,
   "metadata": {},
   "outputs": [],
   "source": [
    "filter=((teleData_HighValuesCustomers_Treated['total_ic_mou_9']==0)&(teleData_HighValuesCustomers_Treated['vol_2g_mb_9']==0)&(teleData_HighValuesCustomers_Treated['vol_3g_mb_9']==0)&(teleData_HighValuesCustomers_Treated['total_og_mou_9']==0))\n",
    "teleData_HighValuesCustomers_Treated['churned_tag']=np.where(filter, 1, 0)\n",
    "teleData_HighValuesCustomers_Treated['churned_tag'].sum()\n"
   ]
  },
  {
   "cell_type": "code",
   "execution_count": null,
   "metadata": {},
   "outputs": [],
   "source": [
    "#filter=((teleData_HighValuesCustomers_Treated['total_ic_mou_9']==0)&(teleData_HighValuesCustomers_Treated['vol_2g_mb_9']==0)&(teleData_HighValuesCustomers_Treated['vol_3g_mb_9']==0)&(teleData_HighValuesCustomers_Treated['total_og_mou_9']==0))\n",
    "#tagged=teleData_HighValuesCustomers_Treated.ix[filter,list(teleData_HighValuesCustomers_Treated.columns)]\n",
    "#display(tagged.index)"
   ]
  },
  {
   "cell_type": "code",
   "execution_count": null,
   "metadata": {},
   "outputs": [],
   "source": [
    "with pd.option_context('display.max_rows', None, 'display.max_columns', None):\n",
    "    display(teleData_HighValuesCustomers_Treated.head(5))"
   ]
  },
  {
   "cell_type": "markdown",
   "metadata": {},
   "source": [
    "Now we can see that the rows have a churned indicator against them.\n",
    "We can delete all the columns that are related to the churn phase i.e. the '_9' columns\n",
    "\n",
    "Removing all columns that have '_9' in them."
   ]
  },
  {
   "cell_type": "code",
   "execution_count": null,
   "metadata": {},
   "outputs": [],
   "source": [
    "print(len([x for x in teleData_HighValuesCustomers_Treated.columns if '_9' in x]))\n",
    "print(len(teleData_HighValuesCustomers_Treated.columns))\n",
    "teleData_HighValuesCustomers_Treated.shape"
   ]
  },
  {
   "cell_type": "code",
   "execution_count": null,
   "metadata": {},
   "outputs": [],
   "source": [
    "colsToDrop=[x for x in teleData_HighValuesCustomers_Treated.columns if '_9' in x]"
   ]
  },
  {
   "cell_type": "code",
   "execution_count": null,
   "metadata": {},
   "outputs": [],
   "source": [
    "teleData_HighValuesCustomers_Tagged=teleData_HighValuesCustomers_Treated.drop(colsToDrop,axis=1)"
   ]
  },
  {
   "cell_type": "code",
   "execution_count": null,
   "metadata": {},
   "outputs": [],
   "source": [
    "teleData_HighValuesCustomers_Tagged.shape"
   ]
  },
  {
   "cell_type": "markdown",
   "metadata": {},
   "source": [
    "Now we have removed all the columns that are related to the churn phase.\n",
    "Lets have a look at the dataset now."
   ]
  },
  {
   "cell_type": "code",
   "execution_count": null,
   "metadata": {},
   "outputs": [],
   "source": [
    "with pd.option_context('display.max_rows', None, 'display.max_columns', None):\n",
    "    display(teleData_HighValuesCustomers_Tagged.head(5))"
   ]
  },
  {
   "cell_type": "markdown",
   "metadata": {},
   "source": [
    "We might not need the date columns, so removing them as well.\n",
    "\n",
    "creating a new dataset _naDates "
   ]
  },
  {
   "cell_type": "code",
   "execution_count": null,
   "metadata": {},
   "outputs": [],
   "source": [
    "#teleData_HighValuesCustomers_naDates=teleData_HighValuesCustomers_Tagged.drop([x for x in teleData_HighValuesCustomers_Tagged.columns if 'date' in x],axis=1)\n",
    "#teleData_HighValuesCustomers_naDates.shape"
   ]
  },
  {
   "cell_type": "code",
   "execution_count": null,
   "metadata": {
    "scrolled": true
   },
   "outputs": [],
   "source": [
    "#with pd.option_context('display.max_rows', None, 'display.max_columns', None):\n",
    " #   display(teleData_HighValuesCustomers_naDates.head(5))"
   ]
  },
  {
   "cell_type": "markdown",
   "metadata": {},
   "source": [
    "Now lets see what are the values in the columns, we will not need the columns that have single values so we will drop them"
   ]
  },
  {
   "cell_type": "code",
   "execution_count": null,
   "metadata": {},
   "outputs": [],
   "source": [
    "for col in list(teleData_HighValuesCustomers_Tagged.columns):\n",
    "    if(teleData_HighValuesCustomers_Tagged[col].nunique()>100 ): continue\n",
    "    else:\n",
    "        print(col+\":\"+str(teleData_HighValuesCustomers_Tagged[col].unique().tolist()))\n",
    "        print(\"----------------------------------------------------------------------------------\")"
   ]
  },
  {
   "cell_type": "code",
   "execution_count": null,
   "metadata": {
    "scrolled": true
   },
   "outputs": [],
   "source": [
    "singleValuedColumnsDict={}\n",
    "for col in list(teleData_HighValuesCustomers_Tagged.columns):\n",
    "    if(teleData_HighValuesCustomers_Tagged[col].nunique()==1 ):\n",
    "        singleValuedColumnsDict[col]=teleData_HighValuesCustomers_Tagged[col].unique().tolist()[0]\n",
    "print(singleValuedColumnsDict)"
   ]
  },
  {
   "cell_type": "markdown",
   "metadata": {},
   "source": [
    "Dropping these columns"
   ]
  },
  {
   "cell_type": "code",
   "execution_count": null,
   "metadata": {},
   "outputs": [],
   "source": [
    "teleData_HighValuesCustomers_Final= teleData_HighValuesCustomers_Tagged.drop(list(singleValuedColumnsDict.keys()),axis=1)\n",
    "teleData_HighValuesCustomers_Final.shape"
   ]
  },
  {
   "cell_type": "markdown",
   "metadata": {},
   "source": [
    "Thus here we have taken care of single valued columns, and imputed the missing values. The only thing that remains is outlier treatment. We will also need to remove the mobile number columns or we can make it the index. For the time being we will just drop it."
   ]
  },
  {
   "cell_type": "code",
   "execution_count": null,
   "metadata": {},
   "outputs": [],
   "source": [
    "teleData_HighValuesCustomers_Final=teleData_HighValuesCustomers_Final.drop('mobile_number',axis=1)"
   ]
  },
  {
   "cell_type": "code",
   "execution_count": null,
   "metadata": {},
   "outputs": [],
   "source": [
    "teleData_HighValuesCustomers_Final.shape"
   ]
  },
  {
   "cell_type": "markdown",
   "metadata": {},
   "source": [
    "## Feature Engineering"
   ]
  },
  {
   "cell_type": "code",
   "execution_count": null,
   "metadata": {},
   "outputs": [],
   "source": []
  },
  {
   "cell_type": "code",
   "execution_count": null,
   "metadata": {},
   "outputs": [],
   "source": []
  },
  {
   "cell_type": "code",
   "execution_count": null,
   "metadata": {},
   "outputs": [],
   "source": [
    "correlationMatrix=teleData_HighValuesCustomers_Final.corr()"
   ]
  },
  {
   "cell_type": "code",
   "execution_count": null,
   "metadata": {},
   "outputs": [],
   "source": [
    "with pd.option_context('display.max_rows', None, 'display.max_columns', None):\n",
    "    display(correlationMatrix)"
   ]
  },
  {
   "cell_type": "code",
   "execution_count": null,
   "metadata": {},
   "outputs": [],
   "source": [
    "#print(correlationMatrix.shape)\n",
    "#help(np.diagonal)\n",
    "diagonalmatrix=np.diagonal(correlationMatrix)\n",
    "corr_minus_diag=correlationMatrix-diagonalmatrix\n",
    "display(corr_minus_diag)\n"
   ]
  },
  {
   "cell_type": "code",
   "execution_count": null,
   "metadata": {},
   "outputs": [],
   "source": [
    "plt.figure(figsize=(20, 12))\n",
    "#plt.subplot(321)\n",
    "sns.boxplot(x = 'arpu_6', y = 'churned_tag', data = teleData_HighValuesCustomers_Final)\n",
    "plt.show()"
   ]
  },
  {
   "cell_type": "markdown",
   "metadata": {},
   "source": [
    "# PCA"
   ]
  },
  {
   "cell_type": "code",
   "execution_count": null,
   "metadata": {},
   "outputs": [],
   "source": [
    "pca_churn = PCA(0.95)"
   ]
  },
  {
   "cell_type": "code",
   "execution_count": null,
   "metadata": {},
   "outputs": [],
   "source": [
    "df_train_pca = pca_again.fit_transform(X_train)\n",
    "df_train_pca.shape"
   ]
  }
 ],
 "metadata": {
  "kernelspec": {
   "display_name": "Python 3",
   "language": "python",
   "name": "python3"
  },
  "language_info": {
   "codemirror_mode": {
    "name": "ipython",
    "version": 3
   },
   "file_extension": ".py",
   "mimetype": "text/x-python",
   "name": "python",
   "nbconvert_exporter": "python",
   "pygments_lexer": "ipython3",
   "version": "3.7.3"
  }
 },
 "nbformat": 4,
 "nbformat_minor": 2
}
