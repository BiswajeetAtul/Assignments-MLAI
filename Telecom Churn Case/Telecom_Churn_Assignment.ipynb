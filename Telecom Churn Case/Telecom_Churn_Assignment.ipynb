{
 "cells": [
  {
   "cell_type": "code",
   "execution_count": 1,
   "metadata": {},
   "outputs": [],
   "source": [
    "# Importing NumPy, Pandas, Matplotlib and Seaborn\n",
    "\n",
    "import numpy as np\n",
    "import pandas as pd\n",
    "import matplotlib.pyplot as plt\n",
    "import seaborn as sns\n",
    "%matplotlib inline"
   ]
  },
  {
   "cell_type": "code",
   "execution_count": 2,
   "metadata": {},
   "outputs": [],
   "source": [
    "churn_data=pd.read_csv('telecom_churn_data.csv')"
   ]
  },
  {
   "cell_type": "code",
   "execution_count": 3,
   "metadata": {},
   "outputs": [
    {
     "data": {
      "text/html": [
       "<div>\n",
       "<style scoped>\n",
       "    .dataframe tbody tr th:only-of-type {\n",
       "        vertical-align: middle;\n",
       "    }\n",
       "\n",
       "    .dataframe tbody tr th {\n",
       "        vertical-align: top;\n",
       "    }\n",
       "\n",
       "    .dataframe thead th {\n",
       "        text-align: right;\n",
       "    }\n",
       "</style>\n",
       "<table border=\"1\" class=\"dataframe\">\n",
       "  <thead>\n",
       "    <tr style=\"text-align: right;\">\n",
       "      <th></th>\n",
       "      <th>mobile_number</th>\n",
       "      <th>circle_id</th>\n",
       "      <th>loc_og_t2o_mou</th>\n",
       "      <th>std_og_t2o_mou</th>\n",
       "      <th>loc_ic_t2o_mou</th>\n",
       "      <th>last_date_of_month_6</th>\n",
       "      <th>last_date_of_month_7</th>\n",
       "      <th>last_date_of_month_8</th>\n",
       "      <th>last_date_of_month_9</th>\n",
       "      <th>arpu_6</th>\n",
       "      <th>...</th>\n",
       "      <th>sachet_3g_9</th>\n",
       "      <th>fb_user_6</th>\n",
       "      <th>fb_user_7</th>\n",
       "      <th>fb_user_8</th>\n",
       "      <th>fb_user_9</th>\n",
       "      <th>aon</th>\n",
       "      <th>aug_vbc_3g</th>\n",
       "      <th>jul_vbc_3g</th>\n",
       "      <th>jun_vbc_3g</th>\n",
       "      <th>sep_vbc_3g</th>\n",
       "    </tr>\n",
       "  </thead>\n",
       "  <tbody>\n",
       "    <tr>\n",
       "      <th>0</th>\n",
       "      <td>7000842753</td>\n",
       "      <td>109</td>\n",
       "      <td>0.0</td>\n",
       "      <td>0.0</td>\n",
       "      <td>0.0</td>\n",
       "      <td>6/30/2014</td>\n",
       "      <td>7/31/2014</td>\n",
       "      <td>8/31/2014</td>\n",
       "      <td>9/30/2014</td>\n",
       "      <td>197.385</td>\n",
       "      <td>...</td>\n",
       "      <td>0</td>\n",
       "      <td>1.0</td>\n",
       "      <td>1.0</td>\n",
       "      <td>1.0</td>\n",
       "      <td>NaN</td>\n",
       "      <td>968</td>\n",
       "      <td>30.4</td>\n",
       "      <td>0.0</td>\n",
       "      <td>101.20</td>\n",
       "      <td>3.58</td>\n",
       "    </tr>\n",
       "    <tr>\n",
       "      <th>1</th>\n",
       "      <td>7001865778</td>\n",
       "      <td>109</td>\n",
       "      <td>0.0</td>\n",
       "      <td>0.0</td>\n",
       "      <td>0.0</td>\n",
       "      <td>6/30/2014</td>\n",
       "      <td>7/31/2014</td>\n",
       "      <td>8/31/2014</td>\n",
       "      <td>9/30/2014</td>\n",
       "      <td>34.047</td>\n",
       "      <td>...</td>\n",
       "      <td>0</td>\n",
       "      <td>NaN</td>\n",
       "      <td>1.0</td>\n",
       "      <td>1.0</td>\n",
       "      <td>NaN</td>\n",
       "      <td>1006</td>\n",
       "      <td>0.0</td>\n",
       "      <td>0.0</td>\n",
       "      <td>0.00</td>\n",
       "      <td>0.00</td>\n",
       "    </tr>\n",
       "    <tr>\n",
       "      <th>2</th>\n",
       "      <td>7001625959</td>\n",
       "      <td>109</td>\n",
       "      <td>0.0</td>\n",
       "      <td>0.0</td>\n",
       "      <td>0.0</td>\n",
       "      <td>6/30/2014</td>\n",
       "      <td>7/31/2014</td>\n",
       "      <td>8/31/2014</td>\n",
       "      <td>9/30/2014</td>\n",
       "      <td>167.690</td>\n",
       "      <td>...</td>\n",
       "      <td>0</td>\n",
       "      <td>NaN</td>\n",
       "      <td>NaN</td>\n",
       "      <td>NaN</td>\n",
       "      <td>1.0</td>\n",
       "      <td>1103</td>\n",
       "      <td>0.0</td>\n",
       "      <td>0.0</td>\n",
       "      <td>4.17</td>\n",
       "      <td>0.00</td>\n",
       "    </tr>\n",
       "    <tr>\n",
       "      <th>3</th>\n",
       "      <td>7001204172</td>\n",
       "      <td>109</td>\n",
       "      <td>0.0</td>\n",
       "      <td>0.0</td>\n",
       "      <td>0.0</td>\n",
       "      <td>6/30/2014</td>\n",
       "      <td>7/31/2014</td>\n",
       "      <td>8/31/2014</td>\n",
       "      <td>9/30/2014</td>\n",
       "      <td>221.338</td>\n",
       "      <td>...</td>\n",
       "      <td>0</td>\n",
       "      <td>NaN</td>\n",
       "      <td>NaN</td>\n",
       "      <td>NaN</td>\n",
       "      <td>NaN</td>\n",
       "      <td>2491</td>\n",
       "      <td>0.0</td>\n",
       "      <td>0.0</td>\n",
       "      <td>0.00</td>\n",
       "      <td>0.00</td>\n",
       "    </tr>\n",
       "    <tr>\n",
       "      <th>4</th>\n",
       "      <td>7000142493</td>\n",
       "      <td>109</td>\n",
       "      <td>0.0</td>\n",
       "      <td>0.0</td>\n",
       "      <td>0.0</td>\n",
       "      <td>6/30/2014</td>\n",
       "      <td>7/31/2014</td>\n",
       "      <td>8/31/2014</td>\n",
       "      <td>9/30/2014</td>\n",
       "      <td>261.636</td>\n",
       "      <td>...</td>\n",
       "      <td>0</td>\n",
       "      <td>0.0</td>\n",
       "      <td>NaN</td>\n",
       "      <td>NaN</td>\n",
       "      <td>NaN</td>\n",
       "      <td>1526</td>\n",
       "      <td>0.0</td>\n",
       "      <td>0.0</td>\n",
       "      <td>0.00</td>\n",
       "      <td>0.00</td>\n",
       "    </tr>\n",
       "  </tbody>\n",
       "</table>\n",
       "<p>5 rows × 226 columns</p>\n",
       "</div>"
      ],
      "text/plain": [
       "   mobile_number  circle_id  loc_og_t2o_mou  std_og_t2o_mou  loc_ic_t2o_mou  \\\n",
       "0     7000842753        109             0.0             0.0             0.0   \n",
       "1     7001865778        109             0.0             0.0             0.0   \n",
       "2     7001625959        109             0.0             0.0             0.0   \n",
       "3     7001204172        109             0.0             0.0             0.0   \n",
       "4     7000142493        109             0.0             0.0             0.0   \n",
       "\n",
       "  last_date_of_month_6 last_date_of_month_7 last_date_of_month_8  \\\n",
       "0            6/30/2014            7/31/2014            8/31/2014   \n",
       "1            6/30/2014            7/31/2014            8/31/2014   \n",
       "2            6/30/2014            7/31/2014            8/31/2014   \n",
       "3            6/30/2014            7/31/2014            8/31/2014   \n",
       "4            6/30/2014            7/31/2014            8/31/2014   \n",
       "\n",
       "  last_date_of_month_9   arpu_6  ...  sachet_3g_9  fb_user_6  fb_user_7  \\\n",
       "0            9/30/2014  197.385  ...            0        1.0        1.0   \n",
       "1            9/30/2014   34.047  ...            0        NaN        1.0   \n",
       "2            9/30/2014  167.690  ...            0        NaN        NaN   \n",
       "3            9/30/2014  221.338  ...            0        NaN        NaN   \n",
       "4            9/30/2014  261.636  ...            0        0.0        NaN   \n",
       "\n",
       "   fb_user_8  fb_user_9   aon  aug_vbc_3g  jul_vbc_3g  jun_vbc_3g  sep_vbc_3g  \n",
       "0        1.0        NaN   968        30.4         0.0      101.20        3.58  \n",
       "1        1.0        NaN  1006         0.0         0.0        0.00        0.00  \n",
       "2        NaN        1.0  1103         0.0         0.0        4.17        0.00  \n",
       "3        NaN        NaN  2491         0.0         0.0        0.00        0.00  \n",
       "4        NaN        NaN  1526         0.0         0.0        0.00        0.00  \n",
       "\n",
       "[5 rows x 226 columns]"
      ]
     },
     "execution_count": 3,
     "metadata": {},
     "output_type": "execute_result"
    }
   ],
   "source": [
    "churn_data.head()"
   ]
  },
  {
   "cell_type": "code",
   "execution_count": 4,
   "metadata": {},
   "outputs": [
    {
     "data": {
      "text/plain": [
       "(99999, 226)"
      ]
     },
     "execution_count": 4,
     "metadata": {},
     "output_type": "execute_result"
    }
   ],
   "source": [
    "churn_data.shape"
   ]
  },
  {
   "cell_type": "markdown",
   "metadata": {},
   "source": [
    "# Data Preparation"
   ]
  },
  {
   "cell_type": "markdown",
   "metadata": {},
   "source": [
    "## Missing Value Check"
   ]
  },
  {
   "cell_type": "markdown",
   "metadata": {},
   "source": [
    "Checking for the columns with only 2 unique values."
   ]
  },
  {
   "cell_type": "code",
   "execution_count": 5,
   "metadata": {},
   "outputs": [
    {
     "data": {
      "text/html": [
       "<div>\n",
       "<style scoped>\n",
       "    .dataframe tbody tr th:only-of-type {\n",
       "        vertical-align: middle;\n",
       "    }\n",
       "\n",
       "    .dataframe tbody tr th {\n",
       "        vertical-align: top;\n",
       "    }\n",
       "\n",
       "    .dataframe thead th {\n",
       "        text-align: right;\n",
       "    }\n",
       "</style>\n",
       "<table border=\"1\" class=\"dataframe\">\n",
       "  <thead>\n",
       "    <tr style=\"text-align: right;\">\n",
       "      <th></th>\n",
       "      <th>night_pck_user_6</th>\n",
       "      <th>night_pck_user_7</th>\n",
       "      <th>night_pck_user_8</th>\n",
       "      <th>night_pck_user_9</th>\n",
       "      <th>fb_user_6</th>\n",
       "      <th>fb_user_7</th>\n",
       "      <th>fb_user_8</th>\n",
       "      <th>fb_user_9</th>\n",
       "    </tr>\n",
       "  </thead>\n",
       "  <tbody>\n",
       "    <tr>\n",
       "      <th>0</th>\n",
       "      <td>0.0</td>\n",
       "      <td>0.0</td>\n",
       "      <td>0.0</td>\n",
       "      <td>NaN</td>\n",
       "      <td>1.0</td>\n",
       "      <td>1.0</td>\n",
       "      <td>1.0</td>\n",
       "      <td>NaN</td>\n",
       "    </tr>\n",
       "    <tr>\n",
       "      <th>1</th>\n",
       "      <td>NaN</td>\n",
       "      <td>0.0</td>\n",
       "      <td>0.0</td>\n",
       "      <td>NaN</td>\n",
       "      <td>NaN</td>\n",
       "      <td>1.0</td>\n",
       "      <td>1.0</td>\n",
       "      <td>NaN</td>\n",
       "    </tr>\n",
       "    <tr>\n",
       "      <th>2</th>\n",
       "      <td>NaN</td>\n",
       "      <td>NaN</td>\n",
       "      <td>NaN</td>\n",
       "      <td>0.0</td>\n",
       "      <td>NaN</td>\n",
       "      <td>NaN</td>\n",
       "      <td>NaN</td>\n",
       "      <td>1.0</td>\n",
       "    </tr>\n",
       "    <tr>\n",
       "      <th>3</th>\n",
       "      <td>NaN</td>\n",
       "      <td>NaN</td>\n",
       "      <td>NaN</td>\n",
       "      <td>NaN</td>\n",
       "      <td>NaN</td>\n",
       "      <td>NaN</td>\n",
       "      <td>NaN</td>\n",
       "      <td>NaN</td>\n",
       "    </tr>\n",
       "    <tr>\n",
       "      <th>4</th>\n",
       "      <td>0.0</td>\n",
       "      <td>NaN</td>\n",
       "      <td>NaN</td>\n",
       "      <td>NaN</td>\n",
       "      <td>0.0</td>\n",
       "      <td>NaN</td>\n",
       "      <td>NaN</td>\n",
       "      <td>NaN</td>\n",
       "    </tr>\n",
       "  </tbody>\n",
       "</table>\n",
       "</div>"
      ],
      "text/plain": [
       "   night_pck_user_6  night_pck_user_7  night_pck_user_8  night_pck_user_9  \\\n",
       "0               0.0               0.0               0.0               NaN   \n",
       "1               NaN               0.0               0.0               NaN   \n",
       "2               NaN               NaN               NaN               0.0   \n",
       "3               NaN               NaN               NaN               NaN   \n",
       "4               0.0               NaN               NaN               NaN   \n",
       "\n",
       "   fb_user_6  fb_user_7  fb_user_8  fb_user_9  \n",
       "0        1.0        1.0        1.0        NaN  \n",
       "1        NaN        1.0        1.0        NaN  \n",
       "2        NaN        NaN        NaN        1.0  \n",
       "3        NaN        NaN        NaN        NaN  \n",
       "4        0.0        NaN        NaN        NaN  "
      ]
     },
     "execution_count": 5,
     "metadata": {},
     "output_type": "execute_result"
    }
   ],
   "source": [
    "# Columns with only 2 unique value.\n",
    "nunique_2=pd.DataFrame(churn_data.nunique().where(lambda x:x==2).dropna())\n",
    "churn_data[nunique_2.index].head()"
   ]
  },
  {
   "cell_type": "markdown",
   "metadata": {},
   "source": [
    "The columns `fb_users_*` and `night_pck_user_*` have only 2 unique values i.e. only 0 & 1. The Null values means that the users are not \n",
    "Looking at the above data, we can safely impute 0 for all the missing values for 'fb_users_*' and 'night_pck_user_*'."
   ]
  },
  {
   "cell_type": "code",
   "execution_count": 6,
   "metadata": {},
   "outputs": [],
   "source": [
    "# Replacing the Null values with 0.\n",
    "churn_data[nunique_2.index]=churn_data[nunique_2.index].fillna(0)"
   ]
  },
  {
   "cell_type": "markdown",
   "metadata": {},
   "source": [
    "Checking for the columns with more than 10% null values."
   ]
  },
  {
   "cell_type": "code",
   "execution_count": 7,
   "metadata": {},
   "outputs": [
    {
     "data": {
      "text/plain": [
       "total_rech_data_6           74.85\n",
       "av_rech_amt_data_6          74.85\n",
       "arpu_2g_6                   74.85\n",
       "date_of_last_rech_data_6    74.85\n",
       "count_rech_3g_6             74.85\n",
       "arpu_3g_6                   74.85\n",
       "max_rech_data_6             74.85\n",
       "count_rech_2g_6             74.85\n",
       "max_rech_data_7             74.43\n",
       "count_rech_3g_7             74.43\n",
       "total_rech_data_7           74.43\n",
       "count_rech_2g_7             74.43\n",
       "av_rech_amt_data_7          74.43\n",
       "arpu_3g_7                   74.43\n",
       "date_of_last_rech_data_7    74.43\n",
       "arpu_2g_7                   74.43\n",
       "date_of_last_rech_data_9    74.08\n",
       "max_rech_data_9             74.08\n",
       "arpu_2g_9                   74.08\n",
       "total_rech_data_9           74.08\n",
       "av_rech_amt_data_9          74.08\n",
       "count_rech_2g_9             74.08\n",
       "arpu_3g_9                   74.08\n",
       "count_rech_3g_9             74.08\n",
       "count_rech_2g_8             73.66\n",
       "max_rech_data_8             73.66\n",
       "arpu_3g_8                   73.66\n",
       "date_of_last_rech_data_8    73.66\n",
       "av_rech_amt_data_8          73.66\n",
       "total_rech_data_8           73.66\n",
       "count_rech_3g_8             73.66\n",
       "arpu_2g_8                   73.66\n",
       "dtype: float64"
      ]
     },
     "execution_count": 7,
     "metadata": {},
     "output_type": "execute_result"
    }
   ],
   "source": [
    "#Columns with more than 10% null values.\n",
    "null_series=round(100*(churn_data.isnull().sum(axis=0)/len(churn_data)),2).where(lambda x:x!=0).dropna()\n",
    "null_greater_10_perc=null_series.sort_values(ascending=False).where(lambda x: x>10).dropna()\n",
    "null_greater_10_perc"
   ]
  },
  {
   "cell_type": "code",
   "execution_count": 8,
   "metadata": {},
   "outputs": [
    {
     "data": {
      "text/html": [
       "<div>\n",
       "<style scoped>\n",
       "    .dataframe tbody tr th:only-of-type {\n",
       "        vertical-align: middle;\n",
       "    }\n",
       "\n",
       "    .dataframe tbody tr th {\n",
       "        vertical-align: top;\n",
       "    }\n",
       "\n",
       "    .dataframe thead th {\n",
       "        text-align: right;\n",
       "    }\n",
       "</style>\n",
       "<table border=\"1\" class=\"dataframe\">\n",
       "  <thead>\n",
       "    <tr style=\"text-align: right;\">\n",
       "      <th></th>\n",
       "      <th>total_rech_data_6</th>\n",
       "      <th>av_rech_amt_data_6</th>\n",
       "      <th>arpu_2g_6</th>\n",
       "      <th>date_of_last_rech_data_6</th>\n",
       "      <th>count_rech_3g_6</th>\n",
       "      <th>arpu_3g_6</th>\n",
       "      <th>max_rech_data_6</th>\n",
       "      <th>count_rech_2g_6</th>\n",
       "      <th>max_rech_data_7</th>\n",
       "      <th>count_rech_3g_7</th>\n",
       "      <th>...</th>\n",
       "      <th>arpu_3g_9</th>\n",
       "      <th>count_rech_3g_9</th>\n",
       "      <th>count_rech_2g_8</th>\n",
       "      <th>max_rech_data_8</th>\n",
       "      <th>arpu_3g_8</th>\n",
       "      <th>date_of_last_rech_data_8</th>\n",
       "      <th>av_rech_amt_data_8</th>\n",
       "      <th>total_rech_data_8</th>\n",
       "      <th>count_rech_3g_8</th>\n",
       "      <th>arpu_2g_8</th>\n",
       "    </tr>\n",
       "  </thead>\n",
       "  <tbody>\n",
       "    <tr>\n",
       "      <th>0</th>\n",
       "      <td>1.0</td>\n",
       "      <td>252.0</td>\n",
       "      <td>212.17</td>\n",
       "      <td>6/21/2014</td>\n",
       "      <td>1.0</td>\n",
       "      <td>212.17</td>\n",
       "      <td>252.0</td>\n",
       "      <td>0.0</td>\n",
       "      <td>252.0</td>\n",
       "      <td>1.0</td>\n",
       "      <td>...</td>\n",
       "      <td>NaN</td>\n",
       "      <td>NaN</td>\n",
       "      <td>0.0</td>\n",
       "      <td>252.0</td>\n",
       "      <td>212.17</td>\n",
       "      <td>8/8/2014</td>\n",
       "      <td>252.0</td>\n",
       "      <td>1.0</td>\n",
       "      <td>1.0</td>\n",
       "      <td>212.17</td>\n",
       "    </tr>\n",
       "    <tr>\n",
       "      <th>1</th>\n",
       "      <td>NaN</td>\n",
       "      <td>NaN</td>\n",
       "      <td>NaN</td>\n",
       "      <td>NaN</td>\n",
       "      <td>NaN</td>\n",
       "      <td>NaN</td>\n",
       "      <td>NaN</td>\n",
       "      <td>NaN</td>\n",
       "      <td>154.0</td>\n",
       "      <td>0.0</td>\n",
       "      <td>...</td>\n",
       "      <td>NaN</td>\n",
       "      <td>NaN</td>\n",
       "      <td>2.0</td>\n",
       "      <td>25.0</td>\n",
       "      <td>0.00</td>\n",
       "      <td>8/10/2014</td>\n",
       "      <td>50.0</td>\n",
       "      <td>2.0</td>\n",
       "      <td>0.0</td>\n",
       "      <td>7.60</td>\n",
       "    </tr>\n",
       "    <tr>\n",
       "      <th>2</th>\n",
       "      <td>NaN</td>\n",
       "      <td>NaN</td>\n",
       "      <td>NaN</td>\n",
       "      <td>NaN</td>\n",
       "      <td>NaN</td>\n",
       "      <td>NaN</td>\n",
       "      <td>NaN</td>\n",
       "      <td>NaN</td>\n",
       "      <td>NaN</td>\n",
       "      <td>NaN</td>\n",
       "      <td>...</td>\n",
       "      <td>2.84</td>\n",
       "      <td>0.0</td>\n",
       "      <td>NaN</td>\n",
       "      <td>NaN</td>\n",
       "      <td>NaN</td>\n",
       "      <td>NaN</td>\n",
       "      <td>NaN</td>\n",
       "      <td>NaN</td>\n",
       "      <td>NaN</td>\n",
       "      <td>NaN</td>\n",
       "    </tr>\n",
       "    <tr>\n",
       "      <th>3</th>\n",
       "      <td>NaN</td>\n",
       "      <td>NaN</td>\n",
       "      <td>NaN</td>\n",
       "      <td>NaN</td>\n",
       "      <td>NaN</td>\n",
       "      <td>NaN</td>\n",
       "      <td>NaN</td>\n",
       "      <td>NaN</td>\n",
       "      <td>NaN</td>\n",
       "      <td>NaN</td>\n",
       "      <td>...</td>\n",
       "      <td>NaN</td>\n",
       "      <td>NaN</td>\n",
       "      <td>NaN</td>\n",
       "      <td>NaN</td>\n",
       "      <td>NaN</td>\n",
       "      <td>NaN</td>\n",
       "      <td>NaN</td>\n",
       "      <td>NaN</td>\n",
       "      <td>NaN</td>\n",
       "      <td>NaN</td>\n",
       "    </tr>\n",
       "    <tr>\n",
       "      <th>4</th>\n",
       "      <td>1.0</td>\n",
       "      <td>56.0</td>\n",
       "      <td>0.00</td>\n",
       "      <td>6/4/2014</td>\n",
       "      <td>0.0</td>\n",
       "      <td>0.00</td>\n",
       "      <td>56.0</td>\n",
       "      <td>1.0</td>\n",
       "      <td>NaN</td>\n",
       "      <td>NaN</td>\n",
       "      <td>...</td>\n",
       "      <td>NaN</td>\n",
       "      <td>NaN</td>\n",
       "      <td>NaN</td>\n",
       "      <td>NaN</td>\n",
       "      <td>NaN</td>\n",
       "      <td>NaN</td>\n",
       "      <td>NaN</td>\n",
       "      <td>NaN</td>\n",
       "      <td>NaN</td>\n",
       "      <td>NaN</td>\n",
       "    </tr>\n",
       "  </tbody>\n",
       "</table>\n",
       "<p>5 rows × 32 columns</p>\n",
       "</div>"
      ],
      "text/plain": [
       "   total_rech_data_6  av_rech_amt_data_6  arpu_2g_6 date_of_last_rech_data_6  \\\n",
       "0                1.0               252.0     212.17                6/21/2014   \n",
       "1                NaN                 NaN        NaN                      NaN   \n",
       "2                NaN                 NaN        NaN                      NaN   \n",
       "3                NaN                 NaN        NaN                      NaN   \n",
       "4                1.0                56.0       0.00                 6/4/2014   \n",
       "\n",
       "   count_rech_3g_6  arpu_3g_6  max_rech_data_6  count_rech_2g_6  \\\n",
       "0              1.0     212.17            252.0              0.0   \n",
       "1              NaN        NaN              NaN              NaN   \n",
       "2              NaN        NaN              NaN              NaN   \n",
       "3              NaN        NaN              NaN              NaN   \n",
       "4              0.0       0.00             56.0              1.0   \n",
       "\n",
       "   max_rech_data_7  count_rech_3g_7  ...  arpu_3g_9  count_rech_3g_9  \\\n",
       "0            252.0              1.0  ...        NaN              NaN   \n",
       "1            154.0              0.0  ...        NaN              NaN   \n",
       "2              NaN              NaN  ...       2.84              0.0   \n",
       "3              NaN              NaN  ...        NaN              NaN   \n",
       "4              NaN              NaN  ...        NaN              NaN   \n",
       "\n",
       "   count_rech_2g_8  max_rech_data_8 arpu_3g_8  date_of_last_rech_data_8  \\\n",
       "0              0.0            252.0    212.17                  8/8/2014   \n",
       "1              2.0             25.0      0.00                 8/10/2014   \n",
       "2              NaN              NaN       NaN                       NaN   \n",
       "3              NaN              NaN       NaN                       NaN   \n",
       "4              NaN              NaN       NaN                       NaN   \n",
       "\n",
       "  av_rech_amt_data_8  total_rech_data_8  count_rech_3g_8  arpu_2g_8  \n",
       "0              252.0                1.0              1.0     212.17  \n",
       "1               50.0                2.0              0.0       7.60  \n",
       "2                NaN                NaN              NaN        NaN  \n",
       "3                NaN                NaN              NaN        NaN  \n",
       "4                NaN                NaN              NaN        NaN  \n",
       "\n",
       "[5 rows x 32 columns]"
      ]
     },
     "execution_count": 8,
     "metadata": {},
     "output_type": "execute_result"
    }
   ],
   "source": [
    "churn_data[null_greater_10_perc.index].head()"
   ]
  },
  {
   "cell_type": "markdown",
   "metadata": {},
   "source": [
    "#### Observation:\n",
    "Here for the columns with more thatn 10% of missing data, we can see that it is Null for all the rows with for a particular month. Also we can see that the missing values are all related to `2g/3g Data`. \n",
    "\n",
    "So, we can imply that if a user does not recharge for a data pack, that user's data usage is also expectd to be Null.\n",
    "\n",
    "Therefore, here we can safely impute 0 for all the above Null values."
   ]
  },
  {
   "cell_type": "markdown",
   "metadata": {},
   "source": [
    "Checking for the columns with only 1 unique value."
   ]
  },
  {
   "cell_type": "code",
   "execution_count": 9,
   "metadata": {},
   "outputs": [],
   "source": [
    "churn_data[null_greater_10_perc.index]=churn_data[null_greater_10_perc.index].fillna(0)"
   ]
  },
  {
   "cell_type": "code",
   "execution_count": 10,
   "metadata": {},
   "outputs": [],
   "source": [
    "# Dropping the `date_of_last_rech_data_*` column\n",
    "churn_data.drop(['date_of_last_rech_data_6',\n",
    " 'date_of_last_rech_data_7',\n",
    " 'date_of_last_rech_data_8',\n",
    " 'date_of_last_rech_data_9'],axis=1,inplace=True)"
   ]
  },
  {
   "cell_type": "code",
   "execution_count": 11,
   "metadata": {},
   "outputs": [
    {
     "data": {
      "text/plain": [
       "loc_og_t2m_mou_9        7.75\n",
       "roam_ic_mou_9           7.75\n",
       "loc_og_t2f_mou_9        7.75\n",
       "loc_ic_t2m_mou_9        7.75\n",
       "loc_ic_mou_9            7.75\n",
       "std_og_t2f_mou_9        7.75\n",
       "loc_og_t2c_mou_9        7.75\n",
       "std_ic_t2t_mou_9        7.75\n",
       "loc_ic_t2t_mou_9        7.75\n",
       "loc_og_t2t_mou_9        7.75\n",
       "std_ic_t2m_mou_9        7.75\n",
       "og_others_9             7.75\n",
       "std_ic_t2f_mou_9        7.75\n",
       "roam_og_mou_9           7.75\n",
       "loc_og_mou_9            7.75\n",
       "spl_og_mou_9            7.75\n",
       "std_ic_t2o_mou_9        7.75\n",
       "loc_ic_t2f_mou_9        7.75\n",
       "onnet_mou_9             7.75\n",
       "std_og_t2c_mou_9        7.75\n",
       "std_og_t2t_mou_9        7.75\n",
       "isd_og_mou_9            7.75\n",
       "spl_ic_mou_9            7.75\n",
       "ic_others_9             7.75\n",
       "offnet_mou_9            7.75\n",
       "std_og_t2m_mou_9        7.75\n",
       "std_ic_mou_9            7.75\n",
       "std_og_mou_9            7.75\n",
       "isd_ic_mou_9            7.75\n",
       "std_og_t2c_mou_8        5.38\n",
       "                        ... \n",
       "isd_ic_mou_7            3.86\n",
       "offnet_mou_7            3.86\n",
       "std_og_t2f_mou_7        3.86\n",
       "ic_others_7             3.86\n",
       "onnet_mou_7             3.86\n",
       "std_og_t2m_mou_7        3.86\n",
       "std_ic_t2o_mou_7        3.86\n",
       "loc_og_t2t_mou_7        3.86\n",
       "loc_og_t2f_mou_7        3.86\n",
       "loc_ic_t2t_mou_7        3.86\n",
       "loc_ic_t2m_mou_7        3.86\n",
       "loc_og_t2c_mou_7        3.86\n",
       "isd_og_mou_7            3.86\n",
       "loc_ic_t2f_mou_7        3.86\n",
       "spl_og_mou_7            3.86\n",
       "std_og_t2t_mou_7        3.86\n",
       "loc_ic_mou_7            3.86\n",
       "std_ic_t2t_mou_7        3.86\n",
       "loc_og_t2m_mou_7        3.86\n",
       "std_og_t2c_mou_7        3.86\n",
       "std_ic_t2m_mou_7        3.86\n",
       "date_of_last_rech_8     3.62\n",
       "date_of_last_rech_7     1.77\n",
       "last_date_of_month_9    1.66\n",
       "date_of_last_rech_6     1.61\n",
       "last_date_of_month_8    1.10\n",
       "loc_ic_t2o_mou          1.02\n",
       "std_og_t2o_mou          1.02\n",
       "loc_og_t2o_mou          1.02\n",
       "last_date_of_month_7    0.60\n",
       "Length: 126, dtype: float64"
      ]
     },
     "execution_count": 11,
     "metadata": {},
     "output_type": "execute_result"
    }
   ],
   "source": [
    "#Columns with less than 10% null values.\n",
    "null_series=round(100*(churn_data.isnull().sum(axis=0)/len(churn_data)),2).where(lambda x:x!=0).dropna()\n",
    "null_less_10_perc=null_series.sort_values(ascending=False).where(lambda x: x<=10).dropna()\n",
    "null_less_10_perc"
   ]
  },
  {
   "cell_type": "code",
   "execution_count": 12,
   "metadata": {},
   "outputs": [],
   "source": [
    "# Removing the columsn with `date` values.\n",
    "null_less_10_perc=[col for col in null_less_10_perc.index if \"date\" not in col]"
   ]
  },
  {
   "cell_type": "code",
   "execution_count": 13,
   "metadata": {},
   "outputs": [],
   "source": [
    "# As we are all dealing with usage based data, a Null value means \"No Usage\". So can impute 0 for all the Null values.\n",
    "# Imputing the Null values with '0' of the column for those columns with less than 10% Null values.\n",
    "churn_data[null_less_10_perc]=churn_data[null_less_10_perc].fillna(0)"
   ]
  },
  {
   "cell_type": "code",
   "execution_count": 14,
   "metadata": {},
   "outputs": [
    {
     "data": {
      "text/html": [
       "<div>\n",
       "<style scoped>\n",
       "    .dataframe tbody tr th:only-of-type {\n",
       "        vertical-align: middle;\n",
       "    }\n",
       "\n",
       "    .dataframe tbody tr th {\n",
       "        vertical-align: top;\n",
       "    }\n",
       "\n",
       "    .dataframe thead th {\n",
       "        text-align: right;\n",
       "    }\n",
       "</style>\n",
       "<table border=\"1\" class=\"dataframe\">\n",
       "  <thead>\n",
       "    <tr style=\"text-align: right;\">\n",
       "      <th></th>\n",
       "      <th>circle_id</th>\n",
       "      <th>loc_og_t2o_mou</th>\n",
       "      <th>std_og_t2o_mou</th>\n",
       "      <th>loc_ic_t2o_mou</th>\n",
       "      <th>last_date_of_month_6</th>\n",
       "      <th>last_date_of_month_7</th>\n",
       "      <th>last_date_of_month_8</th>\n",
       "      <th>last_date_of_month_9</th>\n",
       "      <th>std_og_t2c_mou_6</th>\n",
       "      <th>std_og_t2c_mou_7</th>\n",
       "      <th>std_og_t2c_mou_8</th>\n",
       "      <th>std_og_t2c_mou_9</th>\n",
       "      <th>std_ic_t2o_mou_6</th>\n",
       "      <th>std_ic_t2o_mou_7</th>\n",
       "      <th>std_ic_t2o_mou_8</th>\n",
       "      <th>std_ic_t2o_mou_9</th>\n",
       "    </tr>\n",
       "  </thead>\n",
       "  <tbody>\n",
       "    <tr>\n",
       "      <th>0</th>\n",
       "      <td>109</td>\n",
       "      <td>0.0</td>\n",
       "      <td>0.0</td>\n",
       "      <td>0.0</td>\n",
       "      <td>6/30/2014</td>\n",
       "      <td>7/31/2014</td>\n",
       "      <td>8/31/2014</td>\n",
       "      <td>9/30/2014</td>\n",
       "      <td>0.0</td>\n",
       "      <td>0.0</td>\n",
       "      <td>0.0</td>\n",
       "      <td>0.0</td>\n",
       "      <td>0.0</td>\n",
       "      <td>0.0</td>\n",
       "      <td>0.0</td>\n",
       "      <td>0.0</td>\n",
       "    </tr>\n",
       "    <tr>\n",
       "      <th>1</th>\n",
       "      <td>109</td>\n",
       "      <td>0.0</td>\n",
       "      <td>0.0</td>\n",
       "      <td>0.0</td>\n",
       "      <td>6/30/2014</td>\n",
       "      <td>7/31/2014</td>\n",
       "      <td>8/31/2014</td>\n",
       "      <td>9/30/2014</td>\n",
       "      <td>0.0</td>\n",
       "      <td>0.0</td>\n",
       "      <td>0.0</td>\n",
       "      <td>0.0</td>\n",
       "      <td>0.0</td>\n",
       "      <td>0.0</td>\n",
       "      <td>0.0</td>\n",
       "      <td>0.0</td>\n",
       "    </tr>\n",
       "    <tr>\n",
       "      <th>2</th>\n",
       "      <td>109</td>\n",
       "      <td>0.0</td>\n",
       "      <td>0.0</td>\n",
       "      <td>0.0</td>\n",
       "      <td>6/30/2014</td>\n",
       "      <td>7/31/2014</td>\n",
       "      <td>8/31/2014</td>\n",
       "      <td>9/30/2014</td>\n",
       "      <td>0.0</td>\n",
       "      <td>0.0</td>\n",
       "      <td>0.0</td>\n",
       "      <td>0.0</td>\n",
       "      <td>0.0</td>\n",
       "      <td>0.0</td>\n",
       "      <td>0.0</td>\n",
       "      <td>0.0</td>\n",
       "    </tr>\n",
       "    <tr>\n",
       "      <th>3</th>\n",
       "      <td>109</td>\n",
       "      <td>0.0</td>\n",
       "      <td>0.0</td>\n",
       "      <td>0.0</td>\n",
       "      <td>6/30/2014</td>\n",
       "      <td>7/31/2014</td>\n",
       "      <td>8/31/2014</td>\n",
       "      <td>9/30/2014</td>\n",
       "      <td>0.0</td>\n",
       "      <td>0.0</td>\n",
       "      <td>0.0</td>\n",
       "      <td>0.0</td>\n",
       "      <td>0.0</td>\n",
       "      <td>0.0</td>\n",
       "      <td>0.0</td>\n",
       "      <td>0.0</td>\n",
       "    </tr>\n",
       "    <tr>\n",
       "      <th>4</th>\n",
       "      <td>109</td>\n",
       "      <td>0.0</td>\n",
       "      <td>0.0</td>\n",
       "      <td>0.0</td>\n",
       "      <td>6/30/2014</td>\n",
       "      <td>7/31/2014</td>\n",
       "      <td>8/31/2014</td>\n",
       "      <td>9/30/2014</td>\n",
       "      <td>0.0</td>\n",
       "      <td>0.0</td>\n",
       "      <td>0.0</td>\n",
       "      <td>0.0</td>\n",
       "      <td>0.0</td>\n",
       "      <td>0.0</td>\n",
       "      <td>0.0</td>\n",
       "      <td>0.0</td>\n",
       "    </tr>\n",
       "  </tbody>\n",
       "</table>\n",
       "</div>"
      ],
      "text/plain": [
       "   circle_id  loc_og_t2o_mou  std_og_t2o_mou  loc_ic_t2o_mou  \\\n",
       "0        109             0.0             0.0             0.0   \n",
       "1        109             0.0             0.0             0.0   \n",
       "2        109             0.0             0.0             0.0   \n",
       "3        109             0.0             0.0             0.0   \n",
       "4        109             0.0             0.0             0.0   \n",
       "\n",
       "  last_date_of_month_6 last_date_of_month_7 last_date_of_month_8  \\\n",
       "0            6/30/2014            7/31/2014            8/31/2014   \n",
       "1            6/30/2014            7/31/2014            8/31/2014   \n",
       "2            6/30/2014            7/31/2014            8/31/2014   \n",
       "3            6/30/2014            7/31/2014            8/31/2014   \n",
       "4            6/30/2014            7/31/2014            8/31/2014   \n",
       "\n",
       "  last_date_of_month_9  std_og_t2c_mou_6  std_og_t2c_mou_7  std_og_t2c_mou_8  \\\n",
       "0            9/30/2014               0.0               0.0               0.0   \n",
       "1            9/30/2014               0.0               0.0               0.0   \n",
       "2            9/30/2014               0.0               0.0               0.0   \n",
       "3            9/30/2014               0.0               0.0               0.0   \n",
       "4            9/30/2014               0.0               0.0               0.0   \n",
       "\n",
       "   std_og_t2c_mou_9  std_ic_t2o_mou_6  std_ic_t2o_mou_7  std_ic_t2o_mou_8  \\\n",
       "0               0.0               0.0               0.0               0.0   \n",
       "1               0.0               0.0               0.0               0.0   \n",
       "2               0.0               0.0               0.0               0.0   \n",
       "3               0.0               0.0               0.0               0.0   \n",
       "4               0.0               0.0               0.0               0.0   \n",
       "\n",
       "   std_ic_t2o_mou_9  \n",
       "0               0.0  \n",
       "1               0.0  \n",
       "2               0.0  \n",
       "3               0.0  \n",
       "4               0.0  "
      ]
     },
     "execution_count": 14,
     "metadata": {},
     "output_type": "execute_result"
    }
   ],
   "source": [
    "# Columns with only 1 unique value.\n",
    "nunique_1=pd.DataFrame(churn_data.nunique().where(lambda x:x==1).dropna())\n",
    "churn_data[nunique_1.index].head()"
   ]
  },
  {
   "cell_type": "code",
   "execution_count": 15,
   "metadata": {},
   "outputs": [
    {
     "data": {
      "text/plain": [
       "['last_date_of_month_6',\n",
       " 'last_date_of_month_7',\n",
       " 'last_date_of_month_8',\n",
       " 'last_date_of_month_9',\n",
       " 'date_of_last_rech_6',\n",
       " 'date_of_last_rech_7',\n",
       " 'date_of_last_rech_8',\n",
       " 'date_of_last_rech_9']"
      ]
     },
     "execution_count": 15,
     "metadata": {},
     "output_type": "execute_result"
    }
   ],
   "source": [
    "cols=[col for col in churn_data.columns if \"date\" in col]\n",
    "cols"
   ]
  },
  {
   "cell_type": "code",
   "execution_count": 16,
   "metadata": {},
   "outputs": [],
   "source": [
    "# Dropping the columns with date.\n",
    "churn_data=churn_data.drop(cols,axis=1)"
   ]
  },
  {
   "cell_type": "code",
   "execution_count": 17,
   "metadata": {},
   "outputs": [
    {
     "data": {
      "text/plain": [
       "(99999, 214)"
      ]
     },
     "execution_count": 17,
     "metadata": {},
     "output_type": "execute_result"
    }
   ],
   "source": [
    "churn_data.shape"
   ]
  },
  {
   "cell_type": "markdown",
   "metadata": {},
   "source": [
    "## Deriving New Variables"
   ]
  },
  {
   "cell_type": "markdown",
   "metadata": {},
   "source": [
    "##### Call and Data Usage Drop\n",
    "There are 3 phases named as: `Good Phase`(6th and 7th month), `Action Phase`(8th month) & `Churn Phase`(9th month).\n",
    "\n",
    "If we see a drop in call or data usage from `Good` to `Action` Phase, it can be a good indicator that the customer is not happy with the service and is about to churn.\n",
    "\n",
    "So, we are deriving a new variable which will 1 when we see a drop in usage by more than 50% else 0."
   ]
  },
  {
   "cell_type": "code",
   "execution_count": 18,
   "metadata": {},
   "outputs": [],
   "source": [
    "# Creating the average CALL usage(both incomming and outgoing) for \"Good Phase\".\n",
    "churn_data['good_phase_call']=(churn_data['total_ic_mou_6']+churn_data['total_og_mou_6']+churn_data['total_ic_mou_7']+churn_data['total_og_mou_7'])/2"
   ]
  },
  {
   "cell_type": "code",
   "execution_count": 19,
   "metadata": {},
   "outputs": [],
   "source": [
    "# Creating the average DATA usage(both 2G and 3G) for \"Good Phase\".\n",
    "churn_data['good_phase_data']=(churn_data['vol_2g_mb_6']+churn_data['vol_3g_mb_6']+churn_data['vol_2g_mb_7']+churn_data['vol_3g_mb_7'])/2"
   ]
  },
  {
   "cell_type": "code",
   "execution_count": 20,
   "metadata": {},
   "outputs": [],
   "source": [
    "# Creating the CALL usage(both incomming and outgoing) for \"Action Phase\".\n",
    "churn_data['action_phase_call']=churn_data['total_ic_mou_8']+churn_data['total_og_mou_8']"
   ]
  },
  {
   "cell_type": "code",
   "execution_count": 21,
   "metadata": {},
   "outputs": [],
   "source": [
    "# Creating the CALL usage(both 2G and 3G) for \"Action Phase\".\n",
    "churn_data['action_phase_data']=churn_data['vol_2g_mb_8']+churn_data['vol_3g_mb_8']"
   ]
  },
  {
   "cell_type": "code",
   "execution_count": 22,
   "metadata": {},
   "outputs": [],
   "source": [
    "churn_data['diff_call_bet_action_and_good_phase']=churn_data['action_phase_call']-churn_data['good_phase_call']"
   ]
  },
  {
   "cell_type": "code",
   "execution_count": 23,
   "metadata": {},
   "outputs": [],
   "source": [
    "churn_data['diff_data_bet_action_and_good_phase']=churn_data['action_phase_data']-churn_data['good_phase_data']"
   ]
  },
  {
   "cell_type": "code",
   "execution_count": 24,
   "metadata": {},
   "outputs": [],
   "source": [
    "filter1=churn_data['diff_call_bet_action_and_good_phase']<0\n",
    "filter2=abs(churn_data['diff_call_bet_action_and_good_phase'])>=(0.5*churn_data['good_phase_call'])\n",
    "churn_data.loc[filter1 & filter2,\"call_usage_drop\"]=1\n",
    "churn_data['call_usage_drop']=churn_data['call_usage_drop'].fillna(0)"
   ]
  },
  {
   "cell_type": "code",
   "execution_count": 25,
   "metadata": {},
   "outputs": [
    {
     "data": {
      "text/html": [
       "<div>\n",
       "<style scoped>\n",
       "    .dataframe tbody tr th:only-of-type {\n",
       "        vertical-align: middle;\n",
       "    }\n",
       "\n",
       "    .dataframe tbody tr th {\n",
       "        vertical-align: top;\n",
       "    }\n",
       "\n",
       "    .dataframe thead th {\n",
       "        text-align: right;\n",
       "    }\n",
       "</style>\n",
       "<table border=\"1\" class=\"dataframe\">\n",
       "  <thead>\n",
       "    <tr style=\"text-align: right;\">\n",
       "      <th></th>\n",
       "      <th>good_phase_call</th>\n",
       "      <th>action_phase_call</th>\n",
       "      <th>diff_call_bet_action_and_good_phase</th>\n",
       "      <th>call_usage_drop</th>\n",
       "    </tr>\n",
       "  </thead>\n",
       "  <tbody>\n",
       "    <tr>\n",
       "      <th>0</th>\n",
       "      <td>0.000</td>\n",
       "      <td>5.44</td>\n",
       "      <td>5.440</td>\n",
       "      <td>0.0</td>\n",
       "    </tr>\n",
       "    <tr>\n",
       "      <th>1</th>\n",
       "      <td>174.950</td>\n",
       "      <td>735.72</td>\n",
       "      <td>560.770</td>\n",
       "      <td>0.0</td>\n",
       "    </tr>\n",
       "    <tr>\n",
       "      <th>2</th>\n",
       "      <td>728.920</td>\n",
       "      <td>680.49</td>\n",
       "      <td>-48.430</td>\n",
       "      <td>0.0</td>\n",
       "    </tr>\n",
       "    <tr>\n",
       "      <th>3</th>\n",
       "      <td>427.615</td>\n",
       "      <td>405.34</td>\n",
       "      <td>-22.275</td>\n",
       "      <td>0.0</td>\n",
       "    </tr>\n",
       "    <tr>\n",
       "      <th>4</th>\n",
       "      <td>391.670</td>\n",
       "      <td>546.97</td>\n",
       "      <td>155.300</td>\n",
       "      <td>0.0</td>\n",
       "    </tr>\n",
       "  </tbody>\n",
       "</table>\n",
       "</div>"
      ],
      "text/plain": [
       "   good_phase_call  action_phase_call  diff_call_bet_action_and_good_phase  \\\n",
       "0            0.000               5.44                                5.440   \n",
       "1          174.950             735.72                              560.770   \n",
       "2          728.920             680.49                              -48.430   \n",
       "3          427.615             405.34                              -22.275   \n",
       "4          391.670             546.97                              155.300   \n",
       "\n",
       "   call_usage_drop  \n",
       "0              0.0  \n",
       "1              0.0  \n",
       "2              0.0  \n",
       "3              0.0  \n",
       "4              0.0  "
      ]
     },
     "execution_count": 25,
     "metadata": {},
     "output_type": "execute_result"
    }
   ],
   "source": [
    "churn_data[['good_phase_call','action_phase_call','diff_call_bet_action_and_good_phase','call_usage_drop']].head()"
   ]
  },
  {
   "cell_type": "code",
   "execution_count": 26,
   "metadata": {},
   "outputs": [],
   "source": [
    "filter1=churn_data['diff_data_bet_action_and_good_phase']<0\n",
    "filter2=abs(churn_data['diff_data_bet_action_and_good_phase'])>=(0.5*churn_data['good_phase_data'])\n",
    "churn_data.loc[filter1 & filter2,\"data_usage_drop\"]=1\n",
    "churn_data['data_usage_drop']=churn_data['data_usage_drop'].fillna(0)"
   ]
  },
  {
   "cell_type": "code",
   "execution_count": 27,
   "metadata": {},
   "outputs": [
    {
     "data": {
      "text/html": [
       "<div>\n",
       "<style scoped>\n",
       "    .dataframe tbody tr th:only-of-type {\n",
       "        vertical-align: middle;\n",
       "    }\n",
       "\n",
       "    .dataframe tbody tr th {\n",
       "        vertical-align: top;\n",
       "    }\n",
       "\n",
       "    .dataframe thead th {\n",
       "        text-align: right;\n",
       "    }\n",
       "</style>\n",
       "<table border=\"1\" class=\"dataframe\">\n",
       "  <thead>\n",
       "    <tr style=\"text-align: right;\">\n",
       "      <th></th>\n",
       "      <th>good_phase_data</th>\n",
       "      <th>action_phase_data</th>\n",
       "      <th>diff_data_bet_action_and_good_phase</th>\n",
       "      <th>data_usage_drop</th>\n",
       "    </tr>\n",
       "  </thead>\n",
       "  <tbody>\n",
       "    <tr>\n",
       "      <th>0</th>\n",
       "      <td>132.890</td>\n",
       "      <td>115.36</td>\n",
       "      <td>-17.530</td>\n",
       "      <td>0.0</td>\n",
       "    </tr>\n",
       "    <tr>\n",
       "      <th>1</th>\n",
       "      <td>54.035</td>\n",
       "      <td>365.47</td>\n",
       "      <td>311.435</td>\n",
       "      <td>0.0</td>\n",
       "    </tr>\n",
       "    <tr>\n",
       "      <th>2</th>\n",
       "      <td>0.000</td>\n",
       "      <td>0.00</td>\n",
       "      <td>0.000</td>\n",
       "      <td>0.0</td>\n",
       "    </tr>\n",
       "    <tr>\n",
       "      <th>3</th>\n",
       "      <td>0.000</td>\n",
       "      <td>0.00</td>\n",
       "      <td>0.000</td>\n",
       "      <td>0.0</td>\n",
       "    </tr>\n",
       "    <tr>\n",
       "      <th>4</th>\n",
       "      <td>0.000</td>\n",
       "      <td>0.00</td>\n",
       "      <td>0.000</td>\n",
       "      <td>0.0</td>\n",
       "    </tr>\n",
       "  </tbody>\n",
       "</table>\n",
       "</div>"
      ],
      "text/plain": [
       "   good_phase_data  action_phase_data  diff_data_bet_action_and_good_phase  \\\n",
       "0          132.890             115.36                              -17.530   \n",
       "1           54.035             365.47                              311.435   \n",
       "2            0.000               0.00                                0.000   \n",
       "3            0.000               0.00                                0.000   \n",
       "4            0.000               0.00                                0.000   \n",
       "\n",
       "   data_usage_drop  \n",
       "0              0.0  \n",
       "1              0.0  \n",
       "2              0.0  \n",
       "3              0.0  \n",
       "4              0.0  "
      ]
     },
     "execution_count": 27,
     "metadata": {},
     "output_type": "execute_result"
    }
   ],
   "source": [
    "churn_data[['good_phase_data','action_phase_data','diff_data_bet_action_and_good_phase','data_usage_drop']].head()"
   ]
  },
  {
   "cell_type": "code",
   "execution_count": 28,
   "metadata": {},
   "outputs": [],
   "source": [
    "# Dropping the intermediate columns\n",
    "churn_data.drop(['good_phase_call','good_phase_data','action_phase_call','action_phase_data','diff_call_bet_action_and_good_phase','diff_data_bet_action_and_good_phase'],axis=1,inplace=True)"
   ]
  },
  {
   "cell_type": "markdown",
   "metadata": {},
   "source": [
    "##### High Roaming Users\n",
    "Creating a new categorical variable `high_roam_user`, which has 1 for the customers who use more than 90 percentile of sum of roaming minutes_of_usage."
   ]
  },
  {
   "cell_type": "code",
   "execution_count": 29,
   "metadata": {},
   "outputs": [
    {
     "data": {
      "text/plain": [
       "110.66199999999998"
      ]
     },
     "execution_count": 29,
     "metadata": {},
     "output_type": "execute_result"
    }
   ],
   "source": [
    "# Calculating the 90 percentile value for the sum of roaming minutes_of_usage.\n",
    "x=churn_data[['roam_ic_mou_6','roam_og_mou_6','roam_ic_mou_7','roam_og_mou_7','roam_ic_mou_8','roam_og_mou_8']].sum(axis=1).quantile(0.9)\n",
    "x"
   ]
  },
  {
   "cell_type": "code",
   "execution_count": 30,
   "metadata": {},
   "outputs": [
    {
     "data": {
      "text/plain": [
       "(10000,)"
      ]
     },
     "execution_count": 30,
     "metadata": {},
     "output_type": "execute_result"
    }
   ],
   "source": [
    "# Number of High Roaming Users(who use more than 90 percentile of sum of roaming minutes_of_usage)\n",
    "churn_data['mobile_number'].where(churn_data[['roam_ic_mou_6','roam_og_mou_6','roam_ic_mou_7','roam_og_mou_7','roam_ic_mou_8','roam_og_mou_8']].sum(axis=1)>x).dropna().shape"
   ]
  },
  {
   "cell_type": "code",
   "execution_count": 31,
   "metadata": {},
   "outputs": [],
   "source": [
    "# Creating new column \"high_roam_user\".\n",
    "churn_data.loc[churn_data[['roam_ic_mou_6','roam_og_mou_6','roam_ic_mou_7','roam_og_mou_7','roam_ic_mou_8','roam_og_mou_8']].sum(axis=1)>x,\"high_roam_user\"]=1\n",
    "churn_data['high_roam_user'].fillna(0,inplace=True)"
   ]
  },
  {
   "cell_type": "markdown",
   "metadata": {},
   "source": [
    "## Selecting the `High Value Customers`"
   ]
  },
  {
   "cell_type": "code",
   "execution_count": 32,
   "metadata": {},
   "outputs": [
    {
     "name": "stdout",
     "output_type": "stream",
     "text": [
      "No. of Columns having Null values =  0\n"
     ]
    }
   ],
   "source": [
    "# Checking for the columns with missing values\n",
    "# Calculating the percentage of Null values present in each columns and storing it in a list.\n",
    "null_series=round(100*(churn_data.isnull().sum(axis=0)/len(churn_data)),2).where(lambda x:x!=0).dropna()\n",
    "print('No. of Columns having Null values = ',null_series.count())"
   ]
  },
  {
   "cell_type": "code",
   "execution_count": 33,
   "metadata": {},
   "outputs": [],
   "source": [
    "churn_data['total_6']=churn_data['total_rech_amt_6']+(churn_data['total_rech_data_6']*churn_data['av_rech_amt_data_6'])\n",
    "churn_data['total_7']=churn_data['total_rech_amt_7']+(churn_data['total_rech_data_7']*churn_data['av_rech_amt_data_7'])"
   ]
  },
  {
   "cell_type": "code",
   "execution_count": 34,
   "metadata": {},
   "outputs": [],
   "source": [
    "#Calculating the average Recharge for month 6 and 7.\n",
    "churn_data['avg']=(churn_data['total_6']+churn_data['total_7'])/2"
   ]
  },
  {
   "cell_type": "code",
   "execution_count": 35,
   "metadata": {},
   "outputs": [],
   "source": [
    "# Dropping the intermediate columns\n",
    "churn_data.drop(['total_6','total_7'],axis=1,inplace=True)"
   ]
  },
  {
   "cell_type": "code",
   "execution_count": 36,
   "metadata": {},
   "outputs": [
    {
     "name": "stdout",
     "output_type": "stream",
     "text": [
      "70th percentile of the average recharge amount in the first two months =  478.0\n"
     ]
    }
   ],
   "source": [
    "# Calculating the 70th Percentile of average recharge amount in the first two months\n",
    "avg=churn_data['avg'].quantile(0.70)\n",
    "print('70th percentile of the average recharge amount in the first two months = ',avg)"
   ]
  },
  {
   "cell_type": "code",
   "execution_count": 37,
   "metadata": {},
   "outputs": [
    {
     "data": {
      "text/plain": [
       "(29953,)"
      ]
     },
     "execution_count": 37,
     "metadata": {},
     "output_type": "execute_result"
    }
   ],
   "source": [
    "# Number of High Value Customer(who recharge more than 70 percentile of average)\n",
    "churn_data['mobile_number'].where(churn_data['avg']>avg).dropna().shape"
   ]
  },
  {
   "cell_type": "code",
   "execution_count": 38,
   "metadata": {},
   "outputs": [
    {
     "data": {
      "text/plain": [
       "(29953, 218)"
      ]
     },
     "execution_count": 38,
     "metadata": {},
     "output_type": "execute_result"
    }
   ],
   "source": [
    "# Cretaing a new dataset for High Value Customer only\n",
    "churn_data_new=churn_data[churn_data['mobile_number'].where(churn_data['avg']>avg).isnull() == False]\n",
    "churn_data_new.shape"
   ]
  },
  {
   "cell_type": "markdown",
   "metadata": {},
   "source": [
    "## Tagging the `Churners`"
   ]
  },
  {
   "cell_type": "markdown",
   "metadata": {},
   "source": [
    "Conditions: For the rows where all the below columns have 0, tag them as `Churners`.\n",
    "\n",
    "total_ic_mou_9 == 0\n",
    "\n",
    "total_og_mou_9 == 0\n",
    "\n",
    "vol_2g_mb_9 == 0\n",
    "\n",
    "vol_3g_mb_9 == 0"
   ]
  },
  {
   "cell_type": "code",
   "execution_count": 39,
   "metadata": {},
   "outputs": [],
   "source": [
    "# Setting the conditions\n",
    "filter1=churn_data_new['total_ic_mou_9']==0 \n",
    "filter2=churn_data_new['total_og_mou_9']==0 \n",
    "filter3=churn_data_new['vol_2g_mb_9']==0 \n",
    "filter4=churn_data_new['vol_3g_mb_9']==0"
   ]
  },
  {
   "cell_type": "code",
   "execution_count": 40,
   "metadata": {},
   "outputs": [
    {
     "name": "stderr",
     "output_type": "stream",
     "text": [
      "C:\\Users\\USER.000\\Anaconda3\\lib\\site-packages\\pandas\\core\\indexing.py:362: SettingWithCopyWarning: \n",
      "A value is trying to be set on a copy of a slice from a DataFrame.\n",
      "Try using .loc[row_indexer,col_indexer] = value instead\n",
      "\n",
      "See the caveats in the documentation: http://pandas.pydata.org/pandas-docs/stable/indexing.html#indexing-view-versus-copy\n",
      "  self.obj[key] = _infer_fill_value(value)\n",
      "C:\\Users\\USER.000\\Anaconda3\\lib\\site-packages\\pandas\\core\\indexing.py:543: SettingWithCopyWarning: \n",
      "A value is trying to be set on a copy of a slice from a DataFrame.\n",
      "Try using .loc[row_indexer,col_indexer] = value instead\n",
      "\n",
      "See the caveats in the documentation: http://pandas.pydata.org/pandas-docs/stable/indexing.html#indexing-view-versus-copy\n",
      "  self.obj[item] = s\n"
     ]
    }
   ],
   "source": [
    "churn_data_new.loc[filter1 & filter2 & filter3 & filter4,'churn']=1"
   ]
  },
  {
   "cell_type": "code",
   "execution_count": 41,
   "metadata": {},
   "outputs": [
    {
     "name": "stderr",
     "output_type": "stream",
     "text": [
      "C:\\Users\\USER.000\\Anaconda3\\lib\\site-packages\\pandas\\core\\generic.py:6130: SettingWithCopyWarning: \n",
      "A value is trying to be set on a copy of a slice from a DataFrame\n",
      "\n",
      "See the caveats in the documentation: http://pandas.pydata.org/pandas-docs/stable/indexing.html#indexing-view-versus-copy\n",
      "  self._update_inplace(new_data)\n"
     ]
    }
   ],
   "source": [
    "churn_data_new['churn'].fillna(0,inplace=True)"
   ]
  },
  {
   "cell_type": "code",
   "execution_count": 42,
   "metadata": {},
   "outputs": [
    {
     "name": "stdout",
     "output_type": "stream",
     "text": [
      "No. of Churners =  2433.0\n"
     ]
    }
   ],
   "source": [
    "print(\"No. of Churners = \",churn_data_new['churn'].sum())"
   ]
  },
  {
   "cell_type": "code",
   "execution_count": 43,
   "metadata": {},
   "outputs": [
    {
     "data": {
      "text/plain": [
       "0.0    27520\n",
       "1.0     2433\n",
       "Name: churn, dtype: int64"
      ]
     },
     "execution_count": 43,
     "metadata": {},
     "output_type": "execute_result"
    }
   ],
   "source": [
    "churn_data_new['churn'].value_counts()"
   ]
  },
  {
   "cell_type": "markdown",
   "metadata": {},
   "source": [
    "#### Observations:\n",
    "\n",
    "Here we can see that there are only 2433 Churned customers(~8% of High Value Customers) and 27520 Non-Churned Customers(~92% of High Value Customer data).\n",
    "\n",
    "This is a highly imbalanced dataset."
   ]
  },
  {
   "cell_type": "markdown",
   "metadata": {},
   "source": [
    "### Dropping the columns related to 9th month."
   ]
  },
  {
   "cell_type": "code",
   "execution_count": 44,
   "metadata": {},
   "outputs": [
    {
     "name": "stdout",
     "output_type": "stream",
     "text": [
      "Number of columns with _9 as part of it =  51\n"
     ]
    }
   ],
   "source": [
    "# Dropping the columns with '_9'.\n",
    "cols=[col for col in churn_data_new.columns if \"_9\" in col]\n",
    "print(\"Number of columns with _9 as part of it = \",len(cols))"
   ]
  },
  {
   "cell_type": "code",
   "execution_count": 45,
   "metadata": {},
   "outputs": [],
   "source": [
    "churn_data_new=churn_data_new.drop(cols,axis=1)"
   ]
  },
  {
   "cell_type": "code",
   "execution_count": 46,
   "metadata": {},
   "outputs": [
    {
     "data": {
      "text/plain": [
       "(29953, 168)"
      ]
     },
     "execution_count": 46,
     "metadata": {},
     "output_type": "execute_result"
    }
   ],
   "source": [
    "churn_data_new.shape"
   ]
  },
  {
   "cell_type": "markdown",
   "metadata": {},
   "source": [
    "### Checking & Removing all the columns with only 1 unique values"
   ]
  },
  {
   "cell_type": "code",
   "execution_count": 47,
   "metadata": {},
   "outputs": [
    {
     "data": {
      "text/plain": [
       "Index(['circle_id', 'loc_og_t2o_mou', 'std_og_t2o_mou', 'loc_ic_t2o_mou',\n",
       "       'std_og_t2c_mou_6', 'std_og_t2c_mou_7', 'std_og_t2c_mou_8',\n",
       "       'std_ic_t2o_mou_6', 'std_ic_t2o_mou_7', 'std_ic_t2o_mou_8'],\n",
       "      dtype='object')"
      ]
     },
     "execution_count": 47,
     "metadata": {},
     "output_type": "execute_result"
    }
   ],
   "source": [
    "# Columns with only 1 unique value.\n",
    "nunique_1=pd.DataFrame(churn_data_new.nunique().where(lambda x:x==1).dropna())\n",
    "nunique_1.index"
   ]
  },
  {
   "cell_type": "code",
   "execution_count": 48,
   "metadata": {},
   "outputs": [
    {
     "data": {
      "text/html": [
       "<div>\n",
       "<style scoped>\n",
       "    .dataframe tbody tr th:only-of-type {\n",
       "        vertical-align: middle;\n",
       "    }\n",
       "\n",
       "    .dataframe tbody tr th {\n",
       "        vertical-align: top;\n",
       "    }\n",
       "\n",
       "    .dataframe thead th {\n",
       "        text-align: right;\n",
       "    }\n",
       "</style>\n",
       "<table border=\"1\" class=\"dataframe\">\n",
       "  <thead>\n",
       "    <tr style=\"text-align: right;\">\n",
       "      <th></th>\n",
       "      <th>circle_id</th>\n",
       "      <th>loc_og_t2o_mou</th>\n",
       "      <th>std_og_t2o_mou</th>\n",
       "      <th>loc_ic_t2o_mou</th>\n",
       "      <th>std_og_t2c_mou_6</th>\n",
       "      <th>std_og_t2c_mou_7</th>\n",
       "      <th>std_og_t2c_mou_8</th>\n",
       "      <th>std_ic_t2o_mou_6</th>\n",
       "      <th>std_ic_t2o_mou_7</th>\n",
       "      <th>std_ic_t2o_mou_8</th>\n",
       "    </tr>\n",
       "  </thead>\n",
       "  <tbody>\n",
       "    <tr>\n",
       "      <th>0</th>\n",
       "      <td>109</td>\n",
       "      <td>0.0</td>\n",
       "      <td>0.0</td>\n",
       "      <td>0.0</td>\n",
       "      <td>0.0</td>\n",
       "      <td>0.0</td>\n",
       "      <td>0.0</td>\n",
       "      <td>0.0</td>\n",
       "      <td>0.0</td>\n",
       "      <td>0.0</td>\n",
       "    </tr>\n",
       "    <tr>\n",
       "      <th>7</th>\n",
       "      <td>109</td>\n",
       "      <td>0.0</td>\n",
       "      <td>0.0</td>\n",
       "      <td>0.0</td>\n",
       "      <td>0.0</td>\n",
       "      <td>0.0</td>\n",
       "      <td>0.0</td>\n",
       "      <td>0.0</td>\n",
       "      <td>0.0</td>\n",
       "      <td>0.0</td>\n",
       "    </tr>\n",
       "    <tr>\n",
       "      <th>8</th>\n",
       "      <td>109</td>\n",
       "      <td>0.0</td>\n",
       "      <td>0.0</td>\n",
       "      <td>0.0</td>\n",
       "      <td>0.0</td>\n",
       "      <td>0.0</td>\n",
       "      <td>0.0</td>\n",
       "      <td>0.0</td>\n",
       "      <td>0.0</td>\n",
       "      <td>0.0</td>\n",
       "    </tr>\n",
       "    <tr>\n",
       "      <th>21</th>\n",
       "      <td>109</td>\n",
       "      <td>0.0</td>\n",
       "      <td>0.0</td>\n",
       "      <td>0.0</td>\n",
       "      <td>0.0</td>\n",
       "      <td>0.0</td>\n",
       "      <td>0.0</td>\n",
       "      <td>0.0</td>\n",
       "      <td>0.0</td>\n",
       "      <td>0.0</td>\n",
       "    </tr>\n",
       "    <tr>\n",
       "      <th>23</th>\n",
       "      <td>109</td>\n",
       "      <td>0.0</td>\n",
       "      <td>0.0</td>\n",
       "      <td>0.0</td>\n",
       "      <td>0.0</td>\n",
       "      <td>0.0</td>\n",
       "      <td>0.0</td>\n",
       "      <td>0.0</td>\n",
       "      <td>0.0</td>\n",
       "      <td>0.0</td>\n",
       "    </tr>\n",
       "  </tbody>\n",
       "</table>\n",
       "</div>"
      ],
      "text/plain": [
       "    circle_id  loc_og_t2o_mou  std_og_t2o_mou  loc_ic_t2o_mou  \\\n",
       "0         109             0.0             0.0             0.0   \n",
       "7         109             0.0             0.0             0.0   \n",
       "8         109             0.0             0.0             0.0   \n",
       "21        109             0.0             0.0             0.0   \n",
       "23        109             0.0             0.0             0.0   \n",
       "\n",
       "    std_og_t2c_mou_6  std_og_t2c_mou_7  std_og_t2c_mou_8  std_ic_t2o_mou_6  \\\n",
       "0                0.0               0.0               0.0               0.0   \n",
       "7                0.0               0.0               0.0               0.0   \n",
       "8                0.0               0.0               0.0               0.0   \n",
       "21               0.0               0.0               0.0               0.0   \n",
       "23               0.0               0.0               0.0               0.0   \n",
       "\n",
       "    std_ic_t2o_mou_7  std_ic_t2o_mou_8  \n",
       "0                0.0               0.0  \n",
       "7                0.0               0.0  \n",
       "8                0.0               0.0  \n",
       "21               0.0               0.0  \n",
       "23               0.0               0.0  "
      ]
     },
     "execution_count": 48,
     "metadata": {},
     "output_type": "execute_result"
    }
   ],
   "source": [
    "churn_data_new[nunique_1.index].head()"
   ]
  },
  {
   "cell_type": "markdown",
   "metadata": {},
   "source": [
    "As we can see that apart from `circle_id`, all the other columns with only 1 unique value have `0`. \n",
    "\n",
    "Also as with no variance, it will not contribute to further analysis. So, we can drop them."
   ]
  },
  {
   "cell_type": "code",
   "execution_count": 49,
   "metadata": {},
   "outputs": [],
   "source": [
    "churn_data_new.drop(nunique_1.index,axis=1,inplace=True)"
   ]
  },
  {
   "cell_type": "code",
   "execution_count": 50,
   "metadata": {},
   "outputs": [
    {
     "data": {
      "text/plain": [
       "(29953, 158)"
      ]
     },
     "execution_count": 50,
     "metadata": {},
     "output_type": "execute_result"
    }
   ],
   "source": [
    "churn_data_new.shape"
   ]
  },
  {
   "cell_type": "code",
   "execution_count": null,
   "metadata": {},
   "outputs": [],
   "source": []
  },
  {
   "cell_type": "code",
   "execution_count": null,
   "metadata": {},
   "outputs": [],
   "source": []
  },
  {
   "cell_type": "code",
   "execution_count": null,
   "metadata": {},
   "outputs": [],
   "source": []
  },
  {
   "cell_type": "code",
   "execution_count": null,
   "metadata": {},
   "outputs": [],
   "source": []
  },
  {
   "cell_type": "code",
   "execution_count": null,
   "metadata": {},
   "outputs": [],
   "source": []
  },
  {
   "cell_type": "code",
   "execution_count": null,
   "metadata": {},
   "outputs": [],
   "source": []
  },
  {
   "cell_type": "code",
   "execution_count": null,
   "metadata": {},
   "outputs": [],
   "source": []
  },
  {
   "cell_type": "code",
   "execution_count": 51,
   "metadata": {},
   "outputs": [
    {
     "data": {
      "text/plain": [
       "['roam_og_mou_6',\n",
       " 'loc_og_t2t_mou_6',\n",
       " 'loc_og_t2m_mou_6',\n",
       " 'loc_og_t2f_mou_6',\n",
       " 'loc_og_t2c_mou_6',\n",
       " 'loc_og_mou_6',\n",
       " 'std_og_t2t_mou_6',\n",
       " 'std_og_t2m_mou_6',\n",
       " 'std_og_t2f_mou_6',\n",
       " 'std_og_mou_6',\n",
       " 'isd_og_mou_6',\n",
       " 'spl_og_mou_6',\n",
       " 'og_others_6']"
      ]
     },
     "execution_count": 51,
     "metadata": {},
     "output_type": "execute_result"
    }
   ],
   "source": [
    "cols=[col for col in churn_data_new.columns if (\"og\" in col) and (\"_6\" in col) and (\"total_og\" not in col)]\n",
    "cols"
   ]
  },
  {
   "cell_type": "code",
   "execution_count": null,
   "metadata": {},
   "outputs": [],
   "source": []
  },
  {
   "cell_type": "code",
   "execution_count": 52,
   "metadata": {},
   "outputs": [],
   "source": [
    "from sklearn.model_selection import train_test_split\n",
    "\n",
    "# To make sure that the train and test data set always have the same rows, respectively\n",
    "x_train, x_test = train_test_split(churn_data_new, train_size = 0.7, test_size = 0.3, random_state = 100)"
   ]
  },
  {
   "cell_type": "code",
   "execution_count": 53,
   "metadata": {},
   "outputs": [],
   "source": [
    "from sklearn.preprocessing import MinMaxScaler\n",
    "scaler = MinMaxScaler()"
   ]
  },
  {
   "cell_type": "code",
   "execution_count": 54,
   "metadata": {},
   "outputs": [
    {
     "ename": "NameError",
     "evalue": "name 'carprice_train' is not defined",
     "output_type": "error",
     "traceback": [
      "\u001b[1;31m---------------------------------------------------------------------------\u001b[0m",
      "\u001b[1;31mNameError\u001b[0m                                 Traceback (most recent call last)",
      "\u001b[1;32m<ipython-input-54-29232ddca8e5>\u001b[0m in \u001b[0;36m<module>\u001b[1;34m\u001b[0m\n\u001b[0;32m      2\u001b[0m \u001b[0mnum_vars\u001b[0m \u001b[1;33m=\u001b[0m \u001b[1;33m[\u001b[0m\u001b[1;34m'symboling'\u001b[0m\u001b[1;33m,\u001b[0m\u001b[1;34m'cylinder_number'\u001b[0m\u001b[1;33m,\u001b[0m\u001b[1;34m'wheelbase'\u001b[0m\u001b[1;33m,\u001b[0m\u001b[1;34m'carlength'\u001b[0m\u001b[1;33m,\u001b[0m\u001b[1;34m'carwidth'\u001b[0m\u001b[1;33m,\u001b[0m\u001b[1;34m'carheight'\u001b[0m\u001b[1;33m,\u001b[0m\u001b[1;34m'curbweight'\u001b[0m\u001b[1;33m,\u001b[0m\u001b[1;34m'enginesize'\u001b[0m\u001b[1;33m,\u001b[0m\u001b[1;34m'boreratio'\u001b[0m\u001b[1;33m,\u001b[0m\u001b[1;34m'stroke'\u001b[0m\u001b[1;33m,\u001b[0m\u001b[1;34m'compressionratio'\u001b[0m\u001b[1;33m,\u001b[0m\u001b[1;34m'horsepower'\u001b[0m\u001b[1;33m,\u001b[0m\u001b[1;34m'peakrpm'\u001b[0m\u001b[1;33m,\u001b[0m\u001b[1;34m'citympg'\u001b[0m\u001b[1;33m,\u001b[0m\u001b[1;34m'highwaympg'\u001b[0m\u001b[1;33m,\u001b[0m\u001b[1;34m'price'\u001b[0m\u001b[1;33m]\u001b[0m\u001b[1;33m\u001b[0m\u001b[1;33m\u001b[0m\u001b[0m\n\u001b[0;32m      3\u001b[0m \u001b[1;33m\u001b[0m\u001b[0m\n\u001b[1;32m----> 4\u001b[1;33m \u001b[0mcarprice_train\u001b[0m\u001b[1;33m[\u001b[0m\u001b[0mnum_vars\u001b[0m\u001b[1;33m]\u001b[0m \u001b[1;33m=\u001b[0m \u001b[0mscaler\u001b[0m\u001b[1;33m.\u001b[0m\u001b[0mfit_transform\u001b[0m\u001b[1;33m(\u001b[0m\u001b[0mcarprice_train\u001b[0m\u001b[1;33m[\u001b[0m\u001b[0mnum_vars\u001b[0m\u001b[1;33m]\u001b[0m\u001b[1;33m)\u001b[0m\u001b[1;33m\u001b[0m\u001b[1;33m\u001b[0m\u001b[0m\n\u001b[0m\u001b[0;32m      5\u001b[0m \u001b[1;33m\u001b[0m\u001b[0m\n\u001b[0;32m      6\u001b[0m \u001b[0mcarprice_train\u001b[0m\u001b[1;33m.\u001b[0m\u001b[0mhead\u001b[0m\u001b[1;33m(\u001b[0m\u001b[1;33m)\u001b[0m\u001b[1;33m\u001b[0m\u001b[1;33m\u001b[0m\u001b[0m\n",
      "\u001b[1;31mNameError\u001b[0m: name 'carprice_train' is not defined"
     ]
    }
   ],
   "source": [
    "# Apply scaler() to all the columns except the 'dummy' variables\n",
    "num_vars = ['symboling','cylinder_number','wheelbase','carlength','carwidth','carheight','curbweight','enginesize','boreratio','stroke','compressionratio','horsepower','peakrpm','citympg','highwaympg','price']\n",
    "\n",
    "carprice_train[num_vars] = scaler.fit_transform(carprice_train[num_vars])\n",
    "\n",
    "carprice_train.head()"
   ]
  },
  {
   "cell_type": "code",
   "execution_count": null,
   "metadata": {},
   "outputs": [],
   "source": [
    "#Importing the PCA module\n",
    "from sklearn.decomposition import PCA\n",
    "pca = PCA( random_state=100)"
   ]
  },
  {
   "cell_type": "code",
   "execution_count": null,
   "metadata": {},
   "outputs": [],
   "source": [
    "#Doing the PCA on the train data\n",
    "pca.fit(x_train)"
   ]
  },
  {
   "cell_type": "code",
   "execution_count": null,
   "metadata": {},
   "outputs": [],
   "source": [
    "#Let's check the components\n",
    "pca.components_"
   ]
  },
  {
   "cell_type": "code",
   "execution_count": null,
   "metadata": {},
   "outputs": [],
   "source": [
    "components = pd.DataFrame({'PC1':pca.components_[0],'PC2':pca.components_[1],'Feature':X.columns })\n",
    "components"
   ]
  },
  {
   "cell_type": "code",
   "execution_count": null,
   "metadata": {},
   "outputs": [],
   "source": []
  },
  {
   "cell_type": "code",
   "execution_count": null,
   "metadata": {},
   "outputs": [],
   "source": []
  }
 ],
 "metadata": {
  "kernelspec": {
   "display_name": "Python 3",
   "language": "python",
   "name": "python3"
  },
  "language_info": {
   "codemirror_mode": {
    "name": "ipython",
    "version": 3
   },
   "file_extension": ".py",
   "mimetype": "text/x-python",
   "name": "python",
   "nbconvert_exporter": "python",
   "pygments_lexer": "ipython3",
   "version": "3.7.1"
  }
 },
 "nbformat": 4,
 "nbformat_minor": 2
}
